{
  "nbformat": 4,
  "nbformat_minor": 0,
  "metadata": {
    "colab": {
      "name": "CE - ListaQuestão2.ipynb",
      "provenance": [],
      "collapsed_sections": [],
      "authorship_tag": "ABX9TyN6fB37U1pC9LSxtNOEy0A4",
      "include_colab_link": true
    },
    "kernelspec": {
      "name": "python3",
      "display_name": "Python 3"
    },
    "language_info": {
      "name": "python"
    }
  },
  "cells": [
    {
      "cell_type": "markdown",
      "metadata": {
        "id": "view-in-github",
        "colab_type": "text"
      },
      "source": [
        "<a href=\"https://colab.research.google.com/github/Arthur2303/Circuitos-Eletricos-I/blob/main/CE_ListaQuest%C3%A3o2.ipynb\" target=\"_parent\"><img src=\"https://colab.research.google.com/assets/colab-badge.svg\" alt=\"Open In Colab\"/></a>"
      ]
    },
    {
      "cell_type": "code",
      "execution_count": 80,
      "metadata": {
        "id": "qJeKbXHvml7T",
        "colab": {
          "base_uri": "https://localhost:8080/",
          "height": 0
        },
        "outputId": "bd629e25-a970-46e9-ee6c-5e7c3c593506"
      },
      "outputs": [
        {
          "output_type": "stream",
          "name": "stdout",
          "text": [
            "fatal: destination path 'ElectricCircuits' already exists and is not an empty directory.\n"
          ]
        }
      ],
      "source": [
        "import sys\n",
        "!git clone https://github.com/edsonportosilva/ElectricCircuits.git\n",
        "sys.path.insert(0, '/content/ElectricCircuits/Jupyter notebooks/')"
      ]
    },
    {
      "cell_type": "code",
      "source": [
        "import matplotlib.pyplot as plt\n",
        "import numpy as np\n",
        "import sympy as sp\n",
        "from utils import round_expr, symdisp, symplot\n",
        "\n",
        "from sympy.polys.partfrac import apart\n",
        "\n",
        "# temp workaround\n",
        "import warnings\n",
        "from matplotlib import MatplotlibDeprecationWarning\n",
        "warnings.filterwarnings('ignore', category=MatplotlibDeprecationWarning)\n",
        "\n",
        "plt.rcParams['figure.figsize'] = 6, 4\n",
        "plt.rcParams['legend.fontsize'] = 13\n",
        "plt.rcParams['lines.linewidth'] = 2\n",
        "plt.rcParams['axes.grid'] = False"
      ],
      "metadata": {
        "id": "aBEvzJMWnZgg"
      },
      "execution_count": 81,
      "outputs": []
    },
    {
      "cell_type": "code",
      "source": [
        "from google.colab import drive\n",
        "drive.mount('/content/drive')"
      ],
      "metadata": {
        "id": "Zkoa0kVWlftb",
        "colab": {
          "base_uri": "https://localhost:8080/",
          "height": 0
        },
        "outputId": "5cc3d19b-b326-4553-d8bb-6bfba7d971bd"
      },
      "execution_count": 82,
      "outputs": [
        {
          "output_type": "stream",
          "name": "stdout",
          "text": [
            "Drive already mounted at /content/drive; to attempt to forcibly remount, call drive.mount(\"/content/drive\", force_remount=True).\n"
          ]
        }
      ]
    },
    {
      "cell_type": "code",
      "execution_count": 83,
      "metadata": {
        "ExecuteTime": {
          "end_time": "2021-10-05T12:56:46.469987Z",
          "start_time": "2021-10-05T12:56:46.442003Z"
        },
        "id": "WG___iVyiQU4"
      },
      "outputs": [],
      "source": [
        "# transformada de Laplace\n",
        "def L(f,t,s):\n",
        "    return sp.laplace_transform(f, t, s, noconds=True)\n",
        "\n",
        "# transformada inversa de Laplace\n",
        "def invL(F,s,t):\n",
        "    return sp.re(sp.inverse_laplace_transform(F, s, t, noconds=True))\n",
        "\n",
        "# funções para auxílio na expansão em frações parciais\n",
        "def adjustCoeff(expr):    \n",
        "    coeff = expr.as_numer_denom()\n",
        "    c0 = sp.poly(coeff[1].cancel()).coeffs()[0]\n",
        "    \n",
        "    return (coeff[0].cancel()/c0)/(coeff[1].cancel()/c0)\n",
        "\n",
        "def partFrac(expr, Ndigits):\n",
        "    expr = expr.cancel()\n",
        "    expr = apart(adjustCoeff(expr), s, full=True).doit()\n",
        "    \n",
        "    return sp.N(expr, Ndigits)\n",
        "\n",
        "sp.init_printing()"
      ]
    },
    {
      "cell_type": "markdown",
      "metadata": {
        "id": "zYh1xyBjiQU5"
      },
      "source": [
        "#### Definindo algumas variáveis simbólicas de interesse"
      ]
    },
    {
      "cell_type": "code",
      "execution_count": 84,
      "metadata": {
        "ExecuteTime": {
          "end_time": "2021-10-05T12:56:46.484977Z",
          "start_time": "2021-10-05T12:56:46.472985Z"
        },
        "id": "Eqs912egiQU5"
      },
      "outputs": [],
      "source": [
        "s     = sp.symbols('s')\n",
        "a     = sp.symbols('a', real=True, positive=True)\n",
        "omega, t = sp.symbols('omega, t', real=True)\n",
        "infty = sp.oo"
      ]
    },
    {
      "cell_type": "markdown",
      "metadata": {
        "id": "gEA4LJ9tiQU6"
      },
      "source": [
        "### b. Para a fonte de $\\frac{10}{s}$ $Vs$:"
      ]
    },
    {
      "cell_type": "code",
      "execution_count": 110,
      "metadata": {
        "ExecuteTime": {
          "end_time": "2021-10-05T12:56:47.065150Z",
          "start_time": "2021-10-05T12:56:46.486976Z"
        },
        "id": "mhTBbpmSiQU7",
        "colab": {
          "base_uri": "https://localhost:8080/",
          "height": 308
        },
        "outputId": "8dc8516e-bf36-4a96-e5a5-3684120108ef"
      },
      "outputs": [
        {
          "output_type": "stream",
          "name": "stdout",
          "text": [
            "Tensões dos nós no domínio de Laplace: \n",
            "\n"
          ]
        },
        {
          "output_type": "display_data",
          "data": {
            "text/plain": [
              "<IPython.core.display.Math object>"
            ],
            "text/latex": "$\\displaystyle VA_{1}(s) =\\frac{10.0 s \\left(s + 4.0\\right)}{s^{3} + 4.0 s^{2} + 16000.0 s + 32000.0}\\;Vs$"
          },
          "metadata": {}
        },
        {
          "output_type": "stream",
          "name": "stdout",
          "text": [
            "\n",
            "\n"
          ]
        },
        {
          "output_type": "display_data",
          "data": {
            "text/plain": [
              "<IPython.core.display.Math object>"
            ],
            "text/latex": "$\\displaystyle I1(s) =- \\frac{20.0 s + 80.0}{s^{3} + 4.0 s^{2} + 16000.0 s + 32000.0}\\;As$"
          },
          "metadata": {}
        },
        {
          "output_type": "stream",
          "name": "stdout",
          "text": [
            "\n",
            "\n"
          ]
        },
        {
          "output_type": "display_data",
          "data": {
            "text/plain": [
              "<IPython.core.display.Math object>"
            ],
            "text/latex": "$\\displaystyle I_{L1}(s) =\\frac{10.0 s}{0.5 s^{3} + 2.0 s^{2} + 8000.0 s + 16000.0}\\;As$"
          },
          "metadata": {}
        },
        {
          "output_type": "stream",
          "name": "stdout",
          "text": [
            "\n",
            "\n"
          ]
        },
        {
          "output_type": "display_data",
          "data": {
            "text/plain": [
              "<IPython.core.display.Math object>"
            ],
            "text/latex": "$\\displaystyle I_{C1}(s) =- \\frac{40.0 s + 80.0}{1.0 s^{3} + 4.0 s^{2} + 16000.0 s + 32000.0}\\;As$"
          },
          "metadata": {}
        }
      ],
      "source": [
        "VA1, I1, I_l1, I_c1, V_c1,s = sp.symbols('VA_1, I1, I_L1, I_C1, V_c1, s')\n",
        "\n",
        "# define os sistema de equações\n",
        "eq1 = sp.Eq( VA1/(2+s*0.5) + (VA1- 10/s)/(1/(0.00025*s)) , (-VA1 /(s*0.5)) )             \n",
        "\n",
        "# resolve o sistema\n",
        "soluc = sp.solve(eq1, VA1, dict=True)\n",
        "soluc\n",
        "\n",
        "VA1 = [sol[VA1] for sol in soluc]\n",
        "\n",
        "VA1 = VA1[0]\n",
        "I1 = -VA1 /(s*0.5)\n",
        "I_l1 = VA1/(2+s*0.5)\n",
        "I_c1 = (VA1 - 10/s)/(1/(0.00025*s))\n",
        "\n",
        "print('Tensões dos nós no domínio de Laplace: \\n')\n",
        "symdisp('VA_{1}(s) =', VA1.simplify(), 'Vs')\n",
        "print(\"\\n\")\n",
        "symdisp('I1(s) =', I1.simplify(), 'As')\n",
        "print(\"\\n\")\n",
        "symdisp('I_{L1}(s) =', I_l1.simplify(), 'As')\n",
        "print(\"\\n\")\n",
        "symdisp('I_{C1}(s) =', I_c1.simplify(), 'As')"
      ]
    },
    {
      "cell_type": "code",
      "execution_count": 112,
      "metadata": {
        "id": "x6JTjV0miQU8",
        "colab": {
          "base_uri": "https://localhost:8080/",
          "height": 128
        },
        "outputId": "0d619505-935b-4547-c5ac-f1c2e2d52b7d"
      },
      "outputs": [
        {
          "output_type": "display_data",
          "data": {
            "text/plain": [
              "<IPython.core.display.Math object>"
            ],
            "text/latex": "$\\displaystyle Vc_1 = - \\frac{160000.0 s + 320000.0}{s \\left(1.0 s^{3} + 4.0 s^{2} + 16000.0 s + 32000.0\\right)}\\;Vs$"
          },
          "metadata": {}
        },
        {
          "output_type": "stream",
          "name": "stdout",
          "text": [
            "\n",
            "\n"
          ]
        },
        {
          "output_type": "display_data",
          "data": {
            "text/plain": [
              "<IPython.core.display.Math object>"
            ],
            "text/latex": "$\\displaystyle I_{l1} = \\frac{10.0 s}{0.5 s^{3} + 2.0 s^{2} + 8000.0 s + 16000.0}\\;As$"
          },
          "metadata": {}
        }
      ],
      "source": [
        "# Determinando a tensão no capacitor e correntes no indutor L.\n",
        "V_c1 = (1/(0.00025*s))*I_c1\n",
        "I_l1 = I_l1\n",
        "\n",
        "symdisp(\"Vc_1 = \", round_expr(V_c1.simplify(),2),\"Vs\")\n",
        "print(\"\\n\")\n",
        "symdisp(\"I_{l1} = \", round_expr(I_l1.simplify(),2),\"As\")"
      ]
    },
    {
      "cell_type": "code",
      "source": [
        "vc_0_tvi = sp.limit(s*V_c1, s, infty)\n",
        "i1_0_tvi = sp.limit(s*I_l1, s, infty)\n",
        "\n",
        "print('TVI')\n",
        "symdisp('vc_0(0^+) = ', vc_0_tvi, ' V' )\n",
        "symdisp('i_{L0}(0^+) = ', i1_0_tvi, ' A' )\n",
        "\n",
        "vc_0_tvf = sp.limit(s*V_c1, s, 0)\n",
        "i1_inf_tvf = sp.limit(s*I_l1, s, 0)\n",
        "\n",
        "print('TVF')\n",
        "symdisp('vc_0(+\\infty) = ', vc_0_tvf, ' V' )\n",
        "symdisp('i_{Lf}(+\\infty) = ', i1_inf_tvf, ' A' )"
      ],
      "metadata": {
        "colab": {
          "base_uri": "https://localhost:8080/",
          "height": 140
        },
        "id": "RWGwg0pXSdt9",
        "outputId": "186d7697-c345-4e76-e695-8062457006aa"
      },
      "execution_count": 113,
      "outputs": [
        {
          "output_type": "stream",
          "name": "stdout",
          "text": [
            "TVI\n"
          ]
        },
        {
          "output_type": "display_data",
          "data": {
            "text/plain": [
              "<IPython.core.display.Math object>"
            ],
            "text/latex": "$\\displaystyle vc_0(0^+) = 0\\; V$"
          },
          "metadata": {}
        },
        {
          "output_type": "display_data",
          "data": {
            "text/plain": [
              "<IPython.core.display.Math object>"
            ],
            "text/latex": "$\\displaystyle i_{L0}(0^+) = 0\\; A$"
          },
          "metadata": {}
        },
        {
          "output_type": "stream",
          "name": "stdout",
          "text": [
            "TVF\n"
          ]
        },
        {
          "output_type": "display_data",
          "data": {
            "text/plain": [
              "<IPython.core.display.Math object>"
            ],
            "text/latex": "$\\displaystyle vc_0(+\\infty) = -10.0\\; V$"
          },
          "metadata": {}
        },
        {
          "output_type": "display_data",
          "data": {
            "text/plain": [
              "<IPython.core.display.Math object>"
            ],
            "text/latex": "$\\displaystyle i_{Lf}(+\\infty) = 0\\; A$"
          },
          "metadata": {}
        }
      ]
    },
    {
      "cell_type": "markdown",
      "source": [
        "### b. Para a fonte de $\\frac{20}{s}$ $Vs$:"
      ],
      "metadata": {
        "id": "eCkBatoRt0IQ"
      }
    },
    {
      "cell_type": "code",
      "source": [
        "VA2, I, I_l, I_c, Vc_2,s = sp.symbols('VA_2, I, I_l, I_c, Vc_2, s')\n",
        "\n",
        "# define os sistema de equações\n",
        "eq1 = sp.Eq( VA2/(2+(s*0.5)) + VA2/(1/(0.00025*s)) , (((20/s)-VA2) /(s*0.5)) )             \n",
        "\n",
        "# resolve o sistema\n",
        "soluc = sp.solve(eq1, VA2, dict=True)\n",
        "soluc\n",
        "\n",
        "VA2 = [sol[VA2] for sol in soluc]\n",
        "\n",
        "VA2 = VA2[0]\n",
        "I = ((20/s) -VA2) /(s*0.5)\n",
        "I_l = VA2/(2+s*0.5)\n",
        "I_c = VA2/(1/(0.00025*s))\n",
        "\n",
        "print('Tensões dos nós no domínio de Laplace: \\n')\n",
        "symdisp('VA_2(s) =', VA2.simplify(), 'Vs')\n",
        "print(\"\\n\")\n",
        "symdisp('I(s) =', I.simplify(), 'As')\n",
        "print(\"\\n\")\n",
        "symdisp('I_l(s) =', I_l.simplify(), 'As')\n",
        "print(\"\\n\")\n",
        "symdisp('I_c(s) =', I_c.simplify(), 'As')"
      ],
      "metadata": {
        "colab": {
          "base_uri": "https://localhost:8080/",
          "height": 318
        },
        "id": "h1cnuHXXt24Q",
        "outputId": "21a2141b-634f-4145-8925-971adfd83c25"
      },
      "execution_count": 147,
      "outputs": [
        {
          "output_type": "stream",
          "name": "stdout",
          "text": [
            "Tensões dos nós no domínio de Laplace: \n",
            "\n"
          ]
        },
        {
          "output_type": "display_data",
          "data": {
            "text/plain": [
              "<IPython.core.display.Math object>"
            ],
            "text/latex": "$\\displaystyle VA_2(s) =\\frac{160000.0 s + 640000.0}{s \\left(s^{3} + 4.0 s^{2} + 16000.0 s + 32000.0\\right)}\\;Vs$"
          },
          "metadata": {}
        },
        {
          "output_type": "stream",
          "name": "stdout",
          "text": [
            "\n",
            "\n"
          ]
        },
        {
          "output_type": "display_data",
          "data": {
            "text/plain": [
              "<IPython.core.display.Math object>"
            ],
            "text/latex": "$\\displaystyle I(s) =\\frac{40.0 s^{2} + 160.0 s + 320000.0}{s \\left(1.0 s^{3} + 4.0 s^{2} + 16000.0 s + 32000.0\\right)}\\;As$"
          },
          "metadata": {}
        },
        {
          "output_type": "stream",
          "name": "stdout",
          "text": [
            "\n",
            "\n"
          ]
        },
        {
          "output_type": "display_data",
          "data": {
            "text/plain": [
              "<IPython.core.display.Math object>"
            ],
            "text/latex": "$\\displaystyle I_l(s) =\\frac{160000.0}{s \\left(0.5 s^{3} + 2.0 s^{2} + 8000.0 s + 16000.0\\right)}\\;As$"
          },
          "metadata": {}
        },
        {
          "output_type": "stream",
          "name": "stdout",
          "text": [
            "\n",
            "\n"
          ]
        },
        {
          "output_type": "display_data",
          "data": {
            "text/plain": [
              "<IPython.core.display.Math object>"
            ],
            "text/latex": "$\\displaystyle I_c(s) =\\frac{40.0 s + 160.0}{s^{3} + 4.0 s^{2} + 16000.0 s + 32000.0}\\;As$"
          },
          "metadata": {}
        }
      ]
    },
    {
      "cell_type": "code",
      "source": [
        "# Determinando a tensão no capacitor e corrente no indutor L.\n",
        "Vc_2 = (1/(0.00025*s))*I_c\n",
        "I_l = I_l\n",
        "\n",
        "symdisp(\"Vc_2 = \", round_expr(Vc_2.simplify(),2),\"Vs\")\n",
        "print(\"\\n\")\n",
        "symdisp(\"I_l = \", round_expr(I_l.simplify(),2),\"As\")"
      ],
      "metadata": {
        "colab": {
          "base_uri": "https://localhost:8080/",
          "height": 130
        },
        "id": "vaTUDEOfxZpk",
        "outputId": "d69582bf-ac20-4a31-a189-5b1a8f90b695"
      },
      "execution_count": 148,
      "outputs": [
        {
          "output_type": "display_data",
          "data": {
            "text/plain": [
              "<IPython.core.display.Math object>"
            ],
            "text/latex": "$\\displaystyle Vc_2 = \\frac{160000.0 s + 640000.0}{s \\left(s^{3} + 4.0 s^{2} + 16000.0 s + 32000.0\\right)}\\;Vs$"
          },
          "metadata": {}
        },
        {
          "output_type": "stream",
          "name": "stdout",
          "text": [
            "\n",
            "\n"
          ]
        },
        {
          "output_type": "display_data",
          "data": {
            "text/plain": [
              "<IPython.core.display.Math object>"
            ],
            "text/latex": "$\\displaystyle I_l = \\frac{160000.0}{s \\left(0.5 s^{3} + 2.0 s^{2} + 8000.0 s + 16000.0\\right)}\\;As$"
          },
          "metadata": {}
        }
      ]
    },
    {
      "cell_type": "code",
      "source": [
        "# Fonte de 20/s \n",
        "vc_0_tvi = sp.limit(s*Vc_2, s, infty)\n",
        "i1_0_tvi = sp.limit(s*I_l, s, infty)\n",
        "\n",
        "print('TVI')\n",
        "symdisp('vc_0(0^+) = ', vc_0_tvi, ' V' )\n",
        "symdisp('i_{L0}(0^+) = ', i1_0_tvi, ' A' )\n",
        "\n",
        "vc_0_tvf = sp.limit(s*Vc_2, s, 0)\n",
        "i1_inf_tvf = sp.limit(s*I_l, s, 0)\n",
        "\n",
        "print('TVF')\n",
        "symdisp('vc_0(+\\infty) = ', vc_0_tvf, ' V' )\n",
        "symdisp('i_{Lf}(+\\infty) = ', i1_inf_tvf, ' A' )"
      ],
      "metadata": {
        "colab": {
          "base_uri": "https://localhost:8080/",
          "height": 140
        },
        "id": "9VJzHWR_Srvs",
        "outputId": "43207358-a1b8-46e4-f7bf-075be56c6763"
      },
      "execution_count": 149,
      "outputs": [
        {
          "output_type": "stream",
          "name": "stdout",
          "text": [
            "TVI\n"
          ]
        },
        {
          "output_type": "display_data",
          "data": {
            "text/plain": [
              "<IPython.core.display.Math object>"
            ],
            "text/latex": "$\\displaystyle vc_0(0^+) = 0\\; V$"
          },
          "metadata": {}
        },
        {
          "output_type": "display_data",
          "data": {
            "text/plain": [
              "<IPython.core.display.Math object>"
            ],
            "text/latex": "$\\displaystyle i_{L0}(0^+) = 0\\; A$"
          },
          "metadata": {}
        },
        {
          "output_type": "stream",
          "name": "stdout",
          "text": [
            "TVF\n"
          ]
        },
        {
          "output_type": "display_data",
          "data": {
            "text/plain": [
              "<IPython.core.display.Math object>"
            ],
            "text/latex": "$\\displaystyle vc_0(+\\infty) = 20.0\\; V$"
          },
          "metadata": {}
        },
        {
          "output_type": "display_data",
          "data": {
            "text/plain": [
              "<IPython.core.display.Math object>"
            ],
            "text/latex": "$\\displaystyle i_{Lf}(+\\infty) = 10.0\\; A$"
          },
          "metadata": {}
        }
      ]
    },
    {
      "cell_type": "markdown",
      "source": [
        "**Contribuição Final**"
      ],
      "metadata": {
        "id": "eD_cshbBTZTH"
      }
    },
    {
      "cell_type": "code",
      "source": [
        "# Determinando a contribuição final da tensões Vc e correntes IL\n",
        "VC, IL, s = sp.symbols('V_C, I_L, s')\n",
        "\n",
        "V_c1 = round_expr(V_c1.simplify(),2)\n",
        "Vc_2 = round_expr(Vc_2.simplify(),2)\n",
        "\n",
        "VC = (V_c1 + Vc_2).expand().simplify()\n",
        "IL = (I_l + I_l1).expand().simplify()\n",
        "\n",
        "symdisp(\"V_C = \", VC,\"Vs\")\n",
        "symdisp(\"I_L = \", round_expr(IL.simplify(),2),\"As\")"
      ],
      "metadata": {
        "colab": {
          "base_uri": "https://localhost:8080/",
          "height": 133
        },
        "id": "cyQcTgrgztAN",
        "outputId": "d863de06-8e47-4457-bda8-aad88e469fd8"
      },
      "execution_count": 220,
      "outputs": [
        {
          "output_type": "stream",
          "name": "stdout",
          "text": [
            "\n",
            "\n"
          ]
        },
        {
          "output_type": "display_data",
          "data": {
            "text/plain": [
              "<IPython.core.display.Math object>"
            ],
            "text/latex": "$\\displaystyle V_C = \\frac{320000.0}{s \\left(1.0 s^{3} + 4.0 s^{2} + 16000.0 s + 32000.0\\right)}\\;Vs$"
          },
          "metadata": {}
        },
        {
          "output_type": "display_data",
          "data": {
            "text/plain": [
              "<IPython.core.display.Math object>"
            ],
            "text/latex": "$\\displaystyle I_L = \\frac{10.0 s^{2} + 160000.0}{s \\left(0.5 s^{3} + 2.0 s^{2} + 8000.0 s + 16000.0\\right)}\\;As$"
          },
          "metadata": {}
        }
      ]
    },
    {
      "cell_type": "markdown",
      "metadata": {
        "id": "CEpe37OdiQU8"
      },
      "source": [
        "**TVI e TVF contribuição final**"
      ]
    },
    {
      "cell_type": "code",
      "execution_count": 213,
      "metadata": {
        "id": "N-6MjMpXiQU8",
        "colab": {
          "base_uri": "https://localhost:8080/",
          "height": 178
        },
        "outputId": "7b2e934a-d154-4e25-f996-4e84a9f27004"
      },
      "outputs": [
        {
          "output_type": "display_data",
          "data": {
            "text/plain": [
              "<IPython.core.display.Math object>"
            ],
            "text/latex": "$\\displaystyle V_C(s) = \\frac{5.0 s + 10.0}{s \\left(0.25 s^{2} + 1.0 s + 1.0\\right)}\\; Vs$"
          },
          "metadata": {}
        },
        {
          "output_type": "stream",
          "name": "stdout",
          "text": [
            "TVI\n"
          ]
        },
        {
          "output_type": "display_data",
          "data": {
            "text/plain": [
              "<IPython.core.display.Math object>"
            ],
            "text/latex": "$\\displaystyle vc_0(0^+) = 0\\; V$"
          },
          "metadata": {}
        },
        {
          "output_type": "display_data",
          "data": {
            "text/plain": [
              "<IPython.core.display.Math object>"
            ],
            "text/latex": "$\\displaystyle i_{L0}(0^+) = 0\\; A$"
          },
          "metadata": {}
        },
        {
          "output_type": "stream",
          "name": "stdout",
          "text": [
            "TVF\n"
          ]
        },
        {
          "output_type": "display_data",
          "data": {
            "text/plain": [
              "<IPython.core.display.Math object>"
            ],
            "text/latex": "$\\displaystyle vc_0(+\\infty) = 10.0\\; V$"
          },
          "metadata": {}
        },
        {
          "output_type": "display_data",
          "data": {
            "text/plain": [
              "<IPython.core.display.Math object>"
            ],
            "text/latex": "$\\displaystyle i_{Lf}(+\\infty) = 10.0\\; A$"
          },
          "metadata": {}
        }
      ],
      "source": [
        "symdisp('V_C(s) = ', round_expr(VC.simplify(),2) , ' Vs' )\n",
        "\n",
        "vc_0_tvi = sp.limit(s*VC, s, infty)\n",
        "i1_0_tvi = sp.limit(s*IL, s, infty)\n",
        "\n",
        "print('TVI')\n",
        "symdisp('vc_0(0^+) = ', vc_0_tvi, ' V' )\n",
        "symdisp('i_{L0}(0^+) = ', i1_0_tvi, ' A' )\n",
        "\n",
        "vc_0_tvf = sp.limit(s*VC, s, 0)\n",
        "i1_inf_tvf = sp.limit(s*IL, s, 0)\n",
        "\n",
        "print('TVF')\n",
        "symdisp('vc_0(+\\infty) = ', vc_0_tvf, ' V' )\n",
        "symdisp('i_{Lf}(+\\infty) = ', i1_inf_tvf, ' A' )"
      ]
    },
    {
      "cell_type": "markdown",
      "source": [
        "C. Determina $i_L(t)$ e $v_C(t)$:"
      ],
      "metadata": {
        "id": "HC9veyt_HQvS"
      }
    },
    {
      "cell_type": "code",
      "source": [
        "# Tirando as raízes do D(s)\n",
        "np.roots([1, 4, 16000, 32000, 0])"
      ],
      "metadata": {
        "colab": {
          "base_uri": "https://localhost:8080/",
          "height": 0
        },
        "id": "keFfuSEEHZ-r",
        "outputId": "d1826f59-ec8d-4027-c9af-3936a68fcadc"
      },
      "execution_count": 153,
      "outputs": [
        {
          "output_type": "execute_result",
          "data": {
            "text/plain": [
              "array([-0.99974994+126.47134261j, -0.99974994-126.47134261j,\n",
              "       -2.00050012  +0.j        ,  0.          +0.j        ])"
            ]
          },
          "metadata": {},
          "execution_count": 153
        }
      ]
    },
    {
      "cell_type": "code",
      "source": [
        "# Dados colocados foram encontrados a partir da expansão em frações parciais e inversas feitas à mão.\n",
        "\n",
        "i_l = (10 - 10*sp.exp(-2*t) + 2*sp.exp(-0.99975*t)*( 0.00128*sp.cos(126.4713*t) + 0.0002*sp.sin(126.4713*t)))*sp.Heaviside(t)\n",
        "\n",
        "symdisp('i_L(t) = ', i_l, 'A')"
      ],
      "metadata": {
        "colab": {
          "base_uri": "https://localhost:8080/",
          "height": 38
        },
        "id": "80lISvXGr6cY",
        "outputId": "c9b0790e-21ef-43a1-a18b-cdf2f5f9d025"
      },
      "execution_count": 171,
      "outputs": [
        {
          "output_type": "display_data",
          "data": {
            "text/plain": [
              "<IPython.core.display.Math object>"
            ],
            "text/latex": "$\\displaystyle i_L(t) = \\left(2 \\left(0.0002 \\sin{\\left(126.4713 t \\right)} + 0.00128 \\cos{\\left(126.4713 t \\right)}\\right) e^{- 0.99975 t} + 10 - 10 e^{- 2 t}\\right) \\theta\\left(t\\right)\\;A$"
          },
          "metadata": {}
        }
      ]
    },
    {
      "cell_type": "code",
      "source": [
        "# plota funções no domínio do tempo\n",
        "# plot IL\n",
        "intervalo = np.arange(-0.15, 1, 0.0005)\n",
        "symplot(t, i_l, intervalo, 'i_L(t)')"
      ],
      "metadata": {
        "colab": {
          "base_uri": "https://localhost:8080/",
          "height": 279
        },
        "id": "5c1ONV4FuTFo",
        "outputId": "3baf15ac-19a3-4491-b60e-862c53e8c4c3"
      },
      "execution_count": 168,
      "outputs": [
        {
          "output_type": "execute_result",
          "data": {
            "text/plain": [
              "<Figure size 432x288 with 1 Axes>"
            ],
            "image/png": "[encoded data removed]"
          },
          "metadata": {},
          "execution_count": 168
        }
      ]
    },
    {
      "cell_type": "code",
      "source": [
        "v_c = (10 - 10*sp.exp(-2*t) + 2*sp.exp(-0.9997*t)*( -0.0000037518*sp.cos(126.4713*t) + 0.07908*sp.sin(126.4713*t)))*sp.Heaviside(t)\n",
        "\n",
        "symdisp('v_C(t) = ', v_c, 'V')"
      ],
      "metadata": {
        "colab": {
          "base_uri": "https://localhost:8080/",
          "height": 38
        },
        "id": "x0levFSv1pMC",
        "outputId": "41b41f91-0fdd-4bfd-9d43-13818e96717c"
      },
      "execution_count": 222,
      "outputs": [
        {
          "output_type": "display_data",
          "data": {
            "text/plain": [
              "<IPython.core.display.Math object>"
            ],
            "text/latex": "$\\displaystyle v_C(t) = \\left(2 \\left(0.07908 \\sin{\\left(126.4713 t \\right)} - 3.7518 \\cdot 10^{-6} \\cos{\\left(126.4713 t \\right)}\\right) e^{- 0.9997 t} + 10 - 10 e^{- 2 t}\\right) \\theta\\left(t\\right)\\;V$"
          },
          "metadata": {}
        }
      ]
    },
    {
      "cell_type": "code",
      "source": [
        "# plota funções no domínio do tempo\n",
        "# plot Vc(t)\n",
        "intervalo = np.arange(-0.15, 0.8, 0.00005)\n",
        "symplot(t, v_c, intervalo, 'v_C(t)')"
      ],
      "metadata": {
        "colab": {
          "base_uri": "https://localhost:8080/",
          "height": 279
        },
        "id": "TM-FFE891kZu",
        "outputId": "9d956001-152c-4f48-ccc8-0d6fbd09bb39"
      },
      "execution_count": 223,
      "outputs": [
        {
          "output_type": "execute_result",
          "data": {
            "text/plain": [
              "<Figure size 432x288 with 1 Axes>"
            ],
            "image/png": "[encoded data removed]"
          },
          "metadata": {},
          "execution_count": 223
        }
      ]
    },
    {
      "cell_type": "markdown",
      "source": [
        "![image.png](data:image/png;base64,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)"
      ],
      "metadata": {
        "id": "2o3ZS6oAdK4X"
      }
    }
  ]
}