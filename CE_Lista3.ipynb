{
  "nbformat": 4,
  "nbformat_minor": 0,
  "metadata": {
    "colab": {
      "provenance": [],
      "authorship_tag": "ABX9TyMEp8ln3V0LyZa5A8Jd/Ev0",
      "include_colab_link": true
    },
    "kernelspec": {
      "name": "python3",
      "display_name": "Python 3"
    },
    "language_info": {
      "name": "python"
    }
  },
  "cells": [
    {
      "cell_type": "markdown",
      "metadata": {
        "id": "view-in-github",
        "colab_type": "text"
      },
      "source": [
        "<a href=\"https://colab.research.google.com/github/Arthur2303/Circuitos-Eletricos-I/blob/main/CE_Lista3.ipynb\" target=\"_parent\"><img src=\"https://colab.research.google.com/assets/colab-badge.svg\" alt=\"Open In Colab\"/></a>"
      ]
    },
    {
      "cell_type": "code",
      "execution_count": null,
      "metadata": {
        "id": "4Pr-1txm_cVy"
      },
      "outputs": [],
      "source": [
        "from IPython.core.display import HTML\n",
        "from IPython.display import Image\n",
        "HTML(\"\"\"\n",
        "\n",
        ".output_png {\n",
        "    display: table-cell;\n",
        "    text-align: center;\n",
        "    vertical-align: middle;\n",
        "}\n",
        "\n",
        "\"\"\")\n",
        "\n",
        "if 'google.colab' in str(get_ipython()):    \n",
        "    ! git clone -b master https://github.com/edsonportosilva/ElectricCircuits\n",
        "    from os import chdir as cd\n",
        "    cd('/content/ElectricCircuits/')\n",
        "    ! pip install -e .\n",
        "    \n",
        "import numpy as np\n",
        "import sympy as sp\n",
        "import matplotlib.pyplot as plt\n",
        "from circuit.utils import round_expr, symdisp, symplot\n",
        "\n",
        "from sympy.polys.partfrac import apart\n",
        "from sympy.tensor.array.ndim_array import sympify\n",
        "\n",
        "# temp workaround\n",
        "import warnings\n",
        "from matplotlib import MatplotlibDeprecationWarning\n",
        "warnings.filterwarnings('ignore')\n",
        "\n",
        "plt.rcParams['figure.figsize'] = 10, 6\n",
        "plt.rcParams['legend.fontsize'] = 13\n",
        "plt.rcParams['lines.linewidth'] = 2\n",
        "plt.rcParams['axes.grid'] = False"
      ]
    },
    {
      "cell_type": "markdown",
      "source": [
        "__Definindo algumas variáveis simbólicas__"
      ],
      "metadata": {
        "id": "INEzQpC-AOOz"
      }
    },
    {
      "cell_type": "code",
      "source": [
        "s     = sp.symbols('s')\n",
        "a     = sp.symbols('a', real=True, positive=True)\n",
        "omega, t, τ = sp.symbols('omega, t, τ', real=True)\n",
        "infty = sp.oo"
      ],
      "metadata": {
        "id": "zgr9Nn0bAWbp"
      },
      "execution_count": null,
      "outputs": []
    },
    {
      "cell_type": "code",
      "source": [
        "# transformada de Laplace\n",
        "def L(f,t,s):\n",
        "    return sp.laplace_transform(f, t, s, noconds=True)\n",
        "\n",
        "# transformada inversa de Laplace\n",
        "def invL(F,s,t):\n",
        "    return sp.re(sp.inverse_laplace_transform(F, s, t, noconds=True))\n",
        "\n",
        "# funções para auxílio na expansão em frações parciais\n",
        "def adjustCoeff(expr):    \n",
        "    coeff = expr.as_numer_denom()\n",
        "    c0 = sp.poly(coeff[1].cancel()).coeffs()[0]\n",
        "    \n",
        "    return (coeff[0].cancel()/c0)/(coeff[1].cancel()/c0)\n",
        "\n",
        "def partFrac(expr, Ndigits):\n",
        "    expr = expr.cancel()\n",
        "    expr = apart(adjustCoeff(expr), s, full=True).doit()\n",
        "    \n",
        "    return sp.N(expr, Ndigits)\n",
        "\n",
        "sp.init_printing()"
      ],
      "metadata": {
        "id": "8wACka7lfnwZ"
      },
      "execution_count": null,
      "outputs": []
    },
    {
      "cell_type": "markdown",
      "source": [
        "**Sendo $R_1$= 1 $\\Omega$, $R_2$ = 8 $\\Omega$ e $R_3$ = 10 $\\Omega$.**\n"
      ],
      "metadata": {
        "id": "wr2VPlClDiws"
      }
    },
    {
      "cell_type": "markdown",
      "source": [
        "## __*Problema 1*__"
      ],
      "metadata": {
        "id": "w1KGTgIMBJyy"
      }
    },
    {
      "cell_type": "markdown",
      "source": [
        "\n",
        "\n",
        "![Circuito1.png](data:image/png;base64,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)\n",
        "\n",
        "Simulação do circuito: https://tinyurl.com/2e96x45g\n",
        "\n",
        "\n",
        "c. Determine $I_{L_1}(s), I_{L_2}(s)$ e $V_{C}(s)$ pelo método das tensões de nó. \\\\\n",
        "d. Verifique se as respostas encontradas no item anterior estão de acordo com\n",
        "os teoremas do valor inicial e do valor final. \\\\\n",
        "e. Determine $i_{L_1}(t), i_{L_2}(t)$ e $v_{C}(t)$, para $t \\ge 0 $. \\\\"
      ],
      "metadata": {
        "id": "pxKl-VmYBSYx"
      }
    },
    {
      "cell_type": "markdown",
      "source": [
        "#### **c.**"
      ],
      "metadata": {
        "id": "LiXBmaIjD9-S"
      }
    },
    {
      "cell_type": "code",
      "source": [
        "C = 1e-3\n",
        "L = 100e-3\n",
        "\n",
        "# Valores de corrente e tensão iniciais\n",
        "I1_0 = -90.9e-3\n",
        "I2_0 = 215.9e-3\n",
        "VC_0 = 909.09e-3"
      ],
      "metadata": {
        "id": "Nw4hVW2w2I4o"
      },
      "execution_count": null,
      "outputs": []
    },
    {
      "cell_type": "code",
      "source": [
        "I_L1, I_L2, V_C, VA, VB, s = sp.symbols('I_{L1}, I_{L2}, V_C, V_A, V_B, s')\n",
        "\n",
        "# define os sistema de equações\n",
        "eq1 = sp.Eq( (((2/s) - VA)/L + I1_0)*(1/s) + (10/s - VA)/100, ((VA - VB)*s - VC_0)*C )  # I1 + I3 = I4 \n",
        "eq2 = sp.Eq( ((2/s) - VB)/10 + ((VA - VB)*s - VC_0)*C  + (10/s -VB)/80, (VB/L + I2_0)/s )  # I2 + I4 + I6 = I5\n",
        "\n",
        "# resolve o sistema\n",
        "soluc = sp.solve([eq1, eq2],[VA, VB], dict=True)\n",
        "soluc\n",
        "\n",
        "VA = [sol[VA] for sol in soluc]\n",
        "VB = [sol[VB] for sol in soluc]\n",
        "\n",
        "VA = VA[0]\n",
        "VB = VB[0]\n",
        "\n",
        "VA = VA.simplify()\n",
        "VB = VB.simplify()\n",
        "\n",
        "I_L1 = (((2/s) - VA)/L + I1_0)*(1/s)\n",
        "I_L1 = I_L1.simplify()\n",
        "\n",
        "I_L2 = (VB/L + I2_0)/s\n",
        "I_L2 = I_L2.simplify()\n",
        "\n",
        "V_C =  (VA - VB) \n",
        "V_C.simplify()\n",
        "\n",
        "print('Tensões de nó no domínio de Laplace: \\n')\n",
        "symdisp('V_A(s) =', VA, 'Vs')\n",
        "symdisp('V_B(s) =', VB, 'Vs')"
      ],
      "metadata": {
        "id": "e3NPWxF9BJgw",
        "colab": {
          "base_uri": "https://localhost:8080/",
          "height": 131
        },
        "outputId": "268f59d6-c110-45a0-d3b0-cb362bb24e22"
      },
      "execution_count": null,
      "outputs": [
        {
          "output_type": "stream",
          "name": "stdout",
          "text": [
            "Tensões de nó no domínio de Laplace: \n",
            "\n"
          ]
        },
        {
          "output_type": "display_data",
          "data": {
            "text/plain": [
              "<IPython.core.display.Math object>"
            ],
            "text/latex": "$\\displaystyle V_A(s) =\\frac{1763781.0 s^{3} + 240917200.0 s^{2} + 18728000000.0 s + 1600000000000.0}{s \\left(980000.0 s^{3} + 169000000.0 s^{2} + 9800000000.0 s + 800000000000.0\\right)}\\;Vs$"
          },
          "metadata": {}
        },
        {
          "output_type": "display_data",
          "data": {
            "text/plain": [
              "<IPython.core.display.Math object>"
            ],
            "text/latex": "$\\displaystyle V_B(s) =\\frac{1091091.0 s^{2} + 120001000.0 s + 10910000000.0}{1225000.0 s^{3} + 211250000.0 s^{2} + 12250000000.0 s + 1000000000000.0}\\;Vs$"
          },
          "metadata": {}
        }
      ]
    },
    {
      "cell_type": "code",
      "source": [
        "# Expressões das tensões nos nós simplificados\n",
        "symdisp(\"VA(s):\", adjustCoeff(VA), \"Vs\")"
      ],
      "metadata": {
        "colab": {
          "base_uri": "https://localhost:8080/",
          "height": 77
        },
        "id": "zAKB5yJc1TRK",
        "outputId": "6a98afa4-b17f-4899-b7ac-f9777962b8f6"
      },
      "execution_count": null,
      "outputs": [
        {
          "output_type": "display_data",
          "data": {
            "text/plain": [
              "<IPython.core.display.Math object>"
            ],
            "text/latex": "$\\displaystyle VA(s):\\frac{1.79977653061224 s^{3} + 245.83387755102 s^{2} + 19110.2040816327 s + 1632653.06122449}{1.0 s^{4} + 172.448979591837 s^{3} + 10000.0 s^{2} + 816326.530612245 s}\\;Vs$"
          },
          "metadata": {}
        }
      ]
    },
    {
      "cell_type": "code",
      "source": [
        "symdisp(\"VB(s):\", adjustCoeff(VB), \"Vs\")"
      ],
      "metadata": {
        "colab": {
          "base_uri": "https://localhost:8080/",
          "height": 55
        },
        "id": "WD-qM_D2Dktr",
        "outputId": "939ccb61-ac77-4151-8816-566a0be573a0"
      },
      "execution_count": null,
      "outputs": [
        {
          "output_type": "display_data",
          "data": {
            "text/plain": [
              "<IPython.core.display.Math object>"
            ],
            "text/latex": "$\\displaystyle VB(s):\\frac{0.890686530612245 s^{2} + 97.96 s + 8906.12244897959}{1.0 s^{3} + 172.448979591837 s^{2} + 10000.0 s + 816326.530612245}\\;Vs$"
          },
          "metadata": {}
        }
      ]
    },
    {
      "cell_type": "code",
      "source": [
        "print(\"Equações:\\n\")\n",
        "symdisp(\"Eq_{1}:\", eq1)\n",
        "symdisp(\"Eq_{2}:\", eq2)\n",
        "print(\"\\n\")"
      ],
      "metadata": {
        "colab": {
          "base_uri": "https://localhost:8080/",
          "height": 159
        },
        "id": "ZehDT7Vy0-iu",
        "outputId": "a3673a54-438f-4591-ad80-94066710b7c8"
      },
      "execution_count": null,
      "outputs": [
        {
          "output_type": "stream",
          "name": "stdout",
          "text": [
            "Equações:\n",
            "\n"
          ]
        },
        {
          "output_type": "display_data",
          "data": {
            "text/plain": [
              "<IPython.core.display.Math object>"
            ],
            "text/latex": "$\\displaystyle Eq_{1}:- \\frac{V_{A}}{100} + \\frac{- 10.0 V_{A} - 0.0909 + \\frac{20.0}{s}}{s} + \\frac{1}{10 s} = 0.001 s \\left(V_{A} - V_{B}\\right) - 0.00090909\\; $"
          },
          "metadata": {}
        },
        {
          "output_type": "display_data",
          "data": {
            "text/plain": [
              "<IPython.core.display.Math object>"
            ],
            "text/latex": "$\\displaystyle Eq_{2}:- \\frac{9 V_{B}}{80} + 0.001 s \\left(V_{A} - V_{B}\\right) - 0.00090909 + \\frac{13}{40 s} = \\frac{10.0 V_{B} + 0.2159}{s}\\; $"
          },
          "metadata": {}
        },
        {
          "output_type": "stream",
          "name": "stdout",
          "text": [
            "\n",
            "\n"
          ]
        }
      ]
    },
    {
      "cell_type": "code",
      "source": [
        "print(\"Valores das correntes nos indutores e da tensão no capacitor pelo método das tensões de nó:\\n\")\n",
        "symdisp('I_{L1}(s) =', I_L1, 'As')\n",
        "symdisp('I_{L2}(s) =', I_L2, 'As')\n",
        "symdisp('V_C(s) =', V_C, 'Vs')\n",
        "print(\"\\n\")"
      ],
      "metadata": {
        "colab": {
          "base_uri": "https://localhost:8080/",
          "height": 268
        },
        "id": "XIQaeBFM1E1Y",
        "outputId": "512765e4-3516-4491-a1c5-d36df32c6047"
      },
      "execution_count": null,
      "outputs": [
        {
          "output_type": "stream",
          "name": "stdout",
          "text": [
            "Valores das correntes nos indutores e da tensão no capacitor pelo método das tensões de nó:\n",
            "\n"
          ]
        },
        {
          "output_type": "display_data",
          "data": {
            "text/plain": [
              "<IPython.core.display.Math object>"
            ],
            "text/latex": "$\\displaystyle I_{L1}(s) =\\frac{- 89082.0 s^{3} - 13399910.0 s^{2} + 80008000.0 s - 64000000000.0}{s \\left(980000.0 s^{3} + 169000000.0 s^{2} + 9800000000.0 s + 800000000000.0\\right)}\\;As$"
          },
          "metadata": {}
        },
        {
          "output_type": "display_data",
          "data": {
            "text/plain": [
              "<IPython.core.display.Math object>"
            ],
            "text/latex": "$\\displaystyle I_{L2}(s) =\\frac{264477.5 s^{3} + 56519785.0 s^{2} + 3844785000.0 s + 325000000000.0}{s \\left(1225000.0 s^{3} + 211250000.0 s^{2} + 12250000000.0 s + 1000000000000.0\\right)}\\;As$"
          },
          "metadata": {}
        },
        {
          "output_type": "display_data",
          "data": {
            "text/plain": [
              "<IPython.core.display.Math object>"
            ],
            "text/latex": "$\\displaystyle V_C(s) =- \\frac{1091091.0 s^{2} + 120001000.0 s + 10910000000.0}{1225000.0 s^{3} + 211250000.0 s^{2} + 12250000000.0 s + 1000000000000.0} + \\frac{1763781.0 s^{3} + 240917200.0 s^{2} + 18728000000.0 s + 1600000000000.0}{s \\left(980000.0 s^{3} + 169000000.0 s^{2} + 9800000000.0 s + 800000000000.0\\right)}\\;Vs$"
          },
          "metadata": {}
        },
        {
          "output_type": "stream",
          "name": "stdout",
          "text": [
            "\n",
            "\n"
          ]
        }
      ]
    },
    {
      "cell_type": "code",
      "source": [
        "# Expressões das correntes simplificadas \n",
        "I_L1 = adjustCoeff(I_L1)\n",
        "\n",
        "symdisp(\"I_{L1}(s):\", I_L1, \"Vs\")"
      ],
      "metadata": {
        "colab": {
          "base_uri": "https://localhost:8080/",
          "height": 55
        },
        "id": "iqW3BmJpqJby",
        "outputId": "54d86256-5cf8-4cf9-c1db-5410ff7313cb"
      },
      "execution_count": null,
      "outputs": [
        {
          "output_type": "display_data",
          "data": {
            "text/plain": [
              "<IPython.core.display.Math object>"
            ],
            "text/latex": "$\\displaystyle I_{L1}(s):\\frac{- 0.0909 s^{3} - 13.6733775510204 s^{2} + 81.6408163265306 s - 65306.1224489796}{1.0 s^{4} + 172.448979591837 s^{3} + 10000.0 s^{2} + 816326.530612245 s}\\;Vs$"
          },
          "metadata": {}
        }
      ]
    },
    {
      "cell_type": "code",
      "source": [
        "I_L2 = adjustCoeff(I_L2)\n",
        "\n",
        "symdisp(\"I_{L2}(s):\", I_L2, \"Vs\")"
      ],
      "metadata": {
        "colab": {
          "base_uri": "https://localhost:8080/",
          "height": 55
        },
        "id": "22WN1R0ODsnc",
        "outputId": "6983ee3c-d81b-4345-d23c-054d8dc18459"
      },
      "execution_count": null,
      "outputs": [
        {
          "output_type": "display_data",
          "data": {
            "text/plain": [
              "<IPython.core.display.Math object>"
            ],
            "text/latex": "$\\displaystyle I_{L2}(s):\\frac{0.2159 s^{3} + 46.1386 s^{2} + 3138.6 s + 265306.12244898}{1.0 s^{4} + 172.448979591837 s^{3} + 10000.0 s^{2} + 816326.530612245 s}\\;Vs$"
          },
          "metadata": {}
        }
      ]
    },
    {
      "cell_type": "markdown",
      "source": [
        "#### **d.**\n",
        "\n",
        "**Teorema do valor inicial (TVI)**\n",
        "\n",
        "$$\n",
        "f(0^+) = \\lim_{t \\to 0^+}f(t) = \\lim_{s \\to \\infty}sF(s)\n",
        "$$\n",
        "\n"
      ],
      "metadata": {
        "id": "9MIeidZgJotc"
      }
    },
    {
      "cell_type": "code",
      "source": [
        "# Teorema do Valor Inicial\n",
        "il1_0_tvi = sp.limit(s*I_L1, s, infty) \n",
        "il2_0_tvi = sp.limit(s*I_L2, s, infty)\n",
        "vc_0_tvi = sp.limit(s*V_C, s, infty)\n",
        "\n",
        "symdisp('i_{L1}(0^+) = ', il1_0_tvi, ' A' ) # -0.0909 A\n",
        "symdisp('i_{L2}(0^+) = ', il2_0_tvi, ' A' ) # 0.2159 A\n",
        "symdisp('v_{c}(0^+) = ', vc_0_tvi, ' V' ) # 0.90909 V"
      ],
      "metadata": {
        "id": "0dd2CgLNJsfM",
        "colab": {
          "base_uri": "https://localhost:8080/",
          "height": 81
        },
        "outputId": "19fba78f-bd4b-47a0-8896-24326d92d5cd"
      },
      "execution_count": null,
      "outputs": [
        {
          "output_type": "display_data",
          "data": {
            "text/plain": [
              "<IPython.core.display.Math object>"
            ],
            "text/latex": "$\\displaystyle i_{L1}(0^+) = -0.0909\\; A$"
          },
          "metadata": {}
        },
        {
          "output_type": "display_data",
          "data": {
            "text/plain": [
              "<IPython.core.display.Math object>"
            ],
            "text/latex": "$\\displaystyle i_{L2}(0^+) = 0.2159\\; A$"
          },
          "metadata": {}
        },
        {
          "output_type": "display_data",
          "data": {
            "text/plain": [
              "<IPython.core.display.Math object>"
            ],
            "text/latex": "$\\displaystyle v_{c}(0^+) = 0.90909\\; V$"
          },
          "metadata": {}
        }
      ]
    },
    {
      "cell_type": "markdown",
      "source": [
        "**Teorema do valor final (TVF)**\n",
        "\n",
        "$$\n",
        "f(\\infty) = \\lim_{t \\to \\infty}f(t) = \\lim_{s \\to 0}sF(s)\n",
        "$$"
      ],
      "metadata": {
        "id": "IudjNnvfW1LS"
      }
    },
    {
      "cell_type": "code",
      "source": [
        "# Teorema do Valor Final\n",
        "il1_inf_tvf = sp.limit(s*I_L1, s, 0)\n",
        "il2_inf_tvf = sp.limit(s*I_L2, s, 0)\n",
        "vc_inf_tvf = sp.limit(s*V_C, s, 0)\n",
        "\n",
        "symdisp('i_{L1}(\\infty) = ', il1_inf_tvf, ' A' ) # -0.080 A\n",
        "symdisp('i_{L2}(\\infty) = ', il2_inf_tvf, ' A' ) # 0.325 A\n",
        "symdisp('v_{c}(\\infty) = ', vc_inf_tvf, ' V' ) # 2V"
      ],
      "metadata": {
        "id": "hMrgMSaPKpsF",
        "colab": {
          "base_uri": "https://localhost:8080/",
          "height": 81
        },
        "outputId": "52fad1f6-dbdc-4cd6-ddd3-6582cc5e8e8f"
      },
      "execution_count": null,
      "outputs": [
        {
          "output_type": "display_data",
          "data": {
            "text/plain": [
              "<IPython.core.display.Math object>"
            ],
            "text/latex": "$\\displaystyle i_{L1}(\\infty) = -0.08\\; A$"
          },
          "metadata": {}
        },
        {
          "output_type": "display_data",
          "data": {
            "text/plain": [
              "<IPython.core.display.Math object>"
            ],
            "text/latex": "$\\displaystyle i_{L2}(\\infty) = 0.325\\; A$"
          },
          "metadata": {}
        },
        {
          "output_type": "display_data",
          "data": {
            "text/plain": [
              "<IPython.core.display.Math object>"
            ],
            "text/latex": "$\\displaystyle v_{c}(\\infty) = 2.0\\; V$"
          },
          "metadata": {}
        }
      ]
    },
    {
      "cell_type": "markdown",
      "source": [
        " #### **e.**"
      ],
      "metadata": {
        "id": "zAoJJv7cBc_6"
      }
    },
    {
      "cell_type": "markdown",
      "source": [
        "$i_{L1}(t)$\n"
      ],
      "metadata": {
        "id": "LLkP8HPJlEDf"
      }
    },
    {
      "cell_type": "code",
      "source": [
        "# Expansão em frações parciais do IL1(s)\n",
        "symdisp('F_{I_{L1}}(s) = ', partFrac(I_L1, 3) , ' As' )"
      ],
      "metadata": {
        "colab": {
          "base_uri": "https://localhost:8080/",
          "height": 53
        },
        "id": "evFVxqVFPqeM",
        "outputId": "31b72bc3-6523-4a23-d6f4-bbf168f810fd"
      },
      "execution_count": null,
      "outputs": [
        {
          "output_type": "display_data",
          "data": {
            "text/plain": [
              "<IPython.core.display.Math object>"
            ],
            "text/latex": "$\\displaystyle F_{I_{L1}}(s) = \\frac{-0.0202 + 0.0378 i}{s + 15.0 + 74.2 i} + \\frac{-0.0202 - 0.0378 i}{s + 15.0 - 74.2 i} + \\frac{0.0295}{s + 142.0} - \\frac{0.08}{s}\\; As$"
          },
          "metadata": {}
        }
      ]
    },
    {
      "cell_type": "code",
      "source": [
        "# Tirando as raízes do IL1(s)\n",
        "np.roots([980000, 169000000, 9800000000, 800000000000])"
      ],
      "metadata": {
        "colab": {
          "base_uri": "https://localhost:8080/"
        },
        "id": "XmRaYgoAPtEz",
        "outputId": "c3af9a0b-e6cf-4204-dbff-f33982632ebd"
      },
      "execution_count": null,
      "outputs": [
        {
          "output_type": "execute_result",
          "data": {
            "text/plain": [
              "array([-142.47601606 +0.j        ,  -14.98648176+74.19553175j,\n",
              "        -14.98648176-74.19553175j])"
            ]
          },
          "metadata": {},
          "execution_count": 15
        }
      ]
    },
    {
      "cell_type": "code",
      "source": [
        "il_1 = (-0.08 + 0.0295*sp.exp(-t*142.0)+ sp.exp(-t*15.0)*2*(-0.0202*sp.cos(74.2*t) - 0.0378*sp.sin(74.2*t)))*sp.Heaviside(t)\n",
        "\n",
        "symdisp('i_{L1}(t) =', il_1)"
      ],
      "metadata": {
        "colab": {
          "base_uri": "https://localhost:8080/",
          "height": 38
        },
        "id": "rXX4yfQ_RIj-",
        "outputId": "0cd0cad2-c0b3-44d1-b0d5-9ad49e1eaab0"
      },
      "execution_count": null,
      "outputs": [
        {
          "output_type": "display_data",
          "data": {
            "text/plain": [
              "<IPython.core.display.Math object>"
            ],
            "text/latex": "$\\displaystyle i_{L1}(t) =\\left(2 \\left(- 0.0378 \\sin{\\left(74.2 t \\right)} - 0.0202 \\cos{\\left(74.2 t \\right)}\\right) e^{- 15.0 t} - 0.08 + 0.0295 e^{- 142.0 t}\\right) \\theta\\left(t\\right)\\; $"
          },
          "metadata": {}
        }
      ]
    },
    {
      "cell_type": "markdown",
      "source": [
        "**$i_{L2}(t)$**"
      ],
      "metadata": {
        "id": "EDNkkwNslRcn"
      }
    },
    {
      "cell_type": "code",
      "source": [
        "# Expansão em frações parciais do IL2(s)\n",
        "symdisp('F_{I_{L2}}(s) = ', partFrac(I_L2, 3) , ' As' )"
      ],
      "metadata": {
        "colab": {
          "base_uri": "https://localhost:8080/",
          "height": 53
        },
        "id": "58j8l7w_kVf3",
        "outputId": "d010ac57-b11d-46a3-8d28-45326dbf6451"
      },
      "execution_count": null,
      "outputs": [
        {
          "output_type": "display_data",
          "data": {
            "text/plain": [
              "<IPython.core.display.Math object>"
            ],
            "text/latex": "$\\displaystyle F_{I_{L2}}(s) = \\frac{-0.0336 + 0.013 i}{s + 15.0 + 74.2 i} + \\frac{-0.0336 - 0.013 i}{s + 15.0 - 74.2 i} - \\frac{0.042}{s + 142.0} + \\frac{0.325}{s}\\; As$"
          },
          "metadata": {}
        }
      ]
    },
    {
      "cell_type": "code",
      "source": [
        "# Tirando as raízes do IL2(s)\n",
        "np.roots([1225000, 211250000, 12250000000, 1000000000000])"
      ],
      "metadata": {
        "colab": {
          "base_uri": "https://localhost:8080/"
        },
        "id": "yXqBOs0j8H7e",
        "outputId": "953a373a-28dc-455d-da0e-767c865a3a75"
      },
      "execution_count": null,
      "outputs": [
        {
          "output_type": "execute_result",
          "data": {
            "text/plain": [
              "array([-142.47601606 +0.j        ,  -14.98648176+74.19553175j,\n",
              "        -14.98648176-74.19553175j])"
            ]
          },
          "metadata": {},
          "execution_count": 18
        }
      ]
    },
    {
      "cell_type": "code",
      "source": [
        "il_2 = (0.325 - 0.042*sp.exp(-t*142.0)+ sp.exp(-t*15.0)*2*(-0.0336*sp.cos(74.2*t) - 0.013*sp.sin(74.2*t)))*sp.Heaviside(t)\n",
        "\n",
        "symdisp('i_{L2}(t) =', il_2)"
      ],
      "metadata": {
        "colab": {
          "base_uri": "https://localhost:8080/",
          "height": 38
        },
        "id": "NElzL4CXzMNU",
        "outputId": "b204b9ff-fed4-46ad-89c8-a726fc7d4b01"
      },
      "execution_count": null,
      "outputs": [
        {
          "output_type": "display_data",
          "data": {
            "text/plain": [
              "<IPython.core.display.Math object>"
            ],
            "text/latex": "$\\displaystyle i_{L2}(t) =\\left(2 \\left(- 0.013 \\sin{\\left(74.2 t \\right)} - 0.0336 \\cos{\\left(74.2 t \\right)}\\right) e^{- 15.0 t} + 0.325 - 0.042 e^{- 142.0 t}\\right) \\theta\\left(t\\right)\\; $"
          },
          "metadata": {}
        }
      ]
    },
    {
      "cell_type": "markdown",
      "source": [
        "**$v_C(t)$**"
      ],
      "metadata": {
        "id": "BsOBLwHJlTfw"
      }
    },
    {
      "cell_type": "code",
      "source": [
        "V_C_simplificado = (0.909*s**3 + 147.873*s**2 + 10204.082*s + 1632653.06)/(s**4 + 172.44*s**3 + 10000*s**2 + 816326*s)\n",
        "V_C = V_C_simplificado\n",
        "V_C"
      ],
      "metadata": {
        "colab": {
          "base_uri": "https://localhost:8080/",
          "height": 55
        },
        "id": "HzY703mT69tI",
        "outputId": "543cd87f-1195-4468-85eb-d50f9f2ebdfc"
      },
      "execution_count": null,
      "outputs": [
        {
          "output_type": "execute_result",
          "data": {
            "text/plain": [
              "       3            2                           \n",
              "0.909⋅s  + 147.873⋅s  + 10204.082⋅s + 1632653.06\n",
              "────────────────────────────────────────────────\n",
              "       4           3          2                 \n",
              "      s  + 172.44⋅s  + 10000⋅s  + 816326⋅s      "
            ],
            "image/png": "[encoded data removed]",
            "text/latex": "$\\displaystyle \\frac{0.909 s^{3} + 147.873 s^{2} + 10204.082 s + 1632653.06}{s^{4} + 172.44 s^{3} + 10000 s^{2} + 816326 s}$"
          },
          "metadata": {},
          "execution_count": 20
        }
      ]
    },
    {
      "cell_type": "code",
      "source": [
        "# Expansão em frações parciais do V_C(s)\n",
        "symdisp('F_{V_C}(s) =', partFrac(V_C, 3), 'Vs')"
      ],
      "metadata": {
        "colab": {
          "base_uri": "https://localhost:8080/",
          "height": 53
        },
        "id": "ln_lfNINfjkz",
        "outputId": "5a8c166f-7f0b-49af-bc50-b4c4f6156c4b"
      },
      "execution_count": null,
      "outputs": [
        {
          "output_type": "display_data",
          "data": {
            "text/plain": [
              "<IPython.core.display.Math object>"
            ],
            "text/latex": "$\\displaystyle F_{V_C}(s) =\\frac{-0.457 - 0.323 i}{s + 15.0 + 74.2 i} + \\frac{-0.457 + 0.323 i}{s + 15.0 - 74.2 i} - \\frac{0.178}{s + 142.0} + \\frac{2.0}{s}\\;Vs$"
          },
          "metadata": {}
        }
      ]
    },
    {
      "cell_type": "code",
      "source": [
        "# raízez V_C(s)\n",
        "np.roots([12005000000, 2070250000000, 120050000000000, 9.8e15])"
      ],
      "metadata": {
        "colab": {
          "base_uri": "https://localhost:8080/"
        },
        "id": "tVLQ_6Qg9EUu",
        "outputId": "1baac470-cdec-41dc-9cd1-546d7705c399"
      },
      "execution_count": null,
      "outputs": [
        {
          "output_type": "execute_result",
          "data": {
            "text/plain": [
              "array([-142.47601606 +0.j        ,  -14.98648176+74.19553175j,\n",
              "        -14.98648176-74.19553175j])"
            ]
          },
          "metadata": {},
          "execution_count": 22
        }
      ]
    },
    {
      "cell_type": "code",
      "source": [
        "v_c = (2 - 0.178*sp.exp(-t*142.0) + sp.exp(-t*15.0)*2*(-0.457*sp.cos(74.2*t) - 0.323*sp.sin(74.2*t)))*sp.Heaviside(t)\n",
        "\n",
        "symdisp('v_c(t) =', v_c)"
      ],
      "metadata": {
        "colab": {
          "base_uri": "https://localhost:8080/",
          "height": 38
        },
        "id": "njMWP6Af300m",
        "outputId": "6aea8185-390d-4a1e-ac9c-7e113aca8ddc"
      },
      "execution_count": null,
      "outputs": [
        {
          "output_type": "display_data",
          "data": {
            "text/plain": [
              "<IPython.core.display.Math object>"
            ],
            "text/latex": "$\\displaystyle v_c(t) =\\left(2 \\left(- 0.323 \\sin{\\left(74.2 t \\right)} - 0.457 \\cos{\\left(74.2 t \\right)}\\right) e^{- 15.0 t} + 2 - 0.178 e^{- 142.0 t}\\right) \\theta\\left(t\\right)\\; $"
          },
          "metadata": {}
        }
      ]
    },
    {
      "cell_type": "markdown",
      "source": [
        "## _**Problema 3**_\n",
        "\n",
        "![Circuito3.png](data:image/png;base64,iVBORw0KGgoAAAANSUhEUgAAAkIAAADHCAYAAAD1RTxCAAAAAXNSR0IArs4c6QAAAARnQU1BAACxjwv8YQUAAAAJcEhZcwAADsMAAA7DAcdvqGQAAE9/SURBVHhe7Z0JvE3l94ffCmlSomQmytAsw18yRBkylVlkSHMoSYlKqBT1S6ZGCRWReWoihcyFRhkSSpGZTGn/97Pufk/7HueOzr33DOvps7tn733Oudfe737f77vWetc6xXExiqIoilm3bp1p3LixmTJliilVqpR3VFGUWOZU76eiKErcs2nTJnPmmWfKpihKfKAWIUVRFEVR4ha1CCmKoiiKEreoEFIUJe75559/zBdffGFuvvlmM3z4cO+ooijxgAohRVHinsmTJ5vs2bObDRs2mBIlSnhHFUWJBzRGSAmwe/du8+GHH5qZM2eaAwcOmKuvvtqccsopMjhccMEFpkePHuaSSy7x3q1EM7/99pu544475PVpp50mP7GK5MiRw7z99tvmwgsvlGO0h8WLF5vjx4+bQ4cOmYceesiUKVNGzsG3335rxo4da0499VSzZcsWc8stt5imTZvKfjj45ZdfzAcffGDmzZtnDh8+bK677jpTq1Ytc9NNN8n5/fv3mzFjxphFixaZzZs3m0svvdRUq1bNdOjQQc6nFrpB/v4GDRqIZSh37txybMmSJWbu3Lnyu+vWrWuuv/567xNKuKANffrpp9Lv5MqVS9rXnj175N7Xq1fPdOnSJWztSVFCghBSFMvRo0edm2++2XEHG++I47hCyLnoooucZs2aeUeUaMfeU1dQODVq1HAqV67sVKhQwalZs6bzxx9/OP/++6/jChynXbt2jiuC5DNPPPGEU7RoUWfr1q2yv379eqdq1aqB/WXLljmugHKmTp0q++HCtskCBQo4rlj3jiZm+PDhjivinE8++cQ7knZGjhwp1yOYe++91+nVq5e3p2QEe/fudQoVKuQMGTJE9ml/3I+cOXM6rhiXY4qSUajMVhLBzPfXX381ZcuW9Y4YU6RIEVO+fHlZWqzEBsywixcvLvlyPv/8c/PVV18ZV8iI9SNfvnzGFUPGHfxNq1atArPxtm3bykx9xowZYiEaMGCAtBNXUMn5q666ypQrV868/vrrxhUvciwc8PvPOOMMky1bNnFfheKss84S62V6l73z906aNMlce+213pH/+P33340r+Lw9JSOgvdH3WIsb97J58+ZiiV6+fLkcU5SMQoWQkgh3Zmb+/PNPU7JkSe+IETcZIghXmRIbuDNuERfWLRbMzz//LG3BHy+DQMJltnLlSnGTLV26VMSP/Q5EyhVXXCGfZVALhs9s27ZNfjfu1jVr1piDBw/KOXdSZjZu3Gi+++478/fff8sxC4NiSqTmPcmxc+dO880334jg94O7kHN+d6ASfnCP5cyZ01x88cXeESPt4ciRIwE3qKJkFCqElETQ6TMQ+QfAd999VwbFxx9/3DuiRDtYdE4//XSxCFWvXt383//9n3nzzTe9s0aECvFCxGxYGKjy5s0rYoY2sn37dpM/f37vbIIYKVSokMTtICAszPbbt29vihYtKm1o8ODB5sorrxTRgZAitmfEiBHyGosMx4nXyUwQ+ogyrGTvvPOODMDw119/iXArWLCg7CsZAxZJ2tK5554r+7t27ZIYtpYtW5qaNWvKMUXJKFQIKYmwAxADQJs2bcydd94pbgPcJv7ZmoWZvH/QU6ID7tnXX38tA1DDhg3F2kNQKq4wBAH3H5eU32LEa4QRImHfvn3SLhBTfs477zwRWbQLC4HHXbt2FfcVvw9XGqUsxo0bJ6KKwe7ss882P/30kwRn0wbfeOMN79P/gUgnCPr2229PtOGye/XVV713pQ+soPzd06dPN3Xq1An8u9auXWvOP/98ccspGQPtaNWqVSJCSV3QpEkT88wzz4hofuGFF07a2qcoKaFCSEkEAxQDF1aC9evXixuEwcfGgVgYLBkkODds2DDvqBIt4OLCGjR06FDzyCOPmGnTpomg4OePP/5ojh07JpYQv6ABG6eDkOI84sEP54NX+CAqSpcuLSKKGKLbbrvNFChQwNx4440Sf4YlAIsRVhdm/whuRFEwefLkEWsNq9T8GxbL++67z3tX+mB1Eq6Yp59+OpGVi/bP3+gnlNtPST+43lkhZlf8ffnllyK6b731VnHfWmhrtE+sl1gXWcGIIFeUk0WFkJIIfPUskS9cuLAsS2am/MQTT5xg9WG5KwMHS+6V6ANRUblyZW8vAZa9c58ZmLDQIIasiwgQRczesfrgJkP04Abzw/s5l1TskT/YGdcbViJ+WvhOBBO/OzNBrNmUARYGXiyh/ng5/i5ce0r4oA/BFcZ1vuyyy8z9998vKRyI2fKDCxWLIv3S7NmzRTBhOQwW64qSVlQIKQEYBL///nuZcTGQIYg6d+4seVzI0+KHfDHMov0xJEp0Y11AiBOsM1g+WCVmoX3gnsKFgRjifVu3bvXOJkDcECt9/OImrUSKK4Q4KQZj/o3kuGFjEGYCoIQP2gwCGksg1kQslATdd+rUSSZiFsTqgw8+KJYjLIw2z5minCwqhJQAzMro9CtWrCj7tlOiw8Ft4u+UlOiFwHcG9GBIm8CsHAHMYIMYxj1qwfpDTA9CGasPLiMsiNY9xk9WjNFegmOHMpqMsArgviOhYr9+/WRZd4UKFUz9+vXFnaiEDwLVaS9YoYHJFbFBtL1XXnlFjgH3gw0Q6KRKwCWqYkg5WVQIKQEY1HCL+GMimNn37dtXOp7+/ftLXIgS3bAyh+BUrB0ICDbu/ccff2zef/99sfYwO69Ro4aZOHFiQOhgFWRlF/FjDFwE0yMUyFINO3bsECGEFTHYNcZ34FZjs9hjfvebxR+HgzuK9scxu9w+GCxVtE2CvMMF7kHi5fjJNSGgnFi5UCLPXiMl7ZAnCPHDNbYQS3bXXXeJ6ws3vF/ovvXWW2bQoEHS1giu1z5JOVlOe5roQCWuoZMZOHCgrLxB+OCHx0XCEmdgFob5mmR7BI/Wrl07EOtBjSbOYyVQogeEAysCGUjGjx8vQfK0gWLFisl52gExQ1OnThUxNH/+fCm1QewG4oBZOBYSfvbp00eCm1kCTxLG4DIUuJKYuWNxZKN98Xu6d+8u7QqRQ7wHMUu420jwiDWAUhcIKlYPsZKMwFlWdZGPyFotET533323tM1zzjlHxBq5iCiemplwLRnQS5UqJcJJrRQpQ6AzonnBggXS3xCPValSJRHq3HeSWNIWaINYi7BSAiKJQHtENJOzjh07ioVSUdKL1hpTBOI/cIXRgTO75ad/Vm9nXTQX/3FcZuR9YQWHEj1wHxFDWFhwMZAfKNTgzWCDWAGCiYNjf6wVBmsNM/pQMWP8LtoU7YbXfIa2xk/blux52/7sefbt++w58LdBf9u138/Ampm0aNFCRCVWI2qhYUXV4q0pw72z7YJ7y33zt0PbFjiPSxeRxD4gnOh/EKA2/5CipAd1jSkCHZAdTHjtH2iAc2zBxxl0MnuFj3LycJ8RPyxDJrjZP/j4QfiQJJEtWAQBbQKBhDs1qcB526b4yfttW7PH/OfBih5++t9nzwW3Qft9vMe+P7PhdzJYkzzyvffekzipBx54QKxfHFdCY+8t9w0rs73PFtsWOE/hXVJ2AP3OihUrxGqJBU5RTga1CCnpAnfHc889J64xLArkgXn22We9s4qStRB3ZGOXMgMsotRgCwaXDSKS54SVUEr6QVQ2btxYrG8MW+Qc4jUiSVFOBhVCSrpgRoZZ286+eR3KYqAoWQGWGRJGZhbETmGhCAaLBrlxunXrZtq1a6eD9knAUIUblqB8XJDkwlKUcKBCSFEU5SQhWzYlQwBXDpMC3I6sRWndurUcVxQlMlEhpChKkrCsnhVjwGqw4CR2rBZjxRYWwuuuu05W9PjPk5Twk08+EYshKwsJrA8+z/JogrJZMcTmh9ILLOvH1cVnq1Sp4p2JLKwQYmk914ls7KyqYxWcoigRDkJIiW4OHTrkuIOEkzdvXvm5f/9+70z6eO+995ySJUs6l1xyibw+GXbu3OlUrFhRvo+/7c8///TOKJGKK2qczz//3HGFi+OKFiZKsp166qnOtdde67jCxlm4cKFTo0aNwDk23sv5OXPmOF999ZVTu3btROfZXCHlzJ49W87Xq1dPvtN//rLLLnOmTZvmLFu2zKlfv76TLVu2ROdpRxMmTHCOHTvm/bWRQfv27Z2GDRvKtTl+/Lh3NLZxBazjCj3noosucjp16uS4Ytc7kz4eeuihQL/jCnDvaPpwBbRTpkwZ+b5HHnnEO6oooVEhFAN079490WDxyiuveGfSzoEDB5z8+fMHvuviiy/2zqSPmTNnOqeddpp8F4Pehx9+6J1RIpXXXnvtBAHi37ifKZ239zzURjtI7vOpOd+5c+eIEhwIs3gRQJabbropcE/OP/98Z8eOHd6ZtMPk7Ywzzgh8X+vWrUWQp5ebb7458F20l82bN3tnFOVEVAhFOd9//71z9tlnBx56Nmblf//9t/eOtPHRRx852bNnT/R9o0aN8s6mDTqyqlWrJvou/rZ4GzCiCSxB5513XuB+NWvWzHn//ffFMtimTZsTBM4tt9wi53jPHXfc4eTIkSPR+UaNGjmjR492xo8f79x1110nnG/QoIG0r4kTJzp33313onNYmOrUqeOMHDlSBPR9990X+P05c+Z0hg4d6v3VSmbDPUVg+O9Xei0v9BNY1PzfxWTsr7/+8t6RNn788UfnnHPOSfR9tJ2TEVZKbKNCKIrhwe7QoYM86Awa1pLDbHr58uXeu1IP34c7gu9gwLFuEVwkhw8f9t6Vej7++GP5vP2b7OvJkyd771AiCdyYzOy5RwiWl156yTuTAANTnjx5AveRbc+ePd7ZBGviVVddFTh35plnyjELrpPKlSsHzl9wwQXO77//7p11nKNHjyb6PAI/2EUyd+7cRMJ/zZo13hkls+Ce2XbCc20tOfQX6bG8bNy40Tn33HMD32f7nQEDBnjvSBvPPfecfJ7NCu+iRYs6u3bt8t6hKIlRIRTFzJo1KyAwrrvuOuenn34KDBLXXHNNmi0vxH3YGTemZRvjcfrppzvfffed967UwaBGDAifZ+vWrVvgdc2aNZ0jR45471QihWeffTZwj7D+BMfhvPHGGydYAYjrsIwbN+4EixFWHsvYsWNP+DwuLgtWBjsI2q1Lly7e2QRo0/6/s2PHjt4ZJbPo169f4D7deeedTs+ePQP3AxGSVnDl2+/DzV+8eHF5TfzRtm3bvHeljr179wbEOrFGL7zwgrzm+0eMGOG9S1ESo0IoSsH1RRAyDznblClTRFzceOONgWOfffaZ9+6UYbbetGnTwGcJSF29erW4INgnHiAtwZDM8qyLpWzZsvL3EizNPmJt7dq13juVSABr4JVXXin3J3fu3IksNYCwJZCZ81gDsPbwulSpUs6+ffvk/toBDLeEbTd819atW52DBw/KwMQxXK+5cuWS1wh5rAi03WrVqskxNgJw+Ulb+eOPP7y/IgH+FoKuOc/fsnv3bu+MktH88MMPgXvP/ea+sgCC+8wx2kha+glig7DW8NmCBQvKwg/EL/tsgwcP9t6ZOp555pnAZ5966imxAvG97NNW1CqkhEKFUJSCULGzKESK9X8jiGxHgN89tRDoaM3d+fLlk8EGd5jflcFKn9TCTJ3P8DdiaYJvvvkmYBFAdCmRw8qVKwP3+bHHHvOO/gexQ/b8PffcI+/hNfcX95X/PHE/Dz74oLzmfrOK7Ouvvw64UBDEPXr0CLz/zTfflPZnhXOlSpWcgQMHBs4Hu+iAmCTb/kOdV8IPFkK/lXfIkCHeGcd54oknAsfHjBnjHU0ZrEH2czbGCOFrLYu0ldSCG/byyy8PfN+6deukX2zXrl3gGG1NUYJRIRSFsDTUzsAuvPBC2bcwG6tQoYKcw++eWtOyXXnGwIWYsrzzzjuBToSAw9TArNG67LAyMGsErAYES3OcQQxhpEQGdhaOteaLL77wjv6Hf2UigctY/HCZss8AZl0QbO+++65YlGwb4DxuMStcCIwmoNW+nyBq3Lx2f/r06c6qVasC+wirYCsDbmAbEFuuXDkNwM8EmNBYaxBWXtxQFsQwrizOsdLUHzuWFMH9ARZoS9euXeU4/RHtITUguG2bQ6xbaGs2Vgiro6IEo0IoCnn44YfloWYjxsJagywMNNbyglUo+HwwuCbsIFW6dGlxdVgYYMjFwTksRv7g16To3bt34O8LjhlgFmnPMbhGO9u3b5eBvkCBApJHBstKStc70uAeFytWTO4JVpnggFdESK1atQL37ddff5VB0LaLEiVKOLfffru8pt3Z1T4MlhxDmN97773yGquQjT2yrjSC8RFDvEa8c035nTaA9oorrjih3eFC4ZpznpgQPhNN0EYI9ObaYP0gpo/9SG07XP8iRYrI9cbtiVD1Qxu64YYb5DximoUSKUGuKCtcWJ3oh+fIWhBpZ9zv5MC1al2voSaA/lVpixcv9o4qSgIqhKIMrD92JkzHFCo+gkGB5Iq2U9iwYYN3JjT+VRaImODOmOXNVijh8kgOPmt9/lir/KIKsA7ZDpVVbpGWGC8tYPVglZO9NvxESOAGiiaYvbOCi38DblFm6n7Yx+rCeQYnBj3cpggYjiF+CNbndeHChb1POYEViFwTAuR5TUyRpXHjxoHPWCsm1gRrabB5ajgfqp3bmCKeh59//tk7Gh3Qdqwr0G5c27S4nzOTl19+OfB3kjIh1HO7fv36QOoNFlskB20I8cd7iQPDjeUH17xtX1hzvvzyS+9MaEjCaf8+fnfw34c1y1owiS/TxRqKHy2x4cOd9Rh34Pb2Ig9uVffu3c2ECROkmOPo0aMltX8oqARPmn93cDaDBw82Xbt29c4kxu2QjDuYm++//97kzp1bSia4AsY7m8DWrVultMLOnTvlPe7MVSpqh4LfRYFJfi/V6Xv27Omd+Y8hQ4ZItW7+PX379jVPPfWUdyYx3AuKZ7odpXckspg9e7a55557pLyEhX935cqVzcSJE70jkY87eza1atUyrgAxrlCRNuBn//795tprrzXuYCVtZdWqVfJvdgccKX8BruCWz1evXj1QkuPOO+80I0eOlNeu0JJimf7zDz/8sHEHWClL4Q528nvcwdEsWrTIuKIgcJ7v5nfzHX7uuusu89Zbb0mF96lTp0ZVdfe7777bzJo1y9v7D57nQYMGeXuRA1XfKSrLvViyZIkpXbq0dyYxvG/69OnymmrxPAuh+Oyzz4wrdOX1jTfeKNeCNuBn6dKlpmrVqsYVNaZVq1aBWm6haN68ufnwww+lqC0lXWjPfg4dOiQlXui7aC+0weByLpaNGzfKT94X6Zx//vlR8XdGOiqEfLzwwgsygLmzGu9I5IFwYeDitrkzsCQfAgYqxArvRdi4M1ART8GMGTPGtG/fXl4/+eSTpl+/fvI6GDsoMdCPGjUq8Bk/7qxdOsjt27cbd5YuHeell17qnf0P6kcx4DFw5s2bV0RYsPiC8ePHS8XuAgUKmPz583tHIweu6ebNm729/+AaJdXJRiIMNJs2bZJ6YNyvZcuWeWcS4D5xv7hvNWrUMJ9//rkcb9iwoZk5c6a8ZgCizdWvXz9wrEuXLmbYsGHy2p6vW7eumTNnjhzr06ePtDeuF9CmK1asaL744gtp15zjPdTrYnAKbiMILQY/2nWRIkWiakDg2eB6B4MARGxGGkeOHJE20qtXL/PII494R0+E+4EoAdoHApV7Hwz9B30PTJkyxdxyyy3yOhhEErXsaCPUvaOSfzBMlgoXLizXk/Y5b968QJvyg/i54YYb5DVC9PXXX5fXfmiDXH9q4FE0F+EXqfA81axZ0wwYMMA7oqQbhJCSAJlqoyXWIDX1xPwrc0ItQ8UlgiuC8wQ6JlffB9cEri7ei3sjlGmZRInW59+iRQsxf4fCfYADq8qIj2AFUDDEiOB24j3EJpHsL9IIlYUbNxHxCLEEriobf8E9Ae4tWZ/tv9u6a8kkbqH+lD1vVyT6g1VtbilcHzbQFreFDa4nRxHHcO9GWwxQSvjj6PybOxnx3hF58Nym5Momlsj2KcRuhVqswTHuKe/BJcqznhT+xRrEoQX3KexbFyt9Dy6y5LCrYHFDhnKnErBtA8Jp86npZ7MKnstHH33U21NOBhVCPqJJCKUGAhoRGjzUxHgEx34Q0GgHcgIdkxIulgceeEDeyxZcdoPP2nIadDKhOkA/CCub/JGVI8Ed7AcffBD4XQyokQjXkzgWBnJ3Bioby3djbdAmUNXmrOLfyGCHWLG5fHLmzBkIlCU/kL2XNoaHnEB22TUBzgyoYNsLwdb2vZy3uV5sXiMCuVOzCimaoP2zMIF/n934dwbHykQjU6dODSzWCF4Qwb23gcu8h4UdyYEQsSKamMLgZ4sVYbYfKVSoUIp5gkiqyHvZSPZp26LFnxaCBKGRjAqh8KFCyEesCSEe8latWsmDjeAJDsS0gxPnCHRMCVZb2E6E4Fj/Sg4qitN5cI6CianBlgdhY0m2BWuTv7L5/PnzvTORB9eAKtwM2q+//rokD4w1aEdY+Oz9YKk7K8usFYjgVP9KRmblPEfWysOKIBuQTxuhQjsB/DZ4lXpkL774orxGuHM9WR5vB1PaWiwGt27ZskUmFFwnsnazHwsgXqzI4x6TasHCfbfWIBZ0pKa/JfUC72cjYaKf/v37B/qd1GSOxrJsLT7Bi03IX2RFFZbP5CxVkYAKofChQshHrAkhQODYhxszNKsxYNGiRXKMjYEoNTAg2szVWAHsElq+s27duoHvY6BMDdSNsp/BomAHO/IQ2UEUU3ZKlqpIAPHHsvJYBXFjBxxW81SpUkVeI6JxESKE7b0sU6ZMwIJkXZ+IaNoMx7D6+IvxklKB1ZB2gGTmb1ecsfXt29f7K2IPhDQDcqzhd/1REsWCi962o2BRkxR+Fz4ixlqbETV2tSNL7FPbT7ACzv4Nr776qhyjb0NUcIyNhJ6Rjgqh8KFCyEcsCiFEit+6wmybDoOcN/ZYSuZpP5jucQXxuerVq8sxOiYrtvCrp7ZDovOxy7IZJG3+Gvu3MYgmF7cUScS6EOJeWfeXf7MuV87bJfD+jYGKWTeza5s8z7/hRiXFAudJnBh8HqtBLFqDLLEqhLin3FvuIdYh4B7bOEPEblomOORLs23CxjsikO2xp59+Wo6lBtxnuNH4HP0OfyubjYNjS8m1HwmoEAofKoR8xKIQAnz29gEn3Tw5TGxhQmZawcnqkoP8MdYawIZlyfr8CVacN2+e987UgaXACqsmTZo4K1asCMzWGFj97rdIJjOF0IwZM7IkZgbros0XxIa1zp8NGLegzRfERnkE/3kGF7/YoS6VP+cSn8eNZu8/MTOxnvwuVoUQ+MtuEPTsz0XEQo60wLNlrcSIb/osW/uOCVNaYqsQYBSLtX8LLu3x48cHXLFYs6IBFULhQ4WQj1gVQmBn41huKJXBax58RFJaoUq47URshXo2/Op2xU9qwZrgtyT4vy+aqkVnphDq06eP89tvv3l7mQuWH0pw4NYMda8JlF6wYIEU/GWWHQzWHZLbJXUeCyaxbFgu09qWopFYFkL+shtMvGzcEMLFL5BTiy27wdarV6+AYCZreVohBs1OwBD0JBLlNRZImxk90lEhFD5UCPmIZSFEkVY6INuRsNExpWd5KIOZLZ/g36g3lR6GDRt2wndRfiF4lVskEy9CSAkvsSyEcIX5UyzYjQUcCOq0grXYutvsRs3F4JIwqcWm8PBvzZs3T5PLLitRIRQ+Tsx0pcQkZPQNTkjXtGnTdGVtdmdSklTtVF+itIsuusi4MzNvL23ccccdkrzMwvfy/W6n5x1RFCXacCdekmk+py/RJf3NM888EzLhYUpceeWVktjTz/XXX5/uZKtkJieruSVbtmwn9GtKfKB3PE5ABHXu3NnbS8h+HKr8RWpxZ3qJsq7SgeTKlcvbSxsInscee8zbM5KVmgzFiqJEN6VLlza1a9f29oyhVIt/0pMWsmfPfkI2aDLeI2DSQ4UKFWQCZ2nQoIFkNlfiDy2x4YP6N5RGYCCORQ4dOmQef/xxSZdP3Z1QZTLSwogRIyTtPR0UQqhIkSLembTz22+/mYEDB5qjR49KmQdqkaVn1phVUCPq+eefP6lrEAzXgnIWBw8e9I4kQBkYailRZ8jCtWKQCefvjwf++ecfucb79+/3joSG60sts5IlS3pHwsPhw4elvtuvv/7qHYk9KJlCuRxo0aJFoMxFesGiRH9B7TlqFZ5MP7FgwQLz/vvvy3dQsqVcuXLemchn3759UlOS0lDKyaFCSFHCQEYIob///ltmwHv37vWOJPDll19Kh+13a9KRN2rU6ATXgZI8TAreeOMNKSicEhQJrVKlircXHuJBCCkZgwqh8KFCSFHCQEYIoaR4+umnpWgkxWiV6EaFkJJeVAiFD40RUhRFURQlblEhpCiKoihK3BIxQohgxa+++sosXbpUgnpPFr7vueeeE5fF8ePHvaOKomQEuOpq1qxpGjZsaJo0aSIxNz169BBX4fLly713KYqiRB5ZLoT+/fdfidxv2bKlmTVrlvg8yQ1xsj5zVjH17t3bjBs3zgwfPpzEkd4ZRYluSIVALqdIYc+ePZKnau7cuZKbpU2bNrKijZV/rMBkZaGFSQnPov2pKIqS1WS5EFq/fr3p2LGjGTRokIgglgazRJWljAQSppdOnTp5r4x58cUXpbNGdClKtIPYyJMnj7eX9Zx11lliBdqyZYuZN2+erF5jFRs5WgoWLGjy5s0r79u9e7dMTpjosOyZfUVRlKwmy4XQjBkzTLFixSR3DJDps3HjxmbRokXm559/lmPpgcRYffr0kSyhdNBdu3aVWShLjz/55BOza9cu752KEl2Qt+lkcqeEG/4ektr16tVL3GPsA+7pv/76y1x22WWynzt3bsl/RA4Ynkd/HiRFUZSsIsuFEMnM6Cht5wklSpQQs/mGDRu8IydCB0tcQtmyZaUDDgUxCpyHd99918ycOVNmo2PHjjXFixeXzMqzZ88+KcuToijGrF271syZM0cyCVu+++472fdnEsblzbMXq0lLFUWJPrJUCCFA6BjJEOoHUzt1apLK9kqm0kmTJonQGT16tMwwQ8H3EDBta8f0799fzPF0xORgIP8CpRzIsowrbdiwYWEL1laUeGLz5s3ievbXlVq8eLG4pf0lEJjcXH311REV46QoSnyTpUKIEgJkz/Vbg4B9xEuoYMoDBw5IfRlcX5dcconUi2nXrp139kRYxYLIwZXwzTffSMwCgsjP6tWrzdtvv226dOkioghhRn0cUrmvWLFCgzoVJQWoF3fs2DGzceNGeaaxvmLpDU76yHmyM0eSa09RlPgmS4UQnSFbUhaYYIEEiBJqL1Gkc8yYMebPP/+UuIPkwIVmZ6qk1E8O/p7mzZuLCKIqOrNX7bQVJXmYkNStW1fSVfD8UJCXwrzB8LxSRVxRFCVSyFIhhDihYvkff/zhHUmAmSVm9mCXGRBbMGrUKAm8fOmll8zFF19s+vXr5509kSVLlpjWrVsnElt8FquSBdN95cqVA8X8+H4sTsxm01vZWFHiCeqeffDBB2bhwoVm8uTJpmrVquLe9sPKTazAhQoV8o4kPOtYkBRFUbKKLBVCWHxYKv/jjz9KFWgLHSarxxA5oUC0UM3466+/liX3BGmGYuvWrbICjSX6fogTotMGildirqcDZ2lv/vz55biiKGkD4cMzy7Mbik2bNslE5swzz/SOGFkdunLlSm9PURQl88lSIQTE4nz//feyxN2yatUqcXeFKmA5ffp0CcLEXUXHi3WH2WcwBGUSi7B9+3Z5b4cOHcy0adMCgdOY6Kk6TTLHwoULB44rihJ+mHxQSZ/FEVhwBwwYIOktmHyEsvwqiqJkFlk++hPMjFWITnLbtm1mzZo1EmhJRxkqRgiB89Zbb0m2WkpyMJtkGbwf4og4xkoWwCrE95Po7cknnxRhhAWK1We6ekVRMh5c4Liyf/jhB0l3QR6h7t27S/oM/5J7RVGUzCbLhVC+fPnMRx99JAkVWb6Oi2rEiBFJusVatWolQZkIJszsdK7BidmmTp0qG1x77bUS82MFD52vTfD2/vvvS0JHRfGzd+9eXSkYZrDe4hLD8krcHaktEEc6EVEUjZXLaiLCH3TeeefJCi3ife6//34RQUmt1CKGh1Up1DO64oorTrAakTGa2SYWH4Kxhw4dKt9vQTwRFE1nzGDH70xpJZkSPxCk361bN+2UFEXJNIh3ffXVV709JbOJucAYXGW42IA4I/ICBYOrjFpmwPtJzKgoFkqxKIqiZBZMwPwLhpTMJeaEEIkRGciwBg0ZMiRJy9Kjjz4qgdYwcuRIUeSKoiiKosQXMSWEyFEya9YseX3dddclGWcElNl4/vnnJXYBNwgBnPhpFUVRFEWJH2JKCLGs3tYnC+USCwb3GIHXQEV6grUVRVEURYkfTnFiaHkMq80eeOABeU35jdtvv11eJweZp6tXry7WJKpkU3SVlWxK7ENOm8GDB59gCWRJN7mp/FnFcbWy4jCphJuUlsDCGCr3laIkBYWnS5UqJW1RiQ9IADx79uxEK1PJa0eFhauuuso7ksBFF10kMayhkpRSOJzFPhQPV04ShFCs0K1bN1qWbHPnzvWOpozbmAKfa9q0qXdUiXX+/fdf559//km0uYLYcQW0s3fv3hPO8f6kaN26teMOZt6eoqSOQ4cOOa549vaUeOD48eMn9C0LFy50nnvuuROOsyUFfdSjjz7q7SknQ0y5xsgZ1LFjR9O2bds0zcwffPBBKQSJRah9+/beUSXWsdnJg7fkjiuKopwM5NIK7ls4Fuo4m5LxxJQQIrcQq8bGjh0r2apTC8ndJk2aJPljUhNbpCiKoihKbBBzy+fTC8JJ1beiKIqixBcqhBQlCC3AqyhKZoLbXfudrEOvvKL4oDOiOvoZZ5zhHVGUjEezmcc3xKgS36pkDSqEFCWIwoUL6+xMyTQor0DyV7Ld79ixwzuqxBMUJM6bN6+3p2Q22tsriqJkEWS1J5fQ5s2bzaBBgySPzJQpU8yhQ4e8dyiKktGoEFIURckiWLH6yiuvmAsuuED2KRjdsmVLU6VKFfPVV1/JMUVRMhYVQoqiKFkEGYPJSr5y5Upzzz33mPPOO08ynX/zzTemVq1apnPnzubnn3/23q0oSkagQkhRFCWLIS7ttddeM999952pVKmSHMNlNnz4cFO2bFkpo6AB1YqSMagQUhRFiRAKFixo5s+fbyZOnGiuvvpqOYYAevzxx0UgTZgwQY4pihI+VAgpiqJEEBT4bdasmVm8eLHp2bOnuM8cxxH32cCBA713KYoSLlQIKYqiRCAIH8SQH5ZZK4oSXlQIKYqiRAh79uwxH374oalTp46pVq2a+eKLL8yRI0ek/A+uMuopKooSXlQIKYqiZDG4vmyx6BYtWphPPvlEEi0CgdQzZ84MrCxTFCW8qBBSFEXJIjZt2iRxQKVLlzbt2rUzO3fuFFFEZnME0ezZs83atWtN3bp1Ndu5omQQ+mQpiqJkIkePHpXcQA899JC59NJLZWm8zRWUJ08ec8stt8j+Bx98YOrVq6d17xQlg1EhpCiKkkmQLbphw4amYsWKklGa5IlAIsVnnnnGLFu2TGKESpQoIccVRcl4VAgpiqJkIAcOHDCTJk0S91bVqlUl/mfv3r3mlFNOkdpiCKCffvrJ9O7dW4qvEhitKErmoUJIURQlgyAAOl++fJIX6OOPPw4EQFNbDEFEKQ0EEO9RFCVrUCGkKIoSZiiNUapUKQmApsI8kBixefPmsgJsy5Yt5sYbbxSrkKIoWYsKIUVRlDAzY8aMRMVSqSa/YsUKKZFRv359EUWKokQGKoQURVEymF9++cWMHDnS7N+/3zuiKEqkoEJIURQlzBAA3bZtW3PhhRfK/u+//24GDx4sRVW7d+9uli9fbv755x85pyhK1qJCSFEUJcyUL19eAqU3bNggwidHjhxyHIvQ//73P6kkX6tWLbN+/Xo5rihK1qFCSFEUJYM4++yzzYsvvijxQkOHDjVlypSR42SP/vLLL80VV1xhbrrpJhFNaiFSlKxBhZASdzAIRcumxAZFixY1nTt3Nj/88IMZM2aMKVu2rARMHz582Hz22Weyuqx48eKSTXr79u1672OQ4Gc7krd44xT3H61PnMewYcNMy5YtJceHErs8+OCDkuE3nGzcuNEUKlQo4AIJF9Sa0vYYe7CkfvXq1ebZZ581c+bMCeQXop4YRVabNm1qHn/8cZM3b145rkQ3pEto0qSJtxcejh8/brZt2yb9Tji57LLLzBtvvBH2viySUSHkQ4VQxkExySVLlsjDlS1bNqmpRKFJ3ANk02XLLKjf9NFHH3l7kc1vv/1mChQo4O0lwCNLIc5Zs2aZb7/91pxzzjnm+uuvN40aNUpUl4prPnXqVAnU3b17tyzhpryD7eDoSD/99FPz9ddfm3379klSv9tvvz3dgy/iEuH2/fffyz2+6KKLJE8Og/6uXbvk7ya/TvC/J55BAPFcMPBwP//66y/vTELdsQ4dOphWrVqZcuXKJVt0ledo3rx5ZtWqVdJ/cQ+JRzpy5IjULiOrdTxmrMYCR2HbnDlzSnsnkzdtk1ImPDO4LjMDYsEuueQSby+yofzLF198IdcsGJJ/IuroQ3i2cefyXA8cOFAWBvB6zZo10hb37Nkj7RtRz3W3ObOweJJeAhFHv1O5cmVz8803pyulBCVqRo8eLYlJ6SspVZM7d26p50f7pw8kX1e3bt28TySB+4crHkOHDnXcm+TtKeFk8ODBjjvTcKpXr+5cd911ztKlS51XXnnFcR8Ox+3ovXdlDu6ggPiPis19uL2/+j/WrVvnnH/++U6pUqWcBg0aOO6DL9exa9eujtvxyHvcDsJp3ry588knn8gxt/Ny3Jmj8+KLLwbe8/bbbzudO3d23AFCjrkzVsftlJwDBw7I+fTgdj6O2+E7lSpVcg4fPizfy7Zjxw7H7WDlpxIarlf37t3lXga3A1fEOlu3bvXeGRp30HfcgcBxxa9cc3eQcnr06OG4g73jil3vXfGDK8AdV0BKm65WrZpzzTXXOL/++qtTvnx5ucbvvfee986Mh2c2+J5G6sZzeujQIe8vT0yNGjWk3ylSpIjjCh9pb+7ExnHFppynnbkTXOm36Feef/55p3Dhws4ff/wh5/neWrVqOdOnT5c2umLFCmmfY8eOlfPpZc6cOU727Nmd1157LdDnsLmTM6dPnz7eu5JGLUI+1CKUcTDbZVa6cuVKmb1SedseJ5h0/vz5iWasNEtmDG7nLxaEcJp/mXUzU44GsKoEz+SxvEycONEMGDBAZm3MsLAcfP755zIzwtL2zjvvGFfoSFkHrERupyAuQa79okWLjNsxmRtuuMFMmzZNrA1AyQesB1h13A5PjqUVZmKsmDrzzDPld1nrE7EwvXr1Mv379zdnnXWWHFNCw4zbHSiM26mb7777zjtqpB3cf//9ZsiQId6RxHD/brvtNrF2WAsrn3cnHmKJw9oXT2zevFn6m8aNG5tRo0aZChUqSHA6td9atGgh1+XJJ5/03p2xYDn5888/vb3IhmcWi6K14Pjp1KmTeeutt0Kew+LWpk0bscDceeedcgyrEBYfxtWnn37ajB8/3rgC1EyZMkUsc/RL7gTOuBNj6S/8Fu20gAWrTp06Usj4nnvu8Y4aGUMYW1q3bu0dSQKEkJKAWoQyFqwFTZs2lVmZxR2oHffh8vYSLBmLFy92Onbs6Nx6661Os2bNnLJlyzr16tVz9u3b570rvmGW8+OPP3p7CYwePdpxB0pn3rx5cg25dq44EquAZdy4cTKDwyrD+12R5bgdhXfWEasR5wcNGuQd+Q9mV7t375ZZnh+sR/7ZoyswHXewEYsQry2uQEr0tygpw/Py6KOPJpqtu4OMd/ZEXnrpJccVQM7evXu9IwnPF/d0+fLl3pH4wx0IpT/huQDaYv369Z0PPvhA9i3uoC0WCp4NrNVz5851du3a5Z1V4N577/VenQhWIaw/q1ev9o4k4Ipzscbx/NN+XfHpnUlg5syZzrnnnuu4ot078h98xp24Sv9jsX2Rv3/hHp9++uliEbLwPp4h/2eTQleNKZkGlgb8yEWKFPGOJPjwWT5sYYkxVqKXX37ZTJ48WSwfWDry589vsmfP7r0rvvm///s/sfr4YTaGFYZAW6wyxEVwrf1xJVx3fOq8lxijXLlyJZqBse8OmsYVqt6RhJks8SvEHxFfxGwaiANg1kfcETO5lGDGhg9fSRm345ZnBQsqlhw/1sIWDJ9xxbFYEO17iL94/vnnZTZMjEY8guX3ueeeE6sQFgjgGQC/1ZM4uR49ekg8GzEyPGPvv/++WOaU/6APJgYQyySxP/TXWHuBFBG8Pv/882XfUqxYMYlTxDpEf08b9YO1n34G67+FPgxPAc+AO6mT++LqFbkfWJ2w7lGyJjn4W7D4pcb6r0JIyRRo6JhUMU1bCKBF5NgOiYcEV85jjz1m3BmCHAPMtLhVtD5TAsFmaToNOoj77rtPlmBzrREswdeLoGoGAzoUggh57RdKdHKIISt2gPOIHT6Ly4YBF3BXcnzdunUhOxpcb2+++abc8xEjRpjXX39dBJiSNNwTltZXrVrVNGjQQFyYBw8eFJcYbhwGHdwKoWBwZ+UimavHjh0rblASOeIqI6N1vE4iuKZcF3+/g2CsXbt2IOs3weo8O7huuPZMMhBD/fr1M1dffbW8R0mAlY4IRvoYhM3DDz8sGdTpA3jm6ZuC2xp9ue2TQvVLTODoi/z9Dm2ee0T/g3uLPgu4j4h6StbQ7wWDG8z2Oy+99JL8vaHceMGoEFIyhUOHDknj9VsgWLH0wAMPyGolGjoZd2nowSs5eBhKlCiRqgYdjzBzRVTSkdOBcC3peGznYaGz4TzQcQWft52YvyPj2rOclrw3fhCnDM5JiVM6tyuvvNJce+218tnMWp0TrWAB5Tlo3769xIDZe0OsDzE/iCLyEGGxCwVCiFk394oYR6x43B+sdn4rEkKWQQLBzEycOKRYxsYD2nbKdeLfTIyQhWvPRCt4NSP78WpJSwpKx2CtpH3Rf9MmifchBQR9PO02uF+hP6Ef4dqH6pfokzjvb6cco//wW77pn2i3xCDafiwY2vQ111wjAhZLFN8b/PtCoUJIyRQQQCwfJViOsgOTJk2SBmrdYpgxUe803pTggbKWiXgHkz4dE0tIrcjk4afzwZzsh+vGOTaECjMqOiYL94P3sGw7NSQnTLEsUUaCTgmLH4G6SXVe8QqBzASK4rJkZm0tZgSTE5SKtRR3gw1mT469e/eKGGbgxo3JLJ08RFhZ/bCPS+HVV18V4czAlpSVKRZAsNNXYCXDookIwlpm3TO4D3/66ScR7MnBd6RmQI11sJhZ6EewDtFfUDsPqzFt2LrKLPQzTIQQo/RLWDn98Bn6Epa9B5PWyW/JkiVFKLHhukvNswNxLYRo3HQexFOQ54GofgZpNuIZgm+Ykn6wRmDxoeNhNkbjZyWBbejcCwbh5Nwn3CtmHwyu/jiWeIVBjfwYJOXzC0iuNZ3Kjh07EglGBks6Is4zEJBnw99p0WFxf5LK6RQ8EKRlYKhZs2ai2LB4hWuM4GeVH5007i4GaJ4D7knHjh3lvmK1QUCmVjxat+Wll14qAxQiiPvct2/fRK5LxPEjjzwisRdYi3A/MJuP1UEeKxtik4nCHXfcISuLLr/8cu9sQp/CdUMwhYJzWIyslWHmzJmJnql4B/ciVkosMcQn0n+Ts8wP1xiLvo1BDF49Rz/EJI7PhxO+k/xGofIhBRN3QogZMA8+/nOW9aEcmQ2wDRo0SCwU9hg/69evL77G4JmVknYwc5JoC9M/Ysiv9mmsPCwkCEwKHjIG6eTEUrzAknmWorNEPjhRGyZmBkRiIxCXFmIjECN0ELhQ8MnzPRaEE0IoqVlUsFBlAoE5PBQ6ez4R4t9I4sfGwGzvDYMDgghLDQIoPYKR54ZYDGKEABcCcVn0dbgx7P2gX+M5s3A/sdyldeYdLSAksVqwjJ7rz3Phh36HMYF2HwoGda4dwf7EDCEimVDEG/ybSdsQLAKJC8IS1KxZM7m2vEbo+2FhBgHPnCPImRQf/v6B89TgSypFCuLd34+RFiHcY0BcCCEaOg8CEeR0MmSxxDqB7524FRQrDwIzJwYHgsBQrZhMcTvQ+IldYYZGfhZ88Ur6oOMJFVdCh8UslhVIZEO2gXDcO+IjGNSJfaCjZ8Ybz2ANI5iWzoTaVLg4uHbkZmKlBdeSlUJYCayAx/LDQEAMCveA+BGsSDNmzAh0bnPnzpVBMXhFmoXAUwZqVowRH4B1jt/ltzjwGnGENdXfecUrCE3cMgSWY4XBhUAfQxtmIsbggvWZWLn0tm0GBSYYrKxk1g0IGyZ1WHyYyOFiA+6XFT1Yvnm+sJTEMvx7cQWHurZYgljlRJxd8CDPtWHwJi8NYpVJGC4ermG8gbuW1WI89xbaNuIQVyN9MxtlRBDe1iqEQOd9uKm4/qw243t4DoBnYcyYMebuu+9O8royFtPP0Zd9+OGHsqoYuD8W+hvuX7q9OG5nGtOsX79eMmXyTw215ch5hnPNDXWduu3vc269/1Gn0d0POzVbdnQKX1o2ZIZXNncgd1xxJPkolPBCPggyJbO5s1fHfbgS5YYgBw55hVxh5B2JP8gYHapdspGB2OJ2GnL93I7Kuf766x230/LOJEC2V1f0OC1atHDatm3r1KlTx3E7Eu9sYvr37++4AkqeCbdDk3wi5DPiGDlARo4cKZmqixYtGvhbSpYs6UyaNMn7hviCvsGdbDnuAJLo/rDRfsOV6ZkMvlWrVpV7ki1bNscVPolyoZFvivtDnzVt2jTvaELOnJo1azquQPKOxC/k16IduwOyd8SRvEtkbfdnQud+kqk9XqEagCsoneLFizsVKlSQXGHuZMs7m4ArbJyGDRtKNm9yYNHW3YmsdzYht48rlCQbtTt5k/fRL7mixntHYtzJnfxOnpscOXI47sTBcSdvkkXaFf7Oyy+/7LRs2VLaOO/hvVQvSCkLezAxm1kaCw85NAgKxMJjuaBgUVOr9R2m5FXlzYWFi5u8BQqZbDlCr3w5uHeP2b51k9m++Rez4tMZZuH0Ceb4P//NcvEZE59B7So7y1JOHpQ+JleaJnETxLVYWAXiNnTx1WP+j0ewlnFtiAGxs1xmQ1gGOG4tbrzG2sCMioBGrKH2/RaeE6xtfBcutlDWOiColu/BzYBrjdmf/Z3M5PhdduO7gPvIc2H34wni3yZMmODtJcQrsJSdIGYsQUld57TC9cbyxjPC/eCa4xr190ect/eIn8yaCQNglu5fVh6vcN1w13z22Wdi9SSuiL6lVq1a4m7kulGbEPcQdd/iGbwhbFiIcLH6V3pZ6BOwQGIZ5j1cQz9cT/s99O/JxQbhjcF6jUsN65y9H2zAT+4f7ZqN383G85CWMTnmhBD/HHKb4AIgPwRkcy9K/uKXmIZ3dTM1mreTY+lh384d5oP/9TUrPptldm/fxi+Ti08hOoJWk1raqoQP4liqVasm5tGkgnpTYuHChSK0ogFcYLiyshqEEKZp3Dy0eSV5cIPhigQ6ZJZn4xbAfZWVkyZcpOTpIlaIWCUGEUAkhxrUFCPlH8hPQ3A54H70T85SAy6gaCn0jKuQMJDgSVNWwLjKBI1nJyOJOSFEnAOBuMT9QM6zzjZ3PTvMVKp7i8mRM311TILZue038/4Lvc2CqeNkn46NhoOVAl+0kjEwIyM5H5liu3TpckLixdQS7dXnswKEEAKSxI06YKYMk6MXXnhBZqdAH8HsF4FETFd6AqLDAX8XCRaxUCGC2HjNQF+qVCnvXYqFFAdkVOf+sSEOSDdAwsW0ECvV5zMb4h6xKBP7mJHEjBDin8HgRvptArVOdWet19SoY27v/YIpcHHilQLh4otJ75qJg/uZ7VsSlnJTbI7VIJEwcMUi3GPrBrAumfTMrlUIpR2CFLEm4N6JhJliNECgKCu3KGzrLx+AiR8XC30VZv+0WhdOBoLZeWasW5XnCXcarjq9ryfid7UA18teu7SgQih9IDqZNPjzF2UEMSOEiESnPgwmSLi5YxfToU/aVCSur7PPO19EVGr5e/8+81j9iubPzb/IPvErzK6UyIVYl6SWfacXcpX07Nkz7KIF/7m6oqIbhAYrt5566qnAakgLaQyop8fyYSV2QUAxqQknjHXDhg2TfiecIIqxXqZnkhmtxIQQWrVqlbimcJ0gYogFavZgb3P6GWlzU41/sY+5+Y4uJtf5oZNrJcXvG9aawV3amk0/rJF9TKkESkaColYyBywlBOdnlctDiXxYRkxeHxZwEHdiYcDBMkTKg3bt2onFSFFSgoUOLNbBBaucHFFvC8VsyUzLJrmq2aKjafVI3zSLIBBNmA5dWKBEKdP9tQkmb4GE6Hc6O61arCiKH7Lwsohj8eLFkr8JCzarb+h3bC0x4nQQSlgPbCCzoigZS9QLIRIjkvQQLqtc3XTo85I5LQuW6+YrUtz0fHuqyZEzIVMpCdJIaKcoiuIHCxCrAakltmDBArEmWvcnlbYRRCwXJpEfViRFUTKWqBZCLOclsyVWoZxnnmXaPTFIhEhWUaT05aZ+pwflNfluWNmEb1hRFCUYXOfUsCIglOK59957r2SXxhKEICKLd9GiReU4Gdfp5xRFCT9RLYRYoWWDo5t06WWKX3aVvE4dnhssaHP/f+LxNNCsay9z3gUJlY0/+eQTyXujKIqSHFdeeaW4xKijNGDAgECKAlbqsfKMRRgUC6VUkKIo4SVqg6XJAMpyRJbKFy19hRk4e5k5JZVLGg//fdBMe+1Fc2BPQq4hy/rVK0zRUpeb7D6r0imnnGqq3dralLw69Xkj1q5cYp5ueaNkoaaOz8iRI70zSqyiwdJKOMElRtLQ1157TWoiWqgfxgRLUTRYOnxErUWIWZIt7PZ/DZqmWgQBbrSWD/cxnfq9kmi78vpa5rbHnkl07I6+L6dJBEGxsleaQiUTCldSHZwimYqiKKmF4p4sqafcg6IoGUtUCiHK8k+aNMnbM+a6Bs29V5EBK9Yq1Gns7RmpnKsoipISGOiphM6Kspo1a8rqMgvxQ/fdd5+3pyhKuEhWCPFQbtiwIRCHEwzHSWRI0cZQSz0p7ke5/RUrVsjGa/932fP4vTH/ptZywuf4u6BC7UYmf7GS8jqSqN32bpP99AQXmz9niKIoSjCsMCVGiFghMk6TlZqkn2QxRhCNGjVK+tlbb73V+4SiKOEiSSGE/5E6H6VLlxaxEwwlCnhoyZhau3Zt07x5cxEoflhGTmp+UnY3atTIrF69OtEqKs6TDLF+/fqywspfJT456BBs3qBqt94mPyON8y7IZ4qWuVJes7pNURQlGPrMxx9/XKp0U1iS2lYWkixSQJr6iR06dNAab4qSQZwghHA7EeDbt2/fJDOc8rC+/PLLYuUhBoYHldfBhdEoiMn3IJQQQDfccIPJnTu3dzbhPDMcqrYjqK66KnWrvihuCtlPPz3N8TvJceqppxEd7e2dPKXLV5afWK/2798vrxVFUbCEd+rUyZQsWVKC7O0Ekb7wwQcfNEuWLJF6T8WKFZPjiqJkHCcIISoRDx06VIRJ5cqVJfmXH6w4/fv3N2XLlpVy/UA9pDp16oTMpkyujO7du4tLjFiZ4EVqmIAvvvhiSSCWWmwCxfPy5jNnnHW2vA4Hje/tbs45L+HfFA4uuaaSCCs6OZKnKUow5IbRDMLxAZNMwgAaN24sVnImkX/88Yecow8lkSIWIKrDV6pUSdxiipIRMCZF6YLxDOEEIYTwIe17UuC+IuaFRF8WKvFSHZYcGKEg8I+l7ggl8mL4IRgQFxyF3lIDQgwXG5x7Qb5AHE44yOmKqrSsPkuJvAUKmezZE8zZzPAUJRgKbq5Zk1CjTolNELsEQDOxrFKlSqIJI+kWxo0bJxZ1JqB586atzqGipIdevXpJ0k4lgTSP+sQOIYZwa/mh6rY//scPwoqU8sTK+ONltm7dKvt0EKnlyJEjgQyr2XOcLiIsUsnm/n1WWNmYJkXxs2vXLrEUKLEH9cJGjBhhypUrZ9q2bSuCl/6LSZ8NgP7pp59Mq1atpA6ZomQWtM2kxut4JM0qAosOQiTYbIvYSapsP2KFYD8YPny4/AQCqUkxT86M1HL06FHvlfu91Oc5NXwxPeGGmmf2miS18k5RlNiDeEnie6g5iADCDUFfQAgA5TRsADShCIqiZC3pNqcEq0kecls4MBQEBeIbnzJligQPI6gIBqQzSEpAhcIvwCS2IoL9nP+6gtH6Yc88M+3V8BVFiU4+++wzceMD/dvtt98uVedxkRNfqShK5JBmIYRZF8ETbOEg50Vygz1WIfJj4AYgRfymTZtkxlSqVCnvHamD4GsrnI4fOxrRgab/HD3qCqGEvy9XrlzyU1GU2Mcf88hkiLigefPmSa40LZ6qKJFFmoUQsUFs+Bj9EO9z0UUJxUaTonz58rI6YurUqWbMmDGmYcOG3pnUkz17drEuwb6df7li44i8jkT27PhTxBCQc0lRlPiA9CLkRrOCiBjB3r17y2oxYoJsQlhFUbKeZIVQqOV1iCCCm0mEaM8zw/n000+lQnJy5MmTx7Rv394sWLBATMdXX321dyZt3HzzzfJz944/zJFDh+R1JLJhzQq5RljQKJaoKEp8QEqQIUOGSDLaHj16yOSNvuCvv/6S2EgS1bZu3VoS0/rjHhVFyXxCCiEeWFxO1oyL9ce6oLDIPPPMM7La4eOPP5bjP//8s4ibe++9V96TFLi0SNaIC41VZDYPUVohEzUc+fug2fzjt/I6Elm7crH8xAqmq0IUJf4gY/TAgQMlPxB5g+yiEuKHxo8fb+rVqydu89Rm1VcUJfyEFEIk+eIhRfTYKu/kO7FLwJnd4PPGqvPkk0/K6zlz5shDnxIssyfbNIIoveBmsrmOFs/5r/hqJHH47wNm/eoV8lqDI5WTJZR1VokuOnbsKJNK+tZatWoFFpcgisgorSiRRiTH4IaTkEIof/785rbbbjN33323ufPOOyUVfMuWLRPlDqIcBktEn332WfPYY4+lOuiZ2RBLSgsVKuQdSTuIIBKRwecTRkssTqQxf+JYc/hgQkA5eUQUJb1gcaUN4VZRohv60BYtWkgoARPJunXr6hJ6JSKZMGGCufTSS82OHTu8I7FLmoOlIwGEEB0IsER9yezJ8jpSOHbksFk4bZy3Z0yzZs28V4qSdnCbXHHFFWo1iCGYENaoUUPihdIbIqAoGQkpbqpVq5amPH/RyilOlNrcf/nlF3PZZZfJsv0yFa43fSfO9c6kjjUL55plH00zjvtfclDP7Jb7HklTKY+t6340PRtVNkfdv40abAREKrENFlSKZ1pLZWoh8zCLBqg0rsQfDDZY04nHVJS0QJUHPDIvvPCCdyT10F8NGDAgUamseCZqhRAQZ0Saeuj59lRTrmY9eZ2VcDmfaFrdrPt6qSR/pFJ/WnMlKdFHRgoh/PRYENiU2EKFkJJeMloIxVO/E5WuMctdd90lCRZhRI+7zJ+bf5HXWclHo18VEQRUkFbFraQXllUPGzZMgu3feust76iiKErGgSuenFd4XCgHEw9EtRCiqj2p61Gs+3buMB8Ofsb8ezwhrX1WsHv7NjN52AB5TRzT//73v4BQU5S0wGxs8uTJpnjx4rKKMylBjUVh586dkuk9io27iqJEAPQhM2fOlFx9rGak/wkFFSLod2KlYHRUu8aAas4kcly6dKmU8Wjdo79pdG/3TDfnHdizy/RtXdv8+uO38rsHDx5sunbt6p1VIhUeenJipQQdwi233JJkPb2McI3xaFKfimD75cuXm4IFC3pnEkra8Pu++uoraW/btm2TAsa0Ow2+jR7UNRZ/7Nq1y7z33nsydiUH41mjRo0ClRSCySjXGP0Ofx/VH8gV6B9LSf/Qv39/qSRx8OBBs337dumfSIkTzUS1RQhIYU+CRwYoZtEfDnnWzB030n2defV8sEYNf+ROEUHAUud27drJayWyYTkz6SJS2nLnzp3p4prft2zZMsmblS9fPu+oEXM1KS1YOckybGr3zZgxQ5bXZ/bfqChK2iB2lHJUofqZ4C1HjhzepzIPLEGsZmQcs/0JYyu5AhFPjz76qEwgqZ3HEvtYyIwe9RYhCzcElWsLGnbq94qp0y75TNfh4OjhQ6Z/m3qBLNJYDgiQ1mrz8UVGBUuTRZ2afDZrOy4wjpHolDINFjoqKptT/kbFUPSgFiElvWSURejPP/8UEfTKK68EUr+Qy6x27doifigf44dz5BuKZqLeImRp2rSpBJZa18W7z/cyb/d5yBzYu1v2M4K1KxYniKCvl8g+DYSZuYogJRxgfl67dq2pWrWqd8RIVmLizoI7I8zoiCkVQYqinAykpkGgkzTZQmWJ5s2bh4wZinYRBDEjhBBAzJpfffVVcZdRh4wVXH2a1TTrVy03jjtjDheHDuw3c94Zbvq39SxBjiOzc+I1iLRXlHCwcuVK6ZCwAuGrx9q5cOFCEUGY15MDC1GMGHsVRclEvvnmG0neykQMFxj9CP1O+fLlk5xo0U+tXr1aYnVZ3BFtxIwQslDPh5uHDxa2rPvB9LutjnnpvlZmy9rv5Vh6IYv1l5PfM080qWbe6fuIuMUA1wXp8v1xHIpyshAATQfDDO3666+XDmn//v1SkiE5y8/GjRulNA4ma0VRlLRASQ0CudmIQ2RShRvO1vcMBYs0Jk2aJCEqN9xwQ9S5emNOCDFTvvHGG82iRYukPhrWocN/HzTLPp5mHq1fyQzo0NgsnDre/Lb+J3PsaPJR+7Bv119m3TfLzORhz5uHal5hhj18h9ny8w/uoPSvrOJhiTw337+iR1HCAQHR69evN61atZJOCPcXNfoQOgQ0hgJX2vz5882GDRtSXJWiKIoSDMHQ69atExHEeIq3pXDhwrJIIykrMyvbevXqZfr16yehIdE2CYs5IWTBfUA8xdixY6VWCjPo4/8cM9/M/8gMeai96XbjVaZtqXNNv9vqmo/GvGq+/nyO+XHZQvP9V/PNso+mmrHPPW66VCtj7ixX0PS+taoZ/2If88evG+S7GZBYqsyS5m7dummuICVDyJ49e6L6YrQ7YuEwP2/atMk7mgDCaPfu3RJ426ZNm7ioD6QoSvhhPAsuBNy4cWOJwQ229GAtwnVPUDWfO3bsmPRTJUqU8N4RHcTMqrHkIFPml19+aUaPHm2mTJmS7tiJCy64wNxzzz3SKIiq54YrCmTUqrFg6Hjefvtt89JLL0lCUTocTNl58+YVAcQEAEtQkyZNZFUIS++VyEVXjSnpJTNrjSF28H5Mnz5d+p0LL7xQ0nVgoW7btq0pUKCAvA/jAylJsCZF08KNuBBCfphJjxw5UoK/fv/9d0luxUzaLrsHbiDqlsR0efLkkaj4evXqSW6glIJUlfgks4SQBQvQmjVrJGaIz9P5WFQIRQ8qhJT0kplCyEJ/8+2338o4ePnllwdWSCMj5s6da7Zs2WLat28fdUaCuDNpFCtWTDJjctNIVsfKnFWrVslP3FxUiidqnm3FihWSm4WlgxR4VRGkRAq0RaySZFX3iyBFUZSM4pxzzpFJW8WKFROliWGsXLBggcQSMYYSqxhNxK1vB8XKAMIMHmXLoIJbgZ/kT2CWxsqzYF+pokQyZHmlUyIVPiKeGZyiKEpGgVVz1qxZ4qIn9AT3GQs6ogkNclGUTAa3lt2I+WHzHzsZCLAmkB8LZ4cOHTS5p6Io4rry9zHsEw5i9+mD0gthJE8//bS4+YcPH25ee+01CSWJJlQIKUomQrHUWrVqiSWS7YknnpBirrzGrEzSMjqm9EJ8G+KHJa/UKbKZ1hVFiV8oLE1As+13pk2bJuV47D71OuMZFUKKkongaiU5IvV8SJi4d+9es3PnTnnNT1ZmaCyaoijhpEyZMqZChQrSz7AxIaNyPK8JuibnXjyjQkhRMpmePXuaXLlyeXv/QWwaS1MVRVHCDYuBgqvZEyvLKq9YqBd2MqgQUpRMhpUXZGH159nAhcWsTGN6FEXJCHCFXXLJJd5eAqSI6d27d1Tl/MkIVAgpShZAnh8SdFpYwfjwww97e4qiKOGFMj243llQYUEc2bqc8YwKIUXJAkjVQPZVTNPMxghW1EzliqJkJLVr15YcQIAV+qmnntJ+x0WvgKJkAYifIUOGSE0wymPUr1/fO6MoipJxkFWa/odSUaxSVVQIKUqWgTuMuCCyQ7N0XlEUJaOhNhhCiGoJSgIqhBQlC+ncubMZNWpU3AcrKoqSObBidfbs2aZmzZreEUWFkKJkIRRFxT2mKIqSWdSpU0fLR/lQIaQoiqIoStyiQkhRFEVRlLhFhZCiKIqiKHGLCiFFURRFUeIWFUKKoiiKosQtKoQURVEURYlbVAgpiqIoihK3qBBSFEVRFCVuUSGkKIqSRRw7dsz8+++/5vDhw94RRVEyGxVCiqIoWcCCBQtMqVKlzG+//WZKlChhFi1aZBzH8c4qipJZqBBSFEXJZDZt2mSaNGlitm3bJuLn999/l7IHy5Yt896hKEpmcYr7EOoUxGP48OGmXLlyJnfu3N4RRUkdPXr0MA8//LDJnz+/d0RRkmbgwIFm9OjR4hazUHi3U6dOpnv37t4RRUmagwcPmvHjx5tBgwZ5R5T0okLIx4YNG8ysWbPUPK2kGWI8cuTIYU49VY2sSsq88cYb5ocffvD2/qN8+fKmbdu23p6iJA3jVPXq1c0111zjHVHSiwohRVGUTGbOnDmmcePGEixtyZYtm3nnnXdMmzZtvCOKomQGOn1VFEXJZG666SbToEEDc/rpp8s+PytWrGiaN28u+4qiZB5qEVIURckCjh49apYuXWo2b95sChYsaKpUqWKyZ8/unVUUJbNQIaQoiqIoStyirjFFURRFUeIWFUKKoiiKosQtKoQURVEURYlbVAgpiqIoihK3qBBSFEVRFCVuUSGkKIqiKErcokJIURRFUZS4RYWQoiiKoihxiwohRVEURVHiFhVCiqIoiqLELSqEFEVRFEWJW1QIKYqiKIoSt6gQUhRFURQlblEhpCiKoihK3KJCSFEURVGUuEWFkKIoiqIocYox/w+T3oqucXP8JwAAAABJRU5ErkJggg==)\n",
        "\n",
        "Simulação do circuito: https://tinyurl.com/2gv6b499"
      ],
      "metadata": {
        "id": "VDMnpNG9-J8V"
      }
    },
    {
      "cell_type": "markdown",
      "source": [
        "#### _**Letra B**_"
      ],
      "metadata": {
        "id": "77wFfW7s1h39"
      }
    },
    {
      "cell_type": "code",
      "source": [
        "V_C1, V_C2, IA, IB, IC, I_L,s = sp.symbols('V_{C1}, V_{C2}, I_A, I_B, I_C, I_L, s')\n",
        "\n",
        "# define os sistema de equações\n",
        "eq1 = sp.Eq(-(10/s) + IA + (5000/s)*(IA-IB), 0)             \n",
        "eq2 = sp.Eq(-(5000/s)*(IA-IB) + 0.5*s*IB + 8*(IB-IC), 0)  \n",
        "eq3 = sp.Eq(-8*(IB-IC) + 10*IC + (2000/s)*IC, 0)\n",
        "\n",
        "# resolve o sistema\n",
        "soluc = sp.solve([eq1, eq2,eq3],[IA, IB, IC], dict=True)\n",
        "soluc\n",
        "\n",
        "IA = [sol[IA] for sol in soluc]\n",
        "IB = [sol[IB] for sol in soluc]\n",
        "IC = [sol[IC] for sol in soluc]\n",
        "\n",
        "IA = IA[0]\n",
        "IB = IB[0]\n",
        "IC = IC[0]\n",
        "\n",
        "V_C1 = (5000/s)*(IA-IB)\n",
        "V_C2 = (2000/s)*IC\n",
        "I_L = IB\n",
        "\n",
        "print('Correntes das malhas no domínio de Laplace: \\n')\n",
        "symdisp('I_A(s) =', IA, 'As')\n",
        "symdisp('I_B(s) =', IB, 'As')\n",
        "symdisp('I_C(s) =', IC, 'As')\n",
        "print(\"\\n\")\n"
      ],
      "metadata": {
        "colab": {
          "base_uri": "https://localhost:8080/",
          "height": 196
        },
        "id": "s2aoplhi-kJR",
        "outputId": "725b6ae3-5751-41fa-cb50-806c61fab08e"
      },
      "execution_count": null,
      "outputs": [
        {
          "output_type": "stream",
          "name": "stdout",
          "text": [
            "Correntes das malhas no domínio de Laplace: \n",
            "\n"
          ]
        },
        {
          "output_type": "display_data",
          "data": {
            "text/plain": [
              "<IPython.core.display.Math object>"
            ],
            "text/latex": "$\\displaystyle I_A(s) =\\frac{90.0 s^{3} + 10800.0 s^{2} + 1060000.0 s + 100000000.0}{9.0 s^{4} + 46080.0 s^{3} + 5506000.0 s^{2} + 90000000.0 s}\\;As$"
          },
          "metadata": {}
        },
        {
          "output_type": "display_data",
          "data": {
            "text/plain": [
              "<IPython.core.display.Math object>"
            ],
            "text/latex": "$\\displaystyle I_B(s) =\\frac{900000.0 s + 100000000.0}{9.0 s^{4} + 46080.0 s^{3} + 5506000.0 s^{2} + 90000000.0 s}\\;As$"
          },
          "metadata": {}
        },
        {
          "output_type": "display_data",
          "data": {
            "text/plain": [
              "<IPython.core.display.Math object>"
            ],
            "text/latex": "$\\displaystyle I_C(s) =\\frac{400000.0}{9.0 s^{3} + 46080.0 s^{2} + 5506000.0 s + 90000000.0}\\;As$"
          },
          "metadata": {}
        },
        {
          "output_type": "stream",
          "name": "stdout",
          "text": [
            "\n",
            "\n"
          ]
        }
      ]
    },
    {
      "cell_type": "code",
      "source": [
        "print(\"Valores das tensões nos capacitores e corrente no indutor pelo método das correntes de malha:\\n\")\n",
        "symdisp('V_{C1}(s) =', V_C1.simplify(), 'Vs')\n",
        "symdisp('V_{C2}(s) =', V_C2.simplify(), 'Vs')\n",
        "symdisp('I_{L}(s) =', I_L.simplify(), 'As')"
      ],
      "metadata": {
        "colab": {
          "base_uri": "https://localhost:8080/",
          "height": 189
        },
        "id": "fE7dXDx_1kfa",
        "outputId": "fea7ae3a-7ef5-403e-e958-a53a912e381b"
      },
      "execution_count": null,
      "outputs": [
        {
          "output_type": "stream",
          "name": "stdout",
          "text": [
            "Valores das tensões nos capacitores e corrente no indutor pelo método das correntes de malha:\n",
            "\n"
          ]
        },
        {
          "output_type": "display_data",
          "data": {
            "text/plain": [
              "<IPython.core.display.Math object>"
            ],
            "text/latex": "$\\displaystyle V_{C1}(s) =\\frac{450000.0 s^{2} + 54000000.0 s + 800000000.0}{s \\left(9.0 s^{3} + 46080.0 s^{2} + 5506000.0 s + 90000000.0\\right)}\\;Vs$"
          },
          "metadata": {}
        },
        {
          "output_type": "display_data",
          "data": {
            "text/plain": [
              "<IPython.core.display.Math object>"
            ],
            "text/latex": "$\\displaystyle V_{C2}(s) =\\frac{800000000.0}{s \\left(9.0 s^{3} + 46080.0 s^{2} + 5506000.0 s + 90000000.0\\right)}\\;Vs$"
          },
          "metadata": {}
        },
        {
          "output_type": "display_data",
          "data": {
            "text/plain": [
              "<IPython.core.display.Math object>"
            ],
            "text/latex": "$\\displaystyle I_{L}(s) =\\frac{900000.0 s + 100000000.0}{s \\left(9.0 s^{3} + 46080.0 s^{2} + 5506000.0 s + 90000000.0\\right)}\\;As$"
          },
          "metadata": {}
        }
      ]
    },
    {
      "cell_type": "markdown",
      "source": [
        "#### _**Conferindo letra 'B' a partir do TVI e TVF.**_"
      ],
      "metadata": {
        "id": "Kxo1C4Fj1SE6"
      }
    },
    {
      "cell_type": "markdown",
      "source": [
        "**Teorema do valor inicial (TVI)**\n",
        "\n",
        "$$\n",
        "f(0^+) = \\lim_{t \\to 0^+}f(t) = \\lim_{s \\to \\infty}sF(s)\n",
        "$$"
      ],
      "metadata": {
        "id": "13_lLFIrKQix"
      }
    },
    {
      "cell_type": "code",
      "source": [
        "# Teorema do Valor Inicial\n",
        "vc1_0_tvi = sp.limit(s*V_C1, s, infty)\n",
        "vc2_0_tvi = sp.limit(s*V_C2, s, infty)\n",
        "il_0_tvi = sp.limit(s*I_L, s, infty)\n",
        "\n",
        "symdisp('v_{C1}(0^+) = ', vc1_0_tvi, ' V' )\n",
        "symdisp('v_{C2}(0^+) = ', vc2_0_tvi, ' V' )\n",
        "symdisp('i_l(0^+) = ', il_0_tvi, ' A' )"
      ],
      "metadata": {
        "colab": {
          "base_uri": "https://localhost:8080/",
          "height": 81
        },
        "id": "Ikg6pe1nD2mb",
        "outputId": "3a28ade8-2987-48c8-a5b6-04bc7756c199"
      },
      "execution_count": null,
      "outputs": [
        {
          "output_type": "display_data",
          "data": {
            "text/plain": [
              "<IPython.core.display.Math object>"
            ],
            "text/latex": "$\\displaystyle v_{C1}(0^+) = 0\\; V$"
          },
          "metadata": {}
        },
        {
          "output_type": "display_data",
          "data": {
            "text/plain": [
              "<IPython.core.display.Math object>"
            ],
            "text/latex": "$\\displaystyle v_{C2}(0^+) = 0\\; V$"
          },
          "metadata": {}
        },
        {
          "output_type": "display_data",
          "data": {
            "text/plain": [
              "<IPython.core.display.Math object>"
            ],
            "text/latex": "$\\displaystyle i_l(0^+) = 0\\; A$"
          },
          "metadata": {}
        }
      ]
    },
    {
      "cell_type": "markdown",
      "source": [
        "**Teorema do valor final (TVF)**\n",
        "\n",
        "$$\n",
        "f(\\infty) = \\lim_{t \\to \\infty}f(t) = \\lim_{s \\to 0}sF(s)\n",
        "$$\n",
        "\n"
      ],
      "metadata": {
        "id": "XdQm3hYjKRyu"
      }
    },
    {
      "cell_type": "code",
      "source": [
        "# Teorema do Valor Final\n",
        "vc1_inf_tvf = sp.limit(s*V_C1, s, 0)\n",
        "vc2_inf_tvf = sp.limit(s*V_C2, s, 0)\n",
        "il_inf_tvf = sp.limit(s*I_L, s, 0)\n",
        "\n",
        "symdisp('v_{C1}(\\infty) = ', vc1_inf_tvf, ' V' )\n",
        "symdisp('v_{C2}(\\infty) = ', vc2_inf_tvf, ' V' )\n",
        "symdisp('i_l(\\infty) = ', il_inf_tvf, ' A' )"
      ],
      "metadata": {
        "colab": {
          "base_uri": "https://localhost:8080/",
          "height": 81
        },
        "id": "-0Vu-MEJELvj",
        "outputId": "69e5d5b3-6d79-4230-eac0-dc5fccaba145"
      },
      "execution_count": null,
      "outputs": [
        {
          "output_type": "display_data",
          "data": {
            "text/plain": [
              "<IPython.core.display.Math object>"
            ],
            "text/latex": "$\\displaystyle v_{C1}(\\infty) = 8.88888888888889\\; V$"
          },
          "metadata": {}
        },
        {
          "output_type": "display_data",
          "data": {
            "text/plain": [
              "<IPython.core.display.Math object>"
            ],
            "text/latex": "$\\displaystyle v_{C2}(\\infty) = 8.88888888888889\\; V$"
          },
          "metadata": {}
        },
        {
          "output_type": "display_data",
          "data": {
            "text/plain": [
              "<IPython.core.display.Math object>"
            ],
            "text/latex": "$\\displaystyle i_l(\\infty) = 1.11111111111111\\; A$"
          },
          "metadata": {}
        }
      ]
    },
    {
      "cell_type": "markdown",
      "source": [
        "#### _**Letra C**_"
      ],
      "metadata": {
        "id": "qJlR-PzR1c0V"
      }
    },
    {
      "cell_type": "markdown",
      "source": [
        "**Thévenin**"
      ],
      "metadata": {
        "id": "r_WhchBrZoni"
      }
    },
    {
      "cell_type": "code",
      "source": [
        "IA, IB, V_Th, s = sp.symbols('I_A, I_B, V_{Th}, s')\n",
        "\n",
        "# define os sistema de equações\n",
        "eq1 = sp.Eq( -10/s + IA + (5000/s)*(IA-IB), 0)             \n",
        "eq2 = sp.Eq(-(5000/s)*(IA-IB) + 0.5*s*IB + 8*IB, 0)  \n",
        "\n",
        "# resolve o sistema\n",
        "soluc = sp.solve([eq1, eq2],[IA, IB], dict=True)\n",
        "soluc\n",
        "\n",
        "IA = [sol[IA] for sol in soluc]\n",
        "IB = [sol[IB] for sol in soluc]\n",
        "\n",
        "IA = IA[0]\n",
        "IB = IB[0]\n",
        "\n",
        "V_Th = 8*IB\n",
        "Z_Th = (9*s**2 + 45080*s + 490000)/(0.5*s**2 + 2508*s + 45000)\n",
        "\n",
        "print('Correntes no domínio de Laplace: \\n')\n",
        "symdisp('I_A(s) =', IA, 'As')\n",
        "symdisp('I_B(s) =', IB, 'As')\n",
        "print(\"\\n\\n\")"
      ],
      "metadata": {
        "colab": {
          "base_uri": "https://localhost:8080/",
          "height": 177
        },
        "id": "SP6BHlavZukw",
        "outputId": "4f187822-f748-4e25-9499-99f8786edfbe"
      },
      "execution_count": null,
      "outputs": [
        {
          "output_type": "stream",
          "name": "stdout",
          "text": [
            "Correntes no domínio de Laplace: \n",
            "\n"
          ]
        },
        {
          "output_type": "display_data",
          "data": {
            "text/plain": [
              "<IPython.core.display.Math object>"
            ],
            "text/latex": "$\\displaystyle I_A(s) =\\frac{10.0 s^{2} + 160.0 s + 100000.0}{s^{3} + 5016.0 s^{2} + 90000.0 s}\\;As$"
          },
          "metadata": {}
        },
        {
          "output_type": "display_data",
          "data": {
            "text/plain": [
              "<IPython.core.display.Math object>"
            ],
            "text/latex": "$\\displaystyle I_B(s) =\\frac{100000.0}{s^{3} + 5016.0 s^{2} + 90000.0 s}\\;As$"
          },
          "metadata": {}
        },
        {
          "output_type": "stream",
          "name": "stdout",
          "text": [
            "\n",
            "\n",
            "\n"
          ]
        }
      ]
    },
    {
      "cell_type": "code",
      "source": [
        "print(\"\\n\\nTensão e Impedância de Thévenin:\\n\")\n",
        "symdisp('V_{Th}(s) =', V_Th.simplify(), 'Vs');print('\\n')\n",
        "symdisp('Z_{Th}(s) =', Z_Th, 'Ω')"
      ],
      "metadata": {
        "id": "fjrl77rr1syd",
        "outputId": "f56389ff-f46c-41d6-b24f-3ea3f4f55947",
        "colab": {
          "base_uri": "https://localhost:8080/",
          "height": 198
        }
      },
      "execution_count": null,
      "outputs": [
        {
          "output_type": "stream",
          "name": "stdout",
          "text": [
            "\n",
            "\n",
            "Tensão e Impedância de Thévenin:\n",
            "\n"
          ]
        },
        {
          "output_type": "display_data",
          "data": {
            "text/plain": [
              "<IPython.core.display.Math object>"
            ],
            "text/latex": "$\\displaystyle V_{Th}(s) =\\frac{800000.0}{s \\left(s^{2} + 5016.0 s + 90000.0\\right)}\\;Vs$"
          },
          "metadata": {}
        },
        {
          "output_type": "stream",
          "name": "stdout",
          "text": [
            "\n",
            "\n"
          ]
        },
        {
          "output_type": "display_data",
          "data": {
            "text/plain": [
              "<IPython.core.display.Math object>"
            ],
            "text/latex": "$\\displaystyle Z_{Th}(s) =\\frac{9 s^{2} + 45080 s + 490000}{0.5 s^{2} + 2508 s + 45000}\\;Ω$"
          },
          "metadata": {}
        }
      ]
    },
    {
      "cell_type": "markdown",
      "source": [
        "#### **Conferindo a partir do comportamento da inversa**"
      ],
      "metadata": {
        "id": "wgd9HRO9wCIj"
      }
    },
    {
      "cell_type": "markdown",
      "source": [
        "**Expandindo em frações parciais**"
      ],
      "metadata": {
        "id": "sjiv4dvoeiaZ"
      }
    },
    {
      "cell_type": "code",
      "source": [
        "# Tirando as raízes do D(s)\n",
        "np.roots([9, 46080, 5506000, 90000000,0])"
      ],
      "metadata": {
        "colab": {
          "base_uri": "https://localhost:8080/"
        },
        "id": "P87VCg--eeUo",
        "outputId": "d40686ad-0ff6-42e4-aa02-ce734a90a7cf"
      },
      "execution_count": null,
      "outputs": [
        {
          "output_type": "execute_result",
          "data": {
            "text/plain": [
              "array([-4997.99569816,  -102.48058356,   -19.52371828,     0.        ])"
            ]
          },
          "metadata": {},
          "execution_count": 30
        }
      ]
    },
    {
      "cell_type": "code",
      "source": [
        "# Expansão em frações parciais do V_C1(s)\n",
        "symdisp('F_{V_C1}(s) = ', partFrac(V_C1, 4) , ' Vs' )"
      ],
      "metadata": {
        "colab": {
          "base_uri": "https://localhost:8080/",
          "height": 52
        },
        "id": "QRLNbZlMfqiK",
        "outputId": "b2a85d6b-b381-4fd9-aefc-2084eabd58df"
      },
      "execution_count": null,
      "outputs": [
        {
          "output_type": "display_data",
          "data": {
            "text/plain": [
              "<IPython.core.display.Math object>"
            ],
            "text/latex": "$\\displaystyle F_{V_C1}(s) = - \\frac{10.01}{s + 4998.0} - \\frac{0.02117}{s + 102.5} + \\frac{1.14}{s + 19.52} + \\frac{8.889}{s}\\; Vs$"
          },
          "metadata": {}
        }
      ]
    },
    {
      "cell_type": "code",
      "source": [
        "# Expansão em frações parciais do V_C2(s)\n",
        "symdisp('F_{V_C2}(s) = ', partFrac(V_C2, 4) , ' Vs' )"
      ],
      "metadata": {
        "colab": {
          "base_uri": "https://localhost:8080/",
          "height": 52
        },
        "id": "b0kNTN9ZgAcV",
        "outputId": "4e48125e-1c60-466c-8bb6-41203cf1328f"
      },
      "execution_count": null,
      "outputs": [
        {
          "output_type": "display_data",
          "data": {
            "text/plain": [
              "<IPython.core.display.Math object>"
            ],
            "text/latex": "$\\displaystyle F_{V_C2}(s) = - \\frac{0.0007297}{s + 4998.0} + \\frac{2.136}{s + 102.5} - \\frac{11.02}{s + 19.52} + \\frac{8.889}{s}\\; Vs$"
          },
          "metadata": {}
        }
      ]
    },
    {
      "cell_type": "code",
      "source": [
        "# Expansão em frações parciais do I_L(s)\n",
        "symdisp('F_{I_L}(s) = ', partFrac(I_L, 4) , ' As' )"
      ],
      "metadata": {
        "colab": {
          "base_uri": "https://localhost:8080/",
          "height": 52
        },
        "id": "nncfJXGngNgX",
        "outputId": "268a56a7-f92f-4282-d73f-467bd15fa409"
      },
      "execution_count": null,
      "outputs": [
        {
          "output_type": "display_data",
          "data": {
            "text/plain": [
              "<IPython.core.display.Math object>"
            ],
            "text/latex": "$\\displaystyle F_{I_L}(s) = \\frac{0.004012}{s + 4998.0} + \\frac{0.02074}{s + 102.5} - \\frac{1.136}{s + 19.52} + \\frac{1.111}{s}\\; As$"
          },
          "metadata": {}
        }
      ]
    },
    {
      "cell_type": "markdown",
      "source": [
        "**Determinando $i_{L}(t), v_{C_1}(t)$ e $v_{C_2}(t)$.**"
      ],
      "metadata": {
        "id": "-eJuHVUNghfy"
      }
    },
    {
      "cell_type": "code",
      "source": [
        "v_c1 = (8.89 + 1.14*sp.exp(-19.52*t) - 0.02117*sp.exp(-102.5*t) - 10.01*sp.exp(-4998*t))*sp.Heaviside(t)\n",
        "\n",
        "symdisp('v_{c1}(t) = ', v_c1, 'V')"
      ],
      "metadata": {
        "colab": {
          "base_uri": "https://localhost:8080/",
          "height": 38
        },
        "id": "x4pMCm0bovWO",
        "outputId": "d19ebc8c-8ec3-4a1f-806c-7d5328672867"
      },
      "execution_count": null,
      "outputs": [
        {
          "output_type": "display_data",
          "data": {
            "text/plain": [
              "<IPython.core.display.Math object>"
            ],
            "text/latex": "$\\displaystyle v_{c1}(t) = \\left(8.89 - 0.02117 e^{- 102.5 t} + 1.14 e^{- 19.52 t} - 10.01 e^{- 4998 t}\\right) \\theta\\left(t\\right)\\;V$"
          },
          "metadata": {}
        }
      ]
    },
    {
      "cell_type": "code",
      "source": [
        "v_c2 = (8.89 - 11.02*sp.exp(-19.52*t) + 2.136*sp.exp(-102.5*t) - 0.0007297*sp.exp(-4998*t))*sp.Heaviside(t)\n",
        "\n",
        "symdisp('v_{c2}(t) = ', v_c2, 'V')"
      ],
      "metadata": {
        "colab": {
          "base_uri": "https://localhost:8080/",
          "height": 38
        },
        "id": "_w-2Yibfinth",
        "outputId": "2b41152e-a147-43a7-9be7-770a633a7447"
      },
      "execution_count": null,
      "outputs": [
        {
          "output_type": "display_data",
          "data": {
            "text/plain": [
              "<IPython.core.display.Math object>"
            ],
            "text/latex": "$\\displaystyle v_{c2}(t) = \\left(8.89 + 2.136 e^{- 102.5 t} - 11.02 e^{- 19.52 t} - 0.0007297 e^{- 4998 t}\\right) \\theta\\left(t\\right)\\;V$"
          },
          "metadata": {}
        }
      ]
    },
    {
      "cell_type": "code",
      "source": [
        "i_l = (1.11 - 1.136*sp.exp(-19.52*t) + 0.02074*sp.exp(-102.5*t) + 0.004012*sp.exp(-4998*t))*sp.Heaviside(t)\n",
        "\n",
        "symdisp('i_l(t) = ', i_l, 'A')"
      ],
      "metadata": {
        "colab": {
          "base_uri": "https://localhost:8080/",
          "height": 38
        },
        "id": "xr09spXwgidF",
        "outputId": "84f3897b-90f1-4cf3-b375-f7abc0e59e2c"
      },
      "execution_count": null,
      "outputs": [
        {
          "output_type": "display_data",
          "data": {
            "text/plain": [
              "<IPython.core.display.Math object>"
            ],
            "text/latex": "$\\displaystyle i_l(t) = \\left(1.11 + 0.02074 e^{- 102.5 t} - 1.136 e^{- 19.52 t} + 0.004012 e^{- 4998 t}\\right) \\theta\\left(t\\right)\\;A$"
          },
          "metadata": {}
        }
      ]
    },
    {
      "cell_type": "markdown",
      "source": [
        "**Plotagem das tensões e corrente para conferir resultados.**"
      ],
      "metadata": {
        "id": "wjj4VDi4rWmu"
      }
    },
    {
      "cell_type": "code",
      "source": [
        "intervalo = np.arange(-0.15, 1, 0.00005)\n",
        "symplot(t, v_c1, intervalo, 'v_{c1}(t)')"
      ],
      "metadata": {
        "colab": {
          "base_uri": "https://localhost:8080/",
          "height": 388
        },
        "id": "EmHMHqvQpB51",
        "outputId": "79934d80-10d9-4ddb-bbac-548df882e348"
      },
      "execution_count": null,
      "outputs": [
        {
          "output_type": "execute_result",
          "data": {
            "text/plain": [
              "<Figure size 720x432 with 1 Axes>"
            ],
            "image/png": "[encoded data removed]"
          },
          "metadata": {},
          "execution_count": 37
        }
      ]
    },
    {
      "cell_type": "code",
      "source": [
        "intervalo = np.arange(-0.15, 1, 0.00005)\n",
        "symplot(t, i_l, intervalo, 'i_l(t)')"
      ],
      "metadata": {
        "colab": {
          "base_uri": "https://localhost:8080/",
          "height": 388
        },
        "id": "QAxkaZaXpdLN",
        "outputId": "683ba84a-0433-4e3c-f760-f430a7129eba"
      },
      "execution_count": null,
      "outputs": [
        {
          "output_type": "execute_result",
          "data": {
            "text/plain": [
              "<Figure size 720x432 with 1 Axes>"
            ],
            "image/png": "[encoded data removed]"
          },
          "metadata": {},
          "execution_count": 38
        }
      ]
    },
    {
      "cell_type": "code",
      "source": [
        "intervalo = np.arange(-0.15, 1, 0.00005)\n",
        "symplot(t, v_c2, intervalo, 'v_{c2}(t)')"
      ],
      "metadata": {
        "colab": {
          "base_uri": "https://localhost:8080/",
          "height": 388
        },
        "id": "JzQoHP2KpVil",
        "outputId": "c18667fa-ab89-4bcd-e59c-9e729dfeb059"
      },
      "execution_count": null,
      "outputs": [
        {
          "output_type": "execute_result",
          "data": {
            "text/plain": [
              "<Figure size 720x432 with 1 Axes>"
            ],
            "image/png": "[encoded data removed]"
          },
          "metadata": {},
          "execution_count": 39
        }
      ]
    },
    {
      "cell_type": "markdown",
      "source": [
        "## _**Problema 4**_\n",
        "\n",
        "![image.png](data:image/png;base64,iVBORw0KGgoAAAANSUhEUgAAAZ8AAAEbCAYAAAAFw4laAAAAAXNSR0IArs4c6QAAAARnQU1BAACxjwv8YQUAAAAJcEhZcwAADsMAAA7DAcdvqGQAAENhSURBVHhe7d0HeBRFHwbwN5dKIPQmXUAIEJooCAIKiFI0FEEEqaL0XqR8gFIslNCrIB0pgnQURERApSOQBCK9BkKHEFJvv/tP9o5LCKQQLrnk/fnck9nZuyPm9vbdnZ2ZddBMQEREZEMG/ScREZHNMHyIiMjm2OxG9s94DwE7NmHH8euI8CiM19+tj6qF3PWVIgrntszAssMPYHB0NG30kYiMMD3giqz5PVHT2xuVcjvqzyUiW2D4kH17sA+TWrfCiB3ByOIRjpvX7yHc7RW0mrUFC9sWg5P+NBF2cBiqVPOBx5AtmNUyD8Iu/YOFwwdiztX6WLx3CT7Ox4YAIlvht43sWrj/evwc2hm7rl7H5au3ELhvMt7PdgbLB43Cpgf6k3QOjx4ixFAStZrUgJdnaVSq2xE+E9rj5cD1+GnnI/1ZRGQLDB+ya8bASFTp2R0VPWTJgGyvdcPXn1eA4y0/HLsQqZ5jdi8gAFcylESZ4lbnQ07OcDTkQf581udIRPSiMXzIrrk1HocJ72fUl4QB2bNlhoNLbryUy3rzDsdJ31MwFiuDMm56lTEQm2avxp06A9C9hqteSUS2wPChNOYOdv3lj5ze7dHIOnyMd+B34grcX8mPkD/WYMnM0eji/RHmZf4K21Z1RUn2NyCyKYYPpSnBu8fC53h9TJ3QDLmtt+4If/id0lDc61WE7/wanfuuROYhW7FlahuUzaQ/RwnDuc1j0eXjpmjevj+m/H4RMRvviCg5MHwozTAGrkXfoQFou3wGPozVc8142x8nAj3g6VUK1f83CwPLnsfMPmOxP1R/gi7ywFgMWBqJmh174RPP05j4YUv4+DF+iJIbw4fShrt7MKrTAhQeuxi9yluP8YkW4eeLUyiO0mWcAfcqGDKrP0qdmIBu3+xDiP4cEXy3ND6bPgSt6r6NxgNGoG3RG7gUFKWvJaLkwvAh+/fwCCZ1/BZhfX7A0GpZ9EprRgT5BSAoqyfKFIi+uOP2+iDM6FcK/j7d8e3ex/GTtW4z1M8R/bWIPL8fFz37sjMC0QvA8CH7FnYS89q2xso8DVHh5nYsX7IIC36Yi9kzpmLKigO4q54UjmPHTkIrVgqlTCc+0dxRedBkdC/qC5/uY/BXsF5tYryxBeP79EarltNxPlM4gm4a9TVElFw4wwHZsXvY2qMyGs38D2FxbMUuNX1wYlUV7Jy1AD/MXIB9Lm+ja9eOaN+rFSqpcUHAnV864zXvBQh/qx+mzv4aTYrLmZHR9J8BhvBz+OGjqhhsGAff1W2Rh4dqRMmG4UN2LTwkGOGaE5ydneDk5ARHRCEyMhLhEREwOrjA3VVDaJgpiNxcYTCG4VFoFFwzuVtNuxOFcFNyOTlFIQKucHYwxY7BnDJGXJv5Hl5ZVhf/7voCxdgdmyjZ8FiO7JqLeyZkyugGVxdT8MjWbHCEk4sr3DOa6t1dTIumsrsrnEzrDE6uyBgjeIQjXFyd1PNcHW9h5dgZeNy5LRQn/7uL6i0bowiDhyhZ8cyHyCIKJ8e+h+b73kCP5l5wveaLEw7voH+vt2OOGSKi58bwIYohFNf8juBUcA6UqVQC2TnlG9ELwfAhIiKbY2MCERHZHM98KFW5e/cuxo0bh4wZM6JOnTp444039DVJs2rVKgQGBiJ79uxo06aNXps0//77L/78809Vbt26NXLkyKHKRJR4DB9KVXr37o2pU6eqcsGCBXHx4kVVTgp5beHChfUlwNfXF2XKlNGXEq9EiRI4deqUKo8YMQIjR45UZSJKPDa7Uapx4sQJzJw5U18CLl26hK1bt+pLiTd58mS9FM3Hx0cvJd7evXstwSNmzZqFR49491OipGL4UKrRp08fNUDU2oQJE/RS4kjz3dy5c/WlaMuWLVNNcEkxfvx4vRTtxo0bWLRokb5ERInF8KFUYePGjdi2bZsqV69eHe+8844qb9++XV1rSaw5c+YgODh6wjZPT0/1Mzw83NKklxinT5/GunXrVLlIkSJwc4u+FerEiRNhNHLeN6KkYPhQipNQ6NevnyrL1DYSEAMGDFDLIrFnP9YhkyVLFuzatQt58uRRy9ahlFDWISOdIcwdF6QZbv369apMRIkkHQ6IUtJ3330nnV7U47PPPtNrNa1cuXKqzsnJSbtw4YJeG78FCxZY3s8UYqpuzJgxlrrJkyeruoS4ceOGliFDBvW6okWLapGRkdrJkyc1BwcHVVe1alX9mUSUGAwfSlGBgYGah4eH2pGbzlK0oKAgfY2mLVq0yBIYffv21Wvj5+XlpV7j7OysXbp0SdXdunVLy5gxo6ovXLiwCpGEGDlypOV3mDZtml6rad7e3pb6PXv26LVElFAMH0pR7dq1s+zEfXx89Npo4eHhWoECBdQ6Cai7d+/qa55uy5Ytlvdr06aNXhutZ8+elnXLly/Xa5/u0aNHWq5cudTzs2fPrj18+FBfo2m7d++2vFfjxo31WiJKKIYPpZh9+/ZZmq88PT1V2MQ2btw4y05emufiU7t2bcvzjx49qtdGO3v2rObo6KjWVapUSa99utmzZ1vea9iwYXrtY2+88YZaZzAYtICAAL2WiBKC4UMpwmg0Wnbe8vjll1/0NTHdu3dPy5w5s3pOvnz54gwos0OHDlne791339VrY2revLnlOTt27NBrnxQVFaWVKFFCPc/V1VW7fv26vuax1atXW96rc+fOei0RJYRdz3Awf/581XvJ3PWV7IdsdlevXsX58+fx6quvYv/+/fqaJ0nPN/MA0YULF6Jdu3aqHFurVq2wfPlyVf7tt98s3bWtHThwAJUrV1blBg0aYPPmzaocm3StbtKkiSp//vnn+P7771XZmvSAk1kPzpw5o7ZBmVEhV65c+trHHj58iJIlSyJ37tzw8NBvoUp2RcafZcuWDZs2bdJr6HnZdfgMHz4cR44cwcCBA/UasjcyGLRQoUKoWLGiXvOky5cvo2jRooiIiICXlxeOHz+ur3nswoULKF68uNpJVKhQQW0XT/PWW2+p7tcODg7qveKacufNN9/E33//rZ4jMy9IeMRFZmTo3r27Kj9tyh3p9i3TBonBgwejXr16qkz2QwYVt2jRAqYzYr2GnpuEj72SdvhRo0bpS5SWtW7d2tLEFVcTXZ8+fSzrly5dqtfGbePGjZbndujQQa99zBQ6lvXSq+1ZQkJCtJw5c6rnyk9Ztia96ooUKaLWu7u7azdv3tTXkD2RXpjy+VLy4SBTsgvWZ7exp7qRs6d58+apskxGKkeoz9KwYUOUKlVKleOacsf6/a0Hu8YlQ4YM6NatmyqbggULFixQZbPVq1erpkVhCjrOhE2kY/iQXShXrhzq1q2ryjt27IjRrDZ79mzLrAXSvOXk9Ozbj0pTWv/+/VXZejYEIVPpmGctqFKlCmrUqKHKz9KjRw/LdcdJkybFmHLHPDuDzNxgnsWBiBg+ZEfiOvuJPZVOp06dVDk+cj+evHnzqrJ1eFlPpRPfWY+ZdDIwd4KQ8Fq7dq0q79y5EwcPHlTlpk2bqutWRBSN4UN2Q858ypcvr8o//fST6l1m3WwmwZPQ3mSurq7o2bOnKpub7aTZTHrTCQkKCYyEkrMaObsR5rMd6znp2CmGKCaGD9kV89mI9GqTsxRzF2xnZ2dLj7KE6tq1q7pjqpB7/0yZMsVyjx7rMEkI6XLt7e2tynLvH7mdw5YtW9SyNN2Zu3cTUTSGD9mVjz/+WHUqEBIWfn5+qtyyZUvkz59flRNKxm107NhRlaWr9pgxY1RZOgVI54DEsj67kbMwTR/FkNDmO6L0hOFDdkU6E8R1hpPUHXzfvn3h6OioL0WTMyJ3d3d9KeGqVauGqlWr6kvRZHzQBx98oC8RkRnDh+xO7E4Fci2obNmy+lLiyM3hmjVrpi9FM18LSorY13akV530riOimBg+ZHekU8GwYcOQPXt29Rg0aJC+JmkkMMzvJcEj0+AkVaNGjdR0QfJeMuNC27Zt9TVEZM3up9dxcXFRP4mIXhSZXqd06dLqJyUPnvkQEZHNMXyIiMjmGD5ERGRzDB8iIrI5hg8REdkcw4eIiGyO4UNERDbH8CEiIptj+BARkc0xfIiIyOYYPkREZHMMHyIisjmGDxER2RzDh4iIbI7hQ0RENsfwISIim2P4EBGRzTF8iIjI5hg+RERkcwwfIiKyOYYPERHZHMOHiIhsjuFDREQ2x/AhIiKbY/gQEZHNMXyIiMjmGD5ERGRzDB8iIrI5hg8REdkcw4eIiGyO4UNERDbH8CEiIptj+BARkc0xfIiIyOYYPkREZHMMHyIisjmGDxER2RzDh4iIbI7hQ0RENsfwISIim2P4EBGRzTF8iIjI5hg+RERkcwwfIiKyOYYPERHZHMOHiIhsjuFDREQ2x/AhIiKbY/gQEZHNMXyIiMjmGD5ERGRzDB8iIrI5hg8REdmcg2ail+3O8OHD4eLion6mecZ7CNixCTuOX0eER2G8/m59VC3krq+MFnVuC2YsO4wHBkc4OmiIjIwwPQDXrPnhWdMb3pVyw1F/LqUPxnsB2LFpB45fj4BH4dfxbv2qiLnZROHclhlYdvgBDI6Oph1CJCIjTA+4Imt+T9T09kal3Nxqbty4gdKlS6uflEwkfOzVsGHDtFGjRulLadj9vdpE76Japky5tfwvZdVcDQ6ag3sJ7ZNFp7UI/SkWoQe0/5V31tyqj9B2HD+h+R3cps3rUUXL5lxQa7X8ihalP43Svvt7J2reRTNpmXLn117K6qoZHBw09xKfaItOP7HVmDab/2nlnd206iN2aMdP+GkHt83TelTJpjkXbKUtv8KtJigoSMuZM6e+RMmBzW52INx/PX4O7YxdV6/j8tVbCNw3Ge9nO4Plg0Zh0wP9SWYOj/AwxICStZqghpcnSleqi44+E9D+5UCs/2knHulPo7QuHP7rf0Zo5124ev0yrt4KxL7J7yPbmeUYNGoTntxsHiLEUBK1mtSAl2dpVKrbET4T2uPlwPX4aSe3Gkp+DB87YAyMRJWe3VHRQ5YMyPZaN3z9eQU43vLDsQuR6jkW9wIQcCUDSpYpDie9CqaSs6MBefLns6qjtM2IwMgq6Nm9IqI3m2x4rdvX+LyCI275HcOTm00ArmQoiTLFrbYQJ2c4GvIgfz5uNZT8GD52wK3xOEx4P6O+JAzIni0zHFxy46VcMT/C8JO+OGUshjJl3PQa005o02ysvlMHA7rXgKteS2mdGxqPm4CYm012ZMvsAJfcLyHmZhOOk76nYCxWBo83m0Bsmr0ad+oMQPca3Goo+TF87NId7PrLHzm926NRjL2IEXf8TuCK+yvIH/IH1iyZidFdvPHRvMz4atsqdC3JC8fp2p1d+Ms/J7zbN4oZPsY78DtxBe6v5EfIH2uwZOZodPH+CPMyf4Vtq7qCmw29CAwfOxS8eyx8jtfH1AnNkDvGJxgBf79T0Ip74dXwnfi6c1+szDwEW7dMRZuymfTnPPbw3A7MGjgMP56P0mso7QrG7rE+OF5/KiY0yx3zix/hD79TGop7vYrwnV+jc9+VyDxkK7ZMbYOYm00Yzm0eiy4fN0Xz9v0x5feLiNV6R5RgDB87Ywxci75DA9B2+Qx8mC/Wx2e8Df8TgfDw9EKp6v8zBUtZnJ/ZB2P3h+pP0EUFYNngzhi+ZA1Wzv8Vp4Pttrc9JYgRgWv7YmhAWyyf8SGe3Gz8cSLQA55epVD9f7MwsOx5zOwzFrE3m8gDYzFgaSRqduyFTzxPY+KHLeHjx/ihpGH42JO7ezCq0wIUHrsYvcrHHOOjRPjB9xRQvHQZOMMdVYbMQv9SJzCh2zfYF6I/RziWxCffzcHEL97Dyxkc9EpKq+7uGYVOCwpj7OJeiHuz8cUpFEfpMs6AexUMmdUfpU5MQLdv9sF6swm+WxqfTR+CVnXfRuMBI9C26A1cCuJZMyUNw8dePDyCSR2/RVifHzC0Wha9MiZjkB8CgrLCs0yB6MGkbq9j0Ix+KOXvg+7f7o2xI6H04eGRSej4bRj6/DAUcW82RgT5BSAoqyfKFIi+uOP2+iDM6FcK/j7d8e3ex1tN1rrNUD9H9C4j8vx+XPTsy84IlGQMH3sQdhLz2rbGyjwNUeHmdixfsggLfpiL2TOmYsqKA7irPy382DGc1IqhVCnTEazOvfIgTO5eFL6mHcmYv4L1WkoPwk7OQ9vWK5GnYQXc3L4cSxYtwA9zZ2PG1ClYccCy1eDYsZPQipXC483GHZUHTUb3or7w6T4G1puN8cYWjO/TG61aTsf5TOEIumnU1xAlkj7Y1C6ljxkO7mq/di+huTpALsw88XCp6aOdiwjS9vzwpdaxWi7N4Jhfq91jjLbs4H399Sa3t2idijppzgXqaIN+PqVF6tXao/Va+/yvaSOPPzninezc3V+17iVcNYc4thnARavpc06LCtqj/fBlR61aLoPmmL+21mPMMi3mZtNJK+rkrBWoM0j7+ZR5q4mKniUj7Kw2r1EeLWeTRdq1dDABAmc4SH6c280OhIcEI1xzgrOzE5ycnOCIKERGRiI8IgJGBxe4uzsiIiTMtE9xg6vBiLBHoYhyzQR3q7GBUeFh0EyvjYoAXF31vrOhG9Ch+Gi8/Os/GOHFgYRpSzhCgsNNn7kznE2fu5OT6TOPijRtN+GIiDDCwcUd7o4RiN5sXGEwhuFRaBRcM7lbDUSOQniYZnptFCLgCmcHIwwGc2OJEddmvodXltXFv7u+QLE03h2bc7slPza72QEX90zIlNEULC6m4JFPzOAIJxdXuGc01bu7mD5ER7i6u8PVybTS4ARXU7118AhH0/OdTK+zBI9Ojj3s9/CDns50UJIpEzKagsXFFDzRm40TXFzdkdFU7+5iqnE0bUPusl3IZuNqqrcOHuFoer6T6XWucHW8hZVjZ+Bx57ZQnPzvLqq3bIwiaTx46MWQbZLSHSPu/LsWs32WYe+tc/ht9jQs+vOCvo4oLllR0bAeH380DHOWr8DCSd/glyLjsahbiejOLUSJxGa3dMoYGYYIoyOcTUfAWngEIkzHvG4u3I3Qs4Timt8RnArOgTKVSiB7OmqpZbNb8uOZTzolzSzSjGeQRjsXVwYPJYAb8papihpV0lfw0IvB8EkhISEhMBrZTZUSTraXhw8f6ktE9o3hkwJOnDiBLFmywNHREXXr1tVrk65+/frIlCkTsmbNiitXrui1STN37lz1XvKYOXOmXkupwfTp09XnItvNhAkT9NqkuX37NnLnzq3er1q1anpt0n300UfqvTJnzoz//vtPryV6BrnmY6/sdZzPu+++q4+3iH4cOHBAX5N4hw4divFeAwcO1NckXlRUlJY/f37Le+XIkUOLjLSMCqIUdOPGDc3d3d3y2WTLlk0LCwvT1ybemDFjLO8lj99//11fk3gBAQEx3qtz5876mrSD43ySH898bGzDhg3Ytm2bvhRt/PjxeinxYr92zpw5uH//vr6UOPK7WZ853bp1C2vWrNGXKCVJpxppqjW7c+cOfvzxR30pcUyhhWnTpulL0Z7nTMrHx0cvRVu0aBEvzFO8GD42FB4ejv79+6uyDNZzcIie1FN28OfOnVPlxLhw4QJWr16tL0WT4JGms6SIawf0vM079PyOHTtm+UydnR9PnRR7p59QS5YswfXr1/WlaL/++iv8/Pz0pYQznRFg8eLF+lK00NBQ1URI9CwMHxuaNGkSTp8+rcqffvopli1bpspRUVFqXWLJa2SmAzFjxgx4eKgbJmPy5MmIiIhQ5YT6559/8Ndff6myt7c3PvzwQ1U+cOAA/vzzT1WmlNG7d2+1jYjly5ejTZs2quzr64tffvlFlRNK0zRLaMkwBXOoSX1SDjQkZCRshLxvzpw5VVm2x0ePHqkyUZxU45udsqdrPoGBgZopHFSbeJYsWVQbsikgtMKFC6u6jBkzardu3dKfHb87d+5omTJlUq8tVKiQeq++ffta2t1NR7f6MxOmadOmltfu2rVL27t3r2X5/fff159FtvbTTz9ZPodatWqpuqNHj1rqateureoSasOGDZbXmg6ANKPRqJUuXVotm8JIu3Lliv7M+D18+FBdF5TX5sqVSwsJCdG+/PJLy/ubAkh/pv3jNZ/kx/CxkXbt2lm+lKYjRL1W00xnL5Z6uQicUN98880T73fhwgXNyclJ1ZUvX17VJcSpU6c0g8GgXlelShW9VtOqV6+u6hwcHDR/f3+9lmzFdOagFSlSRH0Gjo6O2rFjx/Q1MTutSKeThKpRo4blM/Xz81N1P/zwg+W9Bg0apOoSwnTWY3mdhI6QnXSGDBlUXbFixVQnlrSA4ZP87Dp8BgwYoA0ZMkRfSr327dunvuzyhSxZsqQWHh6ur9G0Bw8eaFmzZlXr8ubNq4WGhuprnk56Ob300kvqNXIWdf/+46mIW7VqperlsW3bNr322bp27Wp5jRxpm61fv95S37FjR73WvsmR/vXr19WOPbWTAyvz379bt256bbTffvvNsq5ly5Z67bPJdmh+TcOGDfXa6O1Jtj2pl21Rtsn4SKhIuMhrJGykN55Zly5dLP/O6tWr9Vr7dvnyZS179uzs/ZmM7DJ8pGmgatWq6mhdHnKEfu3aNX1t6iI7uzfeeMPyZdyyZYu+5rHBgwdb1s+bN0+vfbr58+dbnv/FF1/otdEOHz5sWSdHx/GRnYb5SLVo0aIxjlTld5ewlHWurq6q6dCebd++XXUld3NzU4/u3bun2iPzS5cuWbpWy04vribZChUqqPVytitnvfFp3ry5er48/vjjD7022tdff21ZN3HiRL326SRUzM+XsLH233//Wc6kZdu3d6NHj47xWSxbtkxfQ8/D7sJHdoiyk5RmCPPGL18+2UmmRosXL7b8ng0aNNBrY7p69apqb5fnlCpVSv0/Po2si6+Nvk6dOpZ/U64PPMtXX31lea40o8T2/fffW9YPHTpUr7U/MhbFepyMPGRZzp5TI+sz2GnTpum1MS1dutTynD59+ui1cTtz5ozlO/Paa6/ptY/dvn37iWuIzyLNs/JcCRlpto2tSZMmlt9t9+7deq39mT17dpzbzZ9//qk/g5LK7iYWlZ5XH3zwAR48eKDXRDMdvePbb7+Faeet16QOph02Dh06pO7DI11ZS5Qooa+JSXq/LViwQJU3btyI999/X5VjM505oWHDhqrcrl07LFy4UJWtSbdZmfVASM+o2F1hzaQ3UuHChdWYjBw5cuDixYswfbH0tdFkTIg8R7rmmo761HMyZsyor41Jun3LCPfUSMY/rVu37okpjUxndFi/fr2l23tqIN3lZXuQbVy25+PHj6tZDWKTno6mAzGYzpLU7ALyU2a5iEvPnj0t3Z9XrFiBFi1aqLI16VU3depUVZaemKYAVOXY9uzZgxo1aqiyKWTw888/q7K1v//+G2+++aYqN2rUSP3t4yJjl2SoQZ48efSa1EW+Y9euXdOXHpPvp3xPKensLnxkQ5UvZuyBlPLlLFu2LHLlyqXXpA7y5718+TLKlCnzxJgca/7+/vDy8lLPr1mz5lO7N9eqVQs7d+5UZdkpyWviUq5cObVexoWcPXsWBQoU0Nc8ZjqqQ9euXVVZBjGOGjVKlWMbPXo0RowYocpTpkxBr169VNmafEHz58+vdoLFixdXYZaayN8irp2IMJ0pWt0kLXWQrvLSLV8+kw4dOui1T5LuzaazN1WWg6/BgwersjWZSqdgwYJqR1+kSBH1vnGF2fnz59VnJ926K1asiMOHD+trYpIwkQHJQrrnP216HqmXLvwS7CdPnozzwMt0Zo3OnTur8JF/O/bBT0r7448/LMMZrJnOHtUwBHoOEj72RHqdSHu9/OrWD6mTpgN7Js1y5v+f/fv367WPHTx40LK+Xr16em3cTGdElufG1bQk1zpeeeUVtV7+dnIR/mlu3rxpaXqQ3ldxXXSVjh/mf0+a6lIb09G+6s5u/h3Nj7iaoOyJdDaRTify/yKdUOKackeuWZj/f00HD3pt3ExnRJbnyjWy2EwhYuk8YwoXvTZupjMiy3t16tRJr43JFHJqvTQJmsJPr0095DqZubnS/JDvi/Q2pedjlx0O5NqEXCSXL4E8pDx37lx9rf3asWOHZQOXjT62+HYM1qRHnXmetsyZM2v37t3T10RLyI7BmlycNz9fduTWpHeUzDUm60xHsAnqsWdrEpgS7uYAkg4UstM2nRHpz7BfMp+f+bORzijW5LPInTu3WiefUXBwsL4mbvEd4Hz++eeW9bINPUt8BziyDZvf6+OPP9ZrUxfp5Sahbj74ku1HAjO+vyPFzy7DR8iYhzfffFOrWbOmZbxCWlCpUiW1kcvR1tmzZ/VaTR0Vmo/AZONPiLFjx1q+3OPHj9dro0lvQamX8JaL8fF51gXryZMnW/4dOcpOrWRnuHHjRrUzlgv0ckaXFsgO0tnZWf39y5Qpo9dGS0qHkbffftvyGuuxRRIe5lYHCZWE9BScNWuW5b2GDx+u10Z77733LOsk9FIrObgaN26c+n9fvnx5jKESlHR2Gz7CXme1fhbZuM1fyJ49e+q1mta7d29LfUK7et69e9cyq0KBAgUsX5q//vrL8l6NGjVSdQnRrFkzy+t27typ6uSMwjwQMrGzNKQUCfjnmUk8NWrbtq3lszF355eekZ6enqouMV3lN2/ebHkvGRxtJuFhrpdQSQiZ9UBmP5DXyGwIMiuCkFAzv5d55obUjINMkx/DJ5WJa2ee2G6w1vr162f5kku3b9G4cWNLXWK6wcY1SNE6LHv06KHqUru0GD5x7cyTOkhYQkvOoOR1ckYlZ1axp9JJzCDduLrzW4elhF1qx/BJfgyfVMi6GUum3LGeSichAwCtXbx40TLlTrly5VQT2/MMAIw9PcvTmglTs7QYPsK6GUum3LH+rBI7PVLsgczWU+lImCSG9UBmmRVBBsRaNxM+a1xbasHwSX4Mn1TI+gK+THdiXZZ1iWU9YPHll1+2lJMy9Yn10bT1e8XVQSK1SqvhYz3ljvVnYz2VTkJZT+EkZ93mpjMJEeupdBLKesod698tdgeJ1Irhk/x4S4VUSMbKmL6sqnz37l114zAh4yFkXWINHDhQL8Fy3yAZUyEDBBNLBvh6enqqsvU9iKz/DUoZ77zzjhqfI573s5HbLZjHcwUHB1tuDte+fXvLbRMSQ+5jZR5LZf7d8uXLh08++USVKf1h+KRS8sW3vnGYzJAQ1+DOhKhQoYIaSGmtb9++SRpY6eDggH79+ulL0WRQ7Ouvv64vUUoy36zQTD6Xt956S19KHDkAin2wE/uzTyg52JHBqdZk1gUJOUqfGD6pVN68edG0aVN9KXoaEzlSTKrYR7/PGjUfn7Zt2+qlaDzrST1iT5tjnv0gKWSqHuvPunbt2ipEkir2dmI+u6f0ye6m17EmU8LIkZP8TItkHjXznSrr1aun5lh7HvPnz1fTtsg0JzJNz/OQ6X9kyhQ5I5PpjuSMyF7I1CgytZD8TItkyhu5y6mc2cpn4xjHVDoJJVMSydx3QsLnlVdeUeWkklt4m6f5ee+99/Ta1E+aHUuXLm1pfqTnx/ChdCethw8lP4ZP8mOzGxER2RzDh4iIbI7hQ0RENsfwISIim2P4EBGRzTF8iIjI5hg+RERkcwwfIiKyOYYPERHZHMOHiIhsjuFDREQ2x/AhIiKbY/gQEZHNMXyIiMjmGD5ERGRzDB8iSmeMCA+P1MuUUhg+RJS+hG5EtzZzcMWoL1OKYPgQUToTgcgw00NfopTB8CEiIptj+BARkc0xfIiIyOYcNBO9bHeGDx8OFxcX9ZMooV577TXMnj1b/aS0LXzfZHz23U7cM1rt5ozXcfTwI5R8rQjc9Crh4FYBnWd+ifo5njwmv3HjBkqXLq1+UvJg+FC6w/BJX4xRUTBa7+ZCf0bHVpfx5epeKGSVMw4OTnB01BdiYfgkPza7EVGaZjAlipOTk9XDAAeDAY4x6p4ePPRiMHyIiMjmGD5ERGRzDB8iIrI5hg+lS3PmzMHFixf1JUpXnCvj017vIi/3fimKf35Kd27fvo158+bB09MTX375JUJCQvQ1lC44FkLN2qXhqi9SymD4ULoTFRWlfj569AijRo1SIbRixQpVR0S2wfChdOfs2bOYOXMmcuTIoZYvXbqEli1bombNmjhy5IiqI6IXi+FD6Y6joyO6du2KU6dOoWfPnmqMh9i9e7caeNqpUycOJiR6wRg+lG5ly5YNU6dOxdGjR1G3bl1VZzQaMXfuXLzyyiuYNGkSIiIiVD0RJS+GD6V7Mm3Ktm3bsG7dOhQrVkzV3bt3D/369UPFihXVMhElL4YPka5Ro0ZYu3atvhRNrgcRUfKzq4lFIyMj4evri8OHD6vusps2bVLt9w0aNFAXj+UotUyZMpY2fKKE+uuvvzB+/Hhs2LAB1l+JkiVL4uTJk/oSpVecWDT5pfrwOXjwIJYuXYp9+/bh33//RWhoqL4mbhkyZECFChVQpUoVtG3bls0m9FRyfUfOdHx8fPDPP//otdGKFy+umt3at2+vtilK3xg+yS9Vhk94eDhWrlyJ6dOnY//+/Xpt0lSrVg09evRAs2bN4OzsrNdSeibjexYsWKA6FJw+fVqvjVa1alUMGDAAjRs3hsHAVmmKxvBJfqkufFatWoXevXvj2rVrek20TFmyoWi5Sigmj7KvIke+gnBxy6CaSCLCQnHzykWcOX4YZ44exFnTz4f37+qvjJYvXz4VZk2aNNFrKL2RHYdsAzLG5+bNm3otVMh4e3ur0HnzzTf1WqLHGD7JL9WEj+wMunXrhp9++kmvid4pvPauN+q17Qqvam/rtfGT/6Xjf+3Ar4tm4fDvm1Xzitknn3yCadOmqW62lD7IeB5pWlu0aFGMZls3Nze0a9dONa+VKFFCryV6EsMn+aWK8Nm6davaCVy/fl0ty82fGnzaEw069EBO0xnO0xzesQVOLq4oV72OXvOkG5cvYPMPU01BNNMSQi+99JK6jlS7dm21TGmTdCKYMGGC6kRgfQCSM2dOdaAjzbG5cuXSa4mejuGT/FI8fGTH0Lx5c3WdRxQoXgrdJ/6gmtfiM6JZLRU+I378Va95uv8O78OM/h0ReO6UWnZ1dVXjOurVq6eWKW2QkJHPVUInrk4Effv2RYcOHdiJgBKF4ZP8UvSKauzgadixF8Zu3peg4Dl54C+cPPg3fP/+A6ePHtRrn67Eq1Uw/pcDeK9NF7UcFhamLir/+mv8wUWpn3QimDVrluoa/eGHH8YInjfeeAOrV69GQECAOuNh8BClvBQLn19++SVG8Hw8YCTaDR8PZ9MZSULMG9ZLLwHzR/TRS88mHRQ6jp6CZr2HqWVzAG3fvl0tk/2aPHmyChZz7zW5XiiDRvfs2aOCSAKJvdeIUo8U+TbKtZ02bdrECJ6mPQarckJcPOmLiwG++hJw+thBXD0ToC/F76O+w2MEkHRCsO79RPYndutxuXLlMHz4cPZeI0qlUiR8ZNbgW7duqbJ3p36JCh6xbtY4vaQz7XjWzZ6gLySMBJB0aBBBQUHqqJnsV+XKlfVSNBmQLDNU16pVC5s3b34inIgoZdk8fBYvXqyu9YjCpcri44GjVDmhgi6dw98bH3fHNtu99kfcCrysLyXMJ4O/UR0chHTxljFGZJ/eeecdNQP1smXLYsxqsXPnTrz//vvw8vLC/PnzLWfbRJSybBo+wcHB6NMn+vqMo5MTuvvMh1MiZx3YMGdijG6zZlGRkdg4d7K+lDByfUl61knXbiFdb+XCNdknmdOvVatWau4/uY5n3ZPR398fHTt2RJEiRfDtt9/i7t2Yg5CJyLZsGj4yyO/OnTuq3LjrFyhSupwqJ9TdG9fxx0+L9KUn/b78BwTfva0vJYz0rHv/s+hAlG6UP/74oyqTfatTp47q1HL8+HE1hszFxUXVBwYGYujQoShYsKA6ELpw4YKqJyLbsuk4H+knf+LECXXGMeufs8icPae+JmF+HDsM62aN15fi1rzPMNNjuL6UMHeDrqFrtWLq7EmabOTImdKWq1evYsqUKZgzZ466V4+ZzIou8/4NHDgQlSrF38Wf7IPcn+n+/fv60vOTbUbGiEnTbXIqUKCAGgqQHiUpfEIOTEXn7+6h07LhqOGmV8bj999/V+3y4u1mbdBtwjxVTqiQ+/dUQDwKfqDXxC1T1uyY+fdpuLln1GsSZkqvNvhrQ/Q1H+mey15SadODBw8wb9481TX74sWLem20t99+W4VQ/fr14eDgoNfGwXgPATs2Ycfx64jwKIzX362PqoXc9ZXRos5twYxlh/HA4AhHBw2RkRGmB+CaNT88a3rDu1JuRDf20otQqlQpu7gVRtOmTbFmzRp9KW4Pz/6G5Udyo/2H5RH7ZjHGB6fx5+btOHZNQ+4K7+GDt4sik75OxLf++UTCd9U4rDlphJOzk2k7N/17pu08wrShG1WsGOCctwY6dK6D/HG0sSWh2S0KgQe24+AdJ7gm4tULFy7US0C99t31UsLt/eVnuHtkQY6XCiB7nnwqZMw8suVQdbLONYM79v+6Tl+TcPXaPe7tZv27Utri4eGhjmDPnDkTZ+eEhg0bomzZsk/vnPBgHyY1eRWvNemHr8ePxhedm+PNUhXRevEZ01fxMceXG6DXwHp4tOpLjNwShjebtMBH3tWQ++w8dKz6GtquuIonr1wS6YzBOPvHDxjerg5erVQPPZYcQ+ytMcz/e7RsOAQHPCqgqhewpcvrqNZjI67pG1Z865+fE0o37oVOtR9i7Zf/w9jfHsGr2luoXasm3ni1NAq4+GHlmuMxvhfWbNbsJvfElwGAeQsXw9Q//fXapJMeb5N7tlblAbNXonK9xqr8PLpWLaZ6zEnPKLlWQOmDnJXLdDxxzXYht10wd5IR4fuGos6IrJi6+gtU9DDizsHpaNe4HzZHfYI1/y1CYw/9iSJ8N/p61cUfH+/FwVEVoo9aw/egX9la+N5rEa6vaYXEnZ/bochjmFC/ESafdkGWzBngkrsJZqxugVM9m2LAvhr44Z9Z8M6e/Jeek7vZ7UV5WrNb2K7v0GVtJrTqXg8nOpXBF5nn4fa6NrCcX0f9h0nv1Mau9kewpl0udRbx4NfOKNdoF5rtPIrxlc8/e33V6GugySJkGZrmaou/W6zH+fnvw9IYFvozPusWginzW8e5ndskfKRnkXkW6Te9P0LvqUtU+Xm8iPCZ0KWFOmuS6wDSxpsxY5rfNZAVOeAwz35tJh0TrJvnQtd9gWFOX2LC++ZtIxLHR76BSl8Dww7vxQgvq4aRG/PQoMhAeMy/hJUt9MaO8L0YVOEtrH5nK/ynvo2EzedhvyKPTcGX/7yHoR0L4tzib/FbiUHo/fodHNu+BF90mIfiy09iZp20/ld4DsZATK9bBAM8YoZPpO8oU2j9gTb+v6N3IT28g1ejVeFW8Ou2D/tabET1Z6w/NLriE014SRbyIz7M3RZ/fbQuZvggzLQfBbJkifvzTeQhRzD8VwzEe68UQ8cNz76jqDW5G6lZsbKp96Ku3CdIREVF4ciRI6pM6YPcol3CJ74zXrfG46yCRxiQPVtmOLjkxku5Yn6dwk/64pSxGMqUMX8djQjcNBur79TBgO410nzwCEPhNhjQ0RMOhyZgxMFKaFvNAwbXQqhQty5ezZcTuXLxyldSPDhwACdd8qFAbqttLkNplC4KnA/4D7fiWW/dhBd12x+/LfHB4I4fYtDaq/Bb/gWa166Btxp0wLdbryAKIdF1dd7CO027Y9qeoAQ0GUfCb9lP8M/w9K08EeETgqM/LcTB8EjcvJINRYolPDcPHTqkl6BuCJdaWU9oav07U9olY8+kaU1mvJZplqx7OlavXh3ff/+9vvQ0d7DrL3/k9G6PRjHCx4g7fidwxf0V5A/5A2uWzMToLt74aF5mfLVtFbqWTB87XUOW7MjmcAIzh2xGyXYNkcP8Jwq/gMvutfCep9V+JPI69i8dia7t2qJVk3fx1ps10KDDd9gayKtjMUXi8sVARGbMhEzW/WIcPODh4YCw+7dx9pnr78F6NGNk0AWcO7MLKxZtwNppA+BzrAiadWuLivc3YnjzZujUvxd8jhdB866t4RW0Ev0af46FF2N/JhoibvyHA/sP4OChg9i3exOWrvgTz/roEhE+7ijfvAea5XiAoAJvouYrCQ8f62nI8xR6WS+lPrmtfjdOnZ62yXifwYMHq2Y1uZmcebyPNLm2aNECB0xHjrt37473lhvBu8eavpj1MXVCM1gfZAIR8Pc7Ba24F14N34mvO/fFysxDsHXLVLQpG6M/Eu4eWoQhHZqh6cefYcicPbj2tCu0diry32VYdq4i3q7w+DrDw11/IqRha1TWq4y39+C79r2x0aM1Ji1ajB/XbsOfvy1CW7druJ6Ynk3pghEhjx5Bc3CIuQM3eCBTBlPaGBzUYPmnrzfAOpNcPeujU8/3UcrJAe7V+mPWt93QotnnGOfzGUo+OoR/M/XC7G+64SO9rsT937FpV4j+6sdCz+zE8h9XmB4/YtnSldh5LuKZAZPITzUch3/fjYjKb6FSrOtVxtCHCI3SF2KxvnukzCydWrm4Pm6t5EwHaZOfn5+6n4/MdDB27FjLTAdyfa9Xr16qU8yKFSvUvHDxMQauRd+hAWi7fAY+zBfrq2S8Df8TgfDw9EKp6v/DrIFlcX5mH4zdH6u5+sEq9O7xKzLXbIoPKhjx25AGaDz26FN7CNmj4GNHcSZLHuQxn+xFncWyX7Kga/dy0dcdjNewpm9fHGs4BSMbFXt8zcC9COp0aY+aWfRl0hng6uoC7WEwgq2v2BvDEB5hCpNMmeHxzPUeVtdldKbAkv9y5y8A85wzLsWLopCjAbkLFIB5d6/qDJGm/WPsvncO8HijEyZO9oGPz0RMnbMQoxvmRlTynPmYRAbg913XUbHmm5YLX8ZbB/Dz/HmYPq4/Gtfph9/C9BVWrPs0PHP8RApzsJpy30adAMlGduzYgQYNGqhu1NKV3tyNOm/evPj6669x6dIlNQhVQilB7u7BqE4LUHjsYvQqH3OMjxLhB99TQPHSZUxfZndUGTIL/UudwIRu32Cf1UFjVFAoqgyeZTrzaYUOg7/H3O5Fcfy3HbiShlqaHE07QsNlPxy/Jf9T9/DPtNkIbTMEdbNGr486tQhT/66EDk3yxNohGZCrfAUU4WWhWAzImycnDI/u4571sYx2D/eDDcj/8svI/8z1RRLW2SDWGZISV12cXFFjyBDUi+OrYZao8DFe/h1/BHiiRk3T/5iqCcamIZNwte6n6DViBmaMbIS4LgXJvfLNwkNT7xmF9e/GG47ZP+k4snz5cnUWY55ux3xQIYMQZbDp+fPn1XQ75t6YCfLwCCZ1/BZhfX7A0GpxH5Ybg/wQEJQVnmUKRA8mdXsdg2b0Qyl/H3T/di/M+eNYrD26NdL3wqavtZtpu8tWqMjjayNpgEeDruiYfzt6vlkD73r3xZ7y/dCj8uOmx+C9f8O3cFl4JWPv37TNgOxeZVAwyg+Hj1qdgUScwalLWVG5WjnkfeZ6L8uZzIvkmjXbM4cSJGoTv7frTxzNVh5lIn7F0q3nEAXTFznyAKZ91hXDJq5A4MtvoGgcRylZs5q/XMDt64F6KfW5E3RNL8X8ncm+SCcCmcGgWLFiaqJR684jb731FjZu3Kia32SiUbmdeqKEncS8tq2xMk9DVLi5HcuXLMKCH+Zi9oypmLLiAMzTlYYfO4aTWjFTyD2eONe98iBMNp3Z+Pp0x5i/gvVaKyEHsXRbZvQb1DAZR6GnAlnfgc/+szi8ZRV+XjcfA2vltdrxROH2zTuIcnaBSxoK3OQTgUi5nBEVafpLPeZSuSkaFr6C3zfux0O97uG+rfgn88f4tG7GeNc/wWiUvXnMSZstdU9eT9Gs66IiEBGlITIiQq9IGMevTPRyPKJwccsUTPv9LKIKNEK3VhWR2eCKkvWao2r2R7h6cCEGT7qMOh3eRp5YG5EM9pIjUPFymQooVj7+9vT4XPrPX816IKq93xz5i3uq8vPY98taHN31myrLNCuy8yL7IZ0IvvnmG7Ru3Rrr1q2zzOEmnQjkrrkLFizA//73P5QoUSKJzb/3sLVPHbRdchIXDmzB6tVr8PPadVi/YSM2b/kVO2544vM2xeG3cDy+mboMey49MO04wuCcpyLK5pOQc0Gh11/GpeWTMXPlXjx8uRpqlcoevSM23sYfo76E74ez8GWNrAls2rAjTu7IliMzXJ5sx4Hh/GZM+zkUdTrXR+GE92NK4+5h38LvMH3uXCz5JQA3r5zHyasXcS60AKqXymn6exZEpdLh2PTtBOyIyIKok2vx3VRfvDtpKloXc4t/vZUH+xZgzNiF2Hz4Iq7dvoXgDIVRLuQXfKvqLuDarRu4Z8iDShULwC30MJb5bMDhmzdxT8uODGcWY+qEJdhw9AruBV3BlRu34Vi0Ckpki/9IInGDTENv4XpoFuTJqm8h99Zj6Y6aaN0kG3BrPlp9Ho5vV3dB4Vj/ruwU8uXLp8q1PmqHruPi674avxcxyHRq73bYs36FKt++fTtxTTGUouTgRs5yrEkngk8//VRNp/Pyy8nTyzI8JBjhmhOcnZ3ULRwcTQdlMkYo3HTUZ3Rwgbu7IyJCwkw54wZXgxFhj0IR5ZoJ7lY71ajwMGim15oOGE1nXtJUEIKjM/phfpYB8GldPPkG/9kJ441VaF2hN+4P24k1XUs+Hv9kCuTjvvdRqlwCr1GkMbKtRRic4ersDCcHDeHhoabzIFdkdLP6a4Reh+/effjvYW68+vYbKBL7pCa+9SIyFCGRBri6OMHBGIHQKEe4OUYiVK9DZDjCjE5wV/9uJMJMm7ezs9H0+5gOHRwioTm6wtlg2o61SNPZTzg0Z3eozToezzXDQaTveDTrdgglGtZAUY9MKNGoNWrnj/tflWkkrly5gkIly2DC1uefNfpFhE/vWl4IPHdKnfFIryeyH3LGI2c1Zq+++iq2bt2KnDkTN3O67YUjYNEATAn9HBM7l4FT2CM8fBgKQ8Yc8EgPo1AVI4L++AafdpmLK6UaoF7FPNBuBuKuYz680bIb2laJnh4mMc6dO6dukZ/ayVyD+fPn15fSl+efXifsFgLvZ0SeXG7P3EBk9ta1a9eqssztJnO8PY/kDp8rp0+i7zvlVfnjjz+2NBOSfZg2bZrqKm1N5hOUMTxyP5/U2YHEiFubu6Nas3k4F+UAo7TrG01fR8fC6LY1ADPS27QzxmBc8juOC8HuyFeiJIrkePY+5VnS0qzWaVVSP9vHXHPgpXiCR7Rs2VIvAduWzNFLqcevi2bpJTzRfEOpX8+ePdWgUG9vb8v1nFOnTqFr164oXLgw5NLmzZs3VX3qYUC29ybj2N2HeBQajsgoI6IiIxD6MABTaqWz4BGGTChYtiqqVy2Pos8RPGQfbDartbSLyxgKaXpzz5wFc/adV7c/SKrkPPMJeXAfXaoUQWjIQ3VtQJrcDFZjfsi+BAQEYOLEiVi8eHGMAc5y9iNnQf3791fT6VDaNWPGjGSdpeThw4fqPb/44gu9JnnIDTY/+ugjfSl9sVn4iNGjR2PEiBGq/OmoyajXtqsqJ0Vyhs+meVOweEz0RjVu3DjV043sX1BQEKZPn46ZM2fi1q1beq3pANt0YNGoUSP1OVetWlWvJXo6CTIJCk67lXxsenjfqVMny7iKFeNHqHvnpLSgS+exauJIVZYjYxn7QWlD7ty5MWrUKHVLBAkhc9d5Gcsg1x+rVaum7lgr5RjjG4johbNp+OTJkwfDhw9XZWnqmj2oiyqnFDnpmznwc9XcJuTMLHv2x3dIpbTB3d0d3bt3x3///YeffvoJlStX1teYzqD//ltd9JUL1LNnz47RTEdEL47NL2zITMKvv/66KsuAzm1Ln3/MT1L9smA6/PfuUmU5ApbxIJR2SXNbs2bNsG/fPuzatQsffPCBpXOCBJN0TihUqBBGjhyZCjsnEKUtNg8fGW0ud4o0z/c2/8s+lpkKbGnP+pWW6zxyZCyTTbKTQfpRo0YNbNiwASdOnMDnn39uaQ6WNn3pGSch1K1bN473InpBUmRvK00c0htJGKOiMLlH60QHkMHJEc6mHYY8DKZASwwJnul921va+adOncreT+lUyZIl1Q3j5H4+w4YNszS7yi01Zs2apSYkJaLkZ9PebrHJ/fIHDBigyhIgnb6ZgdotOqjlF0XGGMnZljl4ZHBijx49VJnSN5kLTrZJufZnJjebkw4LlL6xt1vyS9F2JhlvMWHCBFWWMyDpgDC2Y1PctZpdOrncvnYF37T7APOG92LwUAwSLnK9T4LGOniEXBciouSXomc+ZtINVoLIfIOvTFmyofXQ71CzSSs4uTzfnSciwsLw55olWPrdUITcj57lWNr3palNun5T+nXkyBGMHz9e9YCTQdBmmTNnVttG79691ZyERDzzSX6pInzEsWPH1Ojzf//9V68BsuTMjTofd8S7rT9H9ryJm3zv5tVLqifdjhXzcf/2455L0tNOOjzIdSdKn+SmcnLGLXc3tSZBI4EjwSMBRGTG8El+qSZ8REREBMaMGaNmKLY+EpXrQSUqVkHRcpVQTH/kzFcQzq7RPeYiwkJx88pFnD52CGeOHsQZ08/T/+6PMXDQxXQGJbMrDBo0SE2FT+mLnFX/+OOP6pqOr6+vXhutfPny6sxbJpR1dn588zciM4ZP8ktV4WMm99OXnkZz58597vEWMspdjmS7dOmSbqcuT8+kE4EMHpVm1qtXr+q10erWraum2JGfRM/C8El+qTJ8zOR+HCtWrMCSJUtw4MABdUfUhMiSJYsaxd62bVs1aZ+c9VD6Ip0I5Fba8+bNw4MHD/RauQmWM1q0aKF6WcoZD1FCPE/4yIHv2LFj1X6JHkvV4WNNfk0ZhX7w4EEcPnxY3Wl0//79amCoXMeR8RlyAzEpy5idpN0mmeydXDOUTgSrVq16ohOBDCbt06cPOxFQoj1P+Mi0YnJNW37SY3YTPnGReeLkrMY8XxylXxI6HTp0iNFhRUhTq3Qi6Ny5MzsRUJIxfJIf55OhNGHLli0xgkfuyyS9GuV2ynJdh8FDlLowfChNunPnjpq3jROEEqVODB9KE9q0aaMu7MokseLu3bv47rvv1N1zP/30U/j7+6t6IkodGD6UJsjUONI9X7rpyxQ55vZ1Gd+zYMECeHl5oWHDhti5c6eqJ6KUxfChNEV6Pcrs1DJLtcxW7enpqeqlX41cF6pVq5YKqtgdE4jIthg+lCbJ/H3StVqa29avX6/u32N269atGN2wicj2GD6Upsl4L29vb3XnUrmDqdzJNG/evPpaIkopDB9KN2TWC5nB2nzDOKLUIQQHprbBh6N3I1SvSQ8YPkREKSkqEAe2H8QdJ9d0tUNm+BARpSTHYui24QR2DKmM9DQLJcOHiIhsjuFDRJRSgv2xYuB7eKVYR2xITxd8TBg+RJR2RZ3F8n7N0LhRIzR61qNxU3w645D+IhsJOYqfFh5EeORNXMlWBMXS2T0uOas1pTuvvfaausGc/KT0IApRkRqeuaNzcFB3TH7a0fiLm9U6BJs/K4m+GZfCd8pbVtd8InF9/wrMXvAbzty7j2tXgvAoYwk07P0NBr/3kv4c+8YzHyJK4xzh6OSkbp//1MczgueFCj+M33dHoPJblR4Hj/E29nzXHr03eqD1pEVY/ONabPvzNyxq64Zr1131J9k/hg8RUQqJDPgdu65XRM03oyfENSUPrq3pi77HGmLKyEYo5qZXwx1F6nRB+5pp526oDB8iohRhxOXf/0CAZw3UzKnviqNOYdHUv1GpQxPkibV3NuQqjwpFHPUl+8fwISJKEfew68+jyFa+DCJ+XYqt56KA4L3427cwynql/RE/DB8iopQQFYQrgY9w7+8V2JbxHbzzsiOibt/EnShnuLik/V0zw4eIKCU4lkTfzRdw4chy9H87L6RBzTH7S8jtdBq+fmHRz0nDGD5ERCnELUceZLUe3+NRFx/VC8GqcfMRECN/jLh9/BjOp6E7gTB8iIhSC0MuNJu8FN0xGe++0Rhdh4zEV4N7onOXfph26BEypqE9NsOHiCgVMeSuhWGbTsBvw2i0bfgumnT6ClNmTsaX7asgF8OHiIheHAMyFSyLqtWronzRHHBLg3tqhg8RUTLy9fXFjh07LI/w8HDs3r3bsrx37179mekbw4eIKBnJ7drr1KmDpk2bqse9e/fQsWNHVZb6JUuW6M9M3xg+RETJqE2bNsiWLZsKHXnI3M33799XZTc3NwwePFh/ZvrG8CEiSkYy0/6QIUPg7m6ery2ao6MjvL29UbBgQb0mfWP4EBEls65du8JgiLl7lVAaOXKkvkQMHyKiZJYpUyb07NlTNbMJBwcHVK9eHZ6enmqZGD5ERC9E//79VegICaGvv/5alSkaw4eI6AXIkSMH2rVrp8olS5bE66+/rsoUjeFDRPSCDB06VP3krf6fxPAhInpBpGfbjBkz1BgfionhQ0T0AnXr1k0vkTWGDxER2RzDh4iIbI7hQ0RENsfwISIim2P4EBGRzTF8iIjI5hg+RERkcwwfIiKyOYYPpStnzpzBrVu31N0mjUajXktEtsbwoXRD7iDp5eWFixcv4osvvkCJEiUQFBSkryUiW2L4ULqwfft2TJ8+HaGhoeqMJyQkBBcuXLDMOkxEtuWgyQ3G7dSYMWOwdetWTlVO8ZLtxN/fX196TO630qtXryfuOklk7dGjR1i/fj2uXr2q19DzsuvwkV990qRJ+hLR061atUpd54lNQmfs2LEMH4pXnTp1UL58eX2Jnpddhw9RQknw1KpVSx3Bmrm6uqJJkyZYvny5XkNEtsLDPUoXqlSpAh8fH2TIkAFZsmSBu7s7KleujLlz5+rPICJb4pkPpSv37t3D4cOH8dJLL8HT01OvJSJbY/gQEZHNsdmNiIhsjuFDREQ2x/AhIiKbY/gQEZHNMXyIiMjmGD5ERGRzDB8iIrI5hg8REdkcw4eIiGwM+D/mUtg1FrDKvQAAAABJRU5ErkJggg==)\n",
        "\n",
        "a. Determine a função transferência $H(s)$ de $i_s$ para $v_c$ e a resposta ao impulso $h(t)$.\n",
        "\n",
        "b. Determine $i_{c}(t)$ via integral de convolução assumindo $i_s(t) = 0.5[u(t)-u(t-1)] A.$"
      ],
      "metadata": {
        "id": "C_sLULBuvSbp"
      }
    },
    {
      "cell_type": "code",
      "source": [
        "H, s = sp.symbols('H(s), s')\n",
        "\n",
        "H = 6.4 / (s + 0.377)\n",
        "\n",
        "print('Função Transferência: \\n')\n",
        "symdisp('H(s) =', H)"
      ],
      "metadata": {
        "colab": {
          "base_uri": "https://localhost:8080/",
          "height": 87
        },
        "id": "ciIcpDkhvWr_",
        "outputId": "2efae09f-3bc4-4701-beb3-f3aebb02705f"
      },
      "execution_count": null,
      "outputs": [
        {
          "output_type": "stream",
          "name": "stdout",
          "text": [
            "Função Transferência: \n",
            "\n"
          ]
        },
        {
          "output_type": "display_data",
          "data": {
            "text/plain": [
              "<IPython.core.display.Math object>"
            ],
            "text/latex": "$\\displaystyle H(s) =\\frac{6.4}{s + 0.377}\\; $"
          },
          "metadata": {}
        }
      ]
    },
    {
      "cell_type": "code",
      "source": [
        "i_s = 0.5*(sp.Heaviside(t)-sp.Heaviside(t-1))\n",
        "\n",
        "symdisp('i_{s}(t) =', i_s , ' A')\n",
        "\n",
        "# plot i_s (porta)\n",
        "intervalo = np.arange(-1, 3, 0.01)\n",
        "symplot(t, i_s, intervalo, 'i_{s}(t)')"
      ],
      "metadata": {
        "id": "46FSpY8HwZd_",
        "colab": {
          "base_uri": "https://localhost:8080/",
          "height": 409
        },
        "outputId": "144b7c6e-9f46-4072-f7f6-295382b8bdf9"
      },
      "execution_count": null,
      "outputs": [
        {
          "output_type": "display_data",
          "data": {
            "text/plain": [
              "<IPython.core.display.Math object>"
            ],
            "text/latex": "$\\displaystyle i_{s}(t) =0.5 \\theta\\left(t\\right) - 0.5 \\theta\\left(t - 1\\right)\\; A$"
          },
          "metadata": {}
        },
        {
          "output_type": "execute_result",
          "data": {
            "text/plain": [
              "<Figure size 720x432 with 1 Axes>"
            ],
            "image/png": "[encoded data removed]"
          },
          "metadata": {},
          "execution_count": 57
        }
      ]
    },
    {
      "cell_type": "markdown",
      "source": [
        "**Resposta ao impulso h(t) e seu gráfico**"
      ],
      "metadata": {
        "id": "G9tEgiQ5Fzg3"
      }
    },
    {
      "cell_type": "code",
      "source": [
        "h = (6.4*sp.exp(-0.377*t) )*sp.Heaviside(t)\n",
        "symdisp('h(t) = ', h)\n",
        "\n",
        "# plot h(t)\n",
        "intervalo = np.arange(-1, 6, 0.01)\n",
        "symplot(t, h, intervalo, 'h(t)')"
      ],
      "metadata": {
        "colab": {
          "base_uri": "https://localhost:8080/",
          "height": 409
        },
        "id": "AHwKco_r7ePj",
        "outputId": "f753062f-70a5-4218-b732-15437a6c907e"
      },
      "execution_count": null,
      "outputs": [
        {
          "output_type": "display_data",
          "data": {
            "text/plain": [
              "<IPython.core.display.Math object>"
            ],
            "text/latex": "$\\displaystyle h(t) = 6.4 e^{- 0.377 t} \\theta\\left(t\\right)\\; $"
          },
          "metadata": {}
        },
        {
          "output_type": "execute_result",
          "data": {
            "text/plain": [
              "<Figure size 720x432 with 1 Axes>"
            ],
            "image/png": "[encoded data removed]"
          },
          "metadata": {},
          "execution_count": 42
        }
      ]
    },
    {
      "cell_type": "code",
      "source": [
        "vc1 = 0 # 1º intervalo\n",
        "\n",
        "vc2 = sp.integrate(3.2*sp.exp(-0.37*τ), (τ, 0, t)) # 2º intervalo\n",
        "\n",
        "vc3 = sp.integrate(3.2*sp.exp(-0.37*τ), (τ, t-1, t)) # 3º intervalo\n",
        "\n",
        "\n",
        "vc = sp.Piecewise((vc1, t<0),\n",
        "                 (vc2, (t>=0)&(t<1)), \n",
        "                 (vc3, (t>=1)))\n",
        "\n",
        "symdisp('v_{c}(t) = ', vc)"
      ],
      "metadata": {
        "id": "cy6avdC6Fkfq",
        "colab": {
          "base_uri": "https://localhost:8080/",
          "height": 90
        },
        "outputId": "7d1bf6da-cd5e-469f-b7ae-86730a12e897"
      },
      "execution_count": null,
      "outputs": [
        {
          "output_type": "display_data",
          "data": {
            "text/plain": [
              "<IPython.core.display.Math object>"
            ],
            "text/latex": "$\\displaystyle v_{c}(t) = \\begin{cases} 0 & \\text{for}\\: t < 0 \\\\8.64864864864865 - 8.64864864864865 e^{- 0.37 t} & \\text{for}\\: t < 1 \\\\3.87229937006119 e^{- 0.37 t} & \\text{otherwise} \\end{cases}\\; $"
          },
          "metadata": {}
        }
      ]
    },
    {
      "cell_type": "code",
      "source": [
        "# plot v_c\n",
        "intervalo = np.arange(-1, 10, 0.0001)\n",
        "symplot(t, vc, intervalo, 'v_{c}(t)')"
      ],
      "metadata": {
        "colab": {
          "base_uri": "https://localhost:8080/",
          "height": 388
        },
        "id": "somApeyW4_ux",
        "outputId": "9135d3c2-56f2-4138-f104-b7d2d4ec6222"
      },
      "execution_count": null,
      "outputs": [
        {
          "output_type": "execute_result",
          "data": {
            "text/plain": [
              "<Figure size 720x432 with 1 Axes>"
            ],
            "image/png": "[encoded data removed]"
          },
          "metadata": {},
          "execution_count": 44
        }
      ]
    },
    {
      "cell_type": "code",
      "source": [
        "C = 100e-3 # Valor do capacitor\n",
        "\n",
        "i_c1 = 0 # 1° intervalo\n",
        "\n",
        "i_c2 = C * sp.diff(vc2, t) # 2° intervalo\n",
        "\n",
        "i_c3 = C * sp.diff(vc3,t) # 3° intervalo\n",
        " \n",
        "i_c = sp.Piecewise((i_c1, t<0),\n",
        "                 (i_c2, (t>=0)&(t<1)), \n",
        "                 (i_c3, (t>=1)))\n",
        "\n",
        "symdisp('i_{c}(t) = ', i_c, \"A\")"
      ],
      "metadata": {
        "colab": {
          "base_uri": "https://localhost:8080/",
          "height": 90
        },
        "id": "zuH6wLTT9Z6X",
        "outputId": "99ac6018-8265-4020-e7fb-9253da825172"
      },
      "execution_count": null,
      "outputs": [
        {
          "output_type": "display_data",
          "data": {
            "text/plain": [
              "<IPython.core.display.Math object>"
            ],
            "text/latex": "$\\displaystyle i_{c}(t) = \\begin{cases} 0 & \\text{for}\\: t < 0 \\\\0.32 e^{- 0.37 t} & \\text{for}\\: t < 1 \\\\- 0.143275076692264 e^{- 0.37 t} & \\text{otherwise} \\end{cases}\\;A$"
          },
          "metadata": {}
        }
      ]
    },
    {
      "cell_type": "code",
      "source": [
        "# plot i_c\n",
        "intervalo = np.arange(-1, 10, 0.0001)\n",
        "symplot(t, i_c, intervalo, 'i_{c}(t)')"
      ],
      "metadata": {
        "colab": {
          "base_uri": "https://localhost:8080/",
          "height": 388
        },
        "id": "IkTgIm6l-Uy8",
        "outputId": "5c496862-ba62-4d15-c55a-800e33fa6332"
      },
      "execution_count": null,
      "outputs": [
        {
          "output_type": "execute_result",
          "data": {
            "text/plain": [
              "<Figure size 720x432 with 1 Axes>"
            ],
            "image/png": "[encoded data removed]"
          },
          "metadata": {},
          "execution_count": 53
        }
      ]
    },
    {
      "cell_type": "code",
      "source": [],
      "metadata": {
        "id": "hplDzOz2_K9u"
      },
      "execution_count": null,
      "outputs": []
    }
  ]
}